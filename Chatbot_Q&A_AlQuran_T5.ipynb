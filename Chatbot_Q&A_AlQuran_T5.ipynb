{
  "nbformat": 4,
  "nbformat_minor": 0,
  "metadata": {
    "colab": {
      "provenance": [],
      "gpuType": "T4",
      "mount_file_id": "1r2inAyFEOvAq_YCZqE5lcsj4UV_p7NSR",
      "authorship_tag": "ABX9TyO3/GXIs77DA+DO5LhA71Aj"
    },
    "kernelspec": {
      "name": "python3",
      "display_name": "Python 3"
    },
    "language_info": {
      "name": "python"
    },
    "accelerator": "GPU",
  },
  "cells": [
    {
      "cell_type": "markdown",
      "source": [
        "# Chatbot Q&A Quranic Reasoning"
      ],
      "metadata": {
        "id": "Z2kCIsh0YcjZ"
      }
    },
    {
      "cell_type": "markdown",
      "source": [
        "## Business Understanding"
      ],
      "metadata": {
        "id": "_lA7EIiOYqjq"
      }
    },
    {
      "cell_type": "markdown",
      "source": [
        "- Bagaimana potensi penggunaan QRQA Dataset dalam mengembangkan produk edukasi digital Islam berbasis AI (seperti chatbot tanya jawab, aplikasi pembelajaran, atau virtual mufti)?\n",
        "\n",
        "  _Untuk mengidentifikasi peluang produk turunan dan segmen pasar potensial (pelajar, akademisi, pesantren digital, dll.)._\n",
        "\n",
        "- Model bahasa mana (seperti LLaMA, Mistral, DeepSeek, dsb.) yang paling cocok untuk fine-tuning dengan QRQA Dataset dalam konteks kecepatan, akurasi, dan efisiensi biaya?\n",
        "\n",
        "  _Akan dites pada Notebook ini._\n",
        "\n",
        "- Bagaimana cara mengukur efektivitas reasoning model terhadap pertanyaan-pertanyaan kompleks dalam QRQA?\n",
        "\n",
        "  _Menggunakan metrik evaluasi seperti BLEU, ROUGE, atau human-evaluated Islamic consistency score._"
      ],
      "metadata": {
        "id": "5Zi-CzoNYvlG"
      }
    },
    {
      "cell_type": "markdown",
      "source": [
        "## Data and Tools Acquisition"
      ],
      "metadata": {
        "id": "Z3zVrsUFeGzS"
      }
    },
    {
      "cell_type": "code",
      "source": [
        "!pip install transformers\n",
        "!pip install kaggle\n",
        "!pip install rouge-score"
      ],
      "metadata": {
        "colab": {
          "base_uri": "https://localhost:8080/"
        },
        "id": "wXOjcKVjYu5d",
        "outputId": "ee504b09-d74a-4ce4-8b8a-f9f4ad4ca679"
      },
      "execution_count": 33,
      "outputs": [
        {
          "output_type": "stream",
          "name": "stdout",
          "text": [
            "Requirement already satisfied: transformers in /usr/local/lib/python3.11/dist-packages (4.50.3)\n",
            "Requirement already satisfied: filelock in /usr/local/lib/python3.11/dist-packages (from transformers) (3.18.0)\n",
            "Requirement already satisfied: huggingface-hub<1.0,>=0.26.0 in /usr/local/lib/python3.11/dist-packages (from transformers) (0.30.1)\n",
            "Requirement already satisfied: numpy>=1.17 in /usr/local/lib/python3.11/dist-packages (from transformers) (2.0.2)\n",
            "Requirement already satisfied: packaging>=20.0 in /usr/local/lib/python3.11/dist-packages (from transformers) (24.2)\n",
            "Requirement already satisfied: pyyaml>=5.1 in /usr/local/lib/python3.11/dist-packages (from transformers) (6.0.2)\n",
            "Requirement already satisfied: regex!=2019.12.17 in /usr/local/lib/python3.11/dist-packages (from transformers) (2024.11.6)\n",
            "Requirement already satisfied: requests in /usr/local/lib/python3.11/dist-packages (from transformers) (2.32.3)\n",
            "Requirement already satisfied: tokenizers<0.22,>=0.21 in /usr/local/lib/python3.11/dist-packages (from transformers) (0.21.1)\n",
            "Requirement already satisfied: safetensors>=0.4.3 in /usr/local/lib/python3.11/dist-packages (from transformers) (0.5.3)\n",
            "Requirement already satisfied: tqdm>=4.27 in /usr/local/lib/python3.11/dist-packages (from transformers) (4.67.1)\n",
            "Requirement already satisfied: fsspec>=2023.5.0 in /usr/local/lib/python3.11/dist-packages (from huggingface-hub<1.0,>=0.26.0->transformers) (2024.12.0)\n",
            "Requirement already satisfied: typing-extensions>=3.7.4.3 in /usr/local/lib/python3.11/dist-packages (from huggingface-hub<1.0,>=0.26.0->transformers) (4.13.0)\n",
            "Requirement already satisfied: charset-normalizer<4,>=2 in /usr/local/lib/python3.11/dist-packages (from requests->transformers) (3.4.1)\n",
            "Requirement already satisfied: idna<4,>=2.5 in /usr/local/lib/python3.11/dist-packages (from requests->transformers) (3.10)\n",
            "Requirement already satisfied: urllib3<3,>=1.21.1 in /usr/local/lib/python3.11/dist-packages (from requests->transformers) (2.3.0)\n",
            "Requirement already satisfied: certifi>=2017.4.17 in /usr/local/lib/python3.11/dist-packages (from requests->transformers) (2025.1.31)\n",
            "Requirement already satisfied: kaggle in /usr/local/lib/python3.11/dist-packages (1.7.4.2)\n",
            "Requirement already satisfied: bleach in /usr/local/lib/python3.11/dist-packages (from kaggle) (6.2.0)\n",
            "Requirement already satisfied: certifi>=14.05.14 in /usr/local/lib/python3.11/dist-packages (from kaggle) (2025.1.31)\n",
            "Requirement already satisfied: charset-normalizer in /usr/local/lib/python3.11/dist-packages (from kaggle) (3.4.1)\n",
            "Requirement already satisfied: idna in /usr/local/lib/python3.11/dist-packages (from kaggle) (3.10)\n",
            "Requirement already satisfied: protobuf in /usr/local/lib/python3.11/dist-packages (from kaggle) (5.29.4)\n",
            "Requirement already satisfied: python-dateutil>=2.5.3 in /usr/local/lib/python3.11/dist-packages (from kaggle) (2.8.2)\n",
            "Requirement already satisfied: python-slugify in /usr/local/lib/python3.11/dist-packages (from kaggle) (8.0.4)\n",
            "Requirement already satisfied: requests in /usr/local/lib/python3.11/dist-packages (from kaggle) (2.32.3)\n",
            "Requirement already satisfied: setuptools>=21.0.0 in /usr/local/lib/python3.11/dist-packages (from kaggle) (75.2.0)\n",
            "Requirement already satisfied: six>=1.10 in /usr/local/lib/python3.11/dist-packages (from kaggle) (1.17.0)\n",
            "Requirement already satisfied: text-unidecode in /usr/local/lib/python3.11/dist-packages (from kaggle) (1.3)\n",
            "Requirement already satisfied: tqdm in /usr/local/lib/python3.11/dist-packages (from kaggle) (4.67.1)\n",
            "Requirement already satisfied: urllib3>=1.15.1 in /usr/local/lib/python3.11/dist-packages (from kaggle) (2.3.0)\n",
            "Requirement already satisfied: webencodings in /usr/local/lib/python3.11/dist-packages (from kaggle) (0.5.1)\n",
            "Collecting rouge-score\n",
            "  Downloading rouge_score-0.1.2.tar.gz (17 kB)\n",
            "  Preparing metadata (setup.py) ... \u001b[?25l\u001b[?25hdone\n",
            "Requirement already satisfied: absl-py in /usr/local/lib/python3.11/dist-packages (from rouge-score) (1.4.0)\n",
            "Requirement already satisfied: nltk in /usr/local/lib/python3.11/dist-packages (from rouge-score) (3.9.1)\n",
            "Requirement already satisfied: numpy in /usr/local/lib/python3.11/dist-packages (from rouge-score) (2.0.2)\n",
            "Requirement already satisfied: six>=1.14.0 in /usr/local/lib/python3.11/dist-packages (from rouge-score) (1.17.0)\n",
            "Requirement already satisfied: click in /usr/local/lib/python3.11/dist-packages (from nltk->rouge-score) (8.1.8)\n",
            "Requirement already satisfied: joblib in /usr/local/lib/python3.11/dist-packages (from nltk->rouge-score) (1.4.2)\n",
            "Requirement already satisfied: regex>=2021.8.3 in /usr/local/lib/python3.11/dist-packages (from nltk->rouge-score) (2024.11.6)\n",
            "Requirement already satisfied: tqdm in /usr/local/lib/python3.11/dist-packages (from nltk->rouge-score) (4.67.1)\n",
            "Building wheels for collected packages: rouge-score\n",
            "  Building wheel for rouge-score (setup.py) ... \u001b[?25l\u001b[?25hdone\n",
            "  Created wheel for rouge-score: filename=rouge_score-0.1.2-py3-none-any.whl size=24934 sha256=e75b1373ec4e16a3905d664f5d034cc5fd22306fbba8e4843eaadb66e49a28ec\n",
            "  Stored in directory: /root/.cache/pip/wheels/1e/19/43/8a442dc83660ca25e163e1bd1f89919284ab0d0c1475475148\n",
            "Successfully built rouge-score\n",
            "Installing collected packages: rouge-score\n",
            "Successfully installed rouge-score-0.1.2\n"
          ]
        }
      ]
    },
    {
      "cell_type": "code",
      "execution_count": 34,
      "metadata": {
        "id": "T8fDal7wXgVb"
      },
      "outputs": [],
      "source": [
        "import numpy as np\n",
        "import matplotlib.pyplot as plt\n",
        "import kagglehub\n",
        "from kagglehub import KaggleDatasetAdapter\n",
        "from google.colab import files\n",
        "import os\n",
        "import pathlib\n",
        "import pandas as pd\n",
        "from sklearn.model_selection import train_test_split\n",
        "from transformers import T5Tokenizer, T5ForConditionalGeneration\n",
        "import torch\n",
        "from torch.utils.data import DataLoader, Dataset\n",
        "from torch.optim import AdamW\n",
        "from nltk.translate.bleu_score import sentence_bleu\n",
        "from rouge_score import rouge_scorer"
      ]
    },
    {
      "cell_type": "code",
      "source": [
        "! mkdir ~/.kaggle"
      ],
      "metadata": {
        "id": "mgNX11g0e3zw"
      },
      "execution_count": 3,
      "outputs": []
    },
    {
      "cell_type": "code",
      "source": [
        "!cp /content/drive/MyDrive/CollabData/kaggle_API/kaggle.json ~/.kaggle/kaggle.json"
      ],
      "metadata": {
        "id": "mgLiziSCe4Tz"
      },
      "execution_count": 4,
      "outputs": []
    },
    {
      "cell_type": "code",
      "source": [
        "! chmod 600 ~/.kaggle/kaggle.json"
      ],
      "metadata": {
        "id": "tJoqvkYQe6QF"
      },
      "execution_count": 5,
      "outputs": []
    },
    {
      "cell_type": "code",
      "source": [
        "! kaggle datasets download lazer999/quranic-reasoning-synthetic-dataset"
      ],
      "metadata": {
        "colab": {
          "base_uri": "https://localhost:8080/"
        },
        "id": "KyanKgmte9OA",
        "outputId": "bfa10c0c-3f51-4cd2-cd29-37daa4e071be"
      },
      "execution_count": 6,
      "outputs": [
        {
          "output_type": "stream",
          "name": "stdout",
          "text": [
            "Dataset URL: https://www.kaggle.com/datasets/lazer999/quranic-reasoning-synthetic-dataset\n",
            "License(s): CC0-1.0\n"
          ]
        }
      ]
    },
    {
      "cell_type": "code",
      "source": [
        "! kaggle datasets download alizahidraja/quran-english"
      ],
      "metadata": {
        "colab": {
          "base_uri": "https://localhost:8080/"
        },
        "id": "Fa1fK237oRd5",
        "outputId": "9c6f5a2c-dae5-4914-b7a4-59ba8d1af607"
      },
      "execution_count": 7,
      "outputs": [
        {
          "output_type": "stream",
          "name": "stdout",
          "text": [
            "Dataset URL: https://www.kaggle.com/datasets/alizahidraja/quran-english\n",
            "License(s): GPL-2.0\n"
          ]
        }
      ]
    },
    {
      "cell_type": "code",
      "source": [
        "! unzip quranic-reasoning-synthetic-dataset.zip"
      ],
      "metadata": {
        "colab": {
          "base_uri": "https://localhost:8080/"
        },
        "id": "BX2XDI4WfrQB",
        "outputId": "45ed3bad-0dc7-4313-fc38-6a2916043e8f"
      },
      "execution_count": 8,
      "outputs": [
        {
          "output_type": "stream",
          "name": "stdout",
          "text": [
            "Archive:  quranic-reasoning-synthetic-dataset.zip\n",
            "  inflating: Quran_R1_excel.xlsx     \n"
          ]
        }
      ]
    },
    {
      "cell_type": "code",
      "source": [
        "! unzip quran-english.zip"
      ],
      "metadata": {
        "colab": {
          "base_uri": "https://localhost:8080/"
        },
        "id": "KIYEtg1GombQ",
        "outputId": "d6da7618-000f-4433-af98-c80f738fc8dd"
      },
      "execution_count": 9,
      "outputs": [
        {
          "output_type": "stream",
          "name": "stdout",
          "text": [
            "Archive:  quran-english.zip\n",
            "  inflating: Quran_English.csv       \n",
            "  inflating: Quran_English_with_Tafseer.csv  \n"
          ]
        }
      ]
    },
    {
      "cell_type": "markdown",
      "source": [
        "## Data Preparation"
      ],
      "metadata": {
        "id": "eMgQYz7we3Qx"
      }
    },
    {
      "cell_type": "code",
      "source": [
        "file_path = \"/content/Quran_R1_excel.xlsx\"\n",
        "df = pd.read_excel(file_path)\n",
        "df.head()"
      ],
      "metadata": {
        "colab": {
          "base_uri": "https://localhost:8080/",
          "height": 206
        },
        "id": "Bq_RcHlemwPh",
        "outputId": "e361e7be-fd9e-417a-e7a2-7ab5a8a2fe58"
      },
      "execution_count": 10,
      "outputs": [
        {
          "output_type": "execute_result",
          "data": {
            "text/plain": [
              "   Unnamed: 0                                           Question  \\\n",
              "0           0  What is the significance of patience (sabr) in...   \n",
              "1           1  Why do we have to pray five times a day? Would...   \n",
              "2           2  What does the Quran say about friendships? How...   \n",
              "3           3  Why does the Quran emphasize so much on gratit...   \n",
              "4           4  How should we deal with disagreements among si...   \n",
              "\n",
              "                                         Complex_CoT  \\\n",
              "0  Patience (sabr) is a key virtue emphasized in ...   \n",
              "1  The five daily prayers are a fundamental pilla...   \n",
              "2  Friendship plays a crucial role in shaping a b...   \n",
              "3  Gratitude (shukr) is vital in Islam as it fost...   \n",
              "4  The Quran encourages resolving sibling dispute...   \n",
              "\n",
              "                                            Response  \n",
              "0  The Quran highlights patience as a sign of str...  \n",
              "1  The five daily prayers maintain spiritual conn...  \n",
              "2  The Quran advises selecting righteous friends ...  \n",
              "3  The Quran underscores gratitude, promising inc...  \n",
              "4  Sibling disagreements should be resolved with ...  "
            ],
            "text/html": [
              "\n",
              "  <div id=\"df-06ec9e8f-6a20-41c4-9e62-bf9a2c4ec8d4\" class=\"colab-df-container\">\n",
              "    <div>\n",
              "<style scoped>\n",
              "    .dataframe tbody tr th:only-of-type {\n",
              "        vertical-align: middle;\n",
              "    }\n",
              "\n",
              "    .dataframe tbody tr th {\n",
              "        vertical-align: top;\n",
              "    }\n",
              "\n",
              "    .dataframe thead th {\n",
              "        text-align: right;\n",
              "    }\n",
              "</style>\n",
              "<table border=\"1\" class=\"dataframe\">\n",
              "  <thead>\n",
              "    <tr style=\"text-align: right;\">\n",
              "      <th></th>\n",
              "      <th>Unnamed: 0</th>\n",
              "      <th>Question</th>\n",
              "      <th>Complex_CoT</th>\n",
              "      <th>Response</th>\n",
              "    </tr>\n",
              "  </thead>\n",
              "  <tbody>\n",
              "    <tr>\n",
              "      <th>0</th>\n",
              "      <td>0</td>\n",
              "      <td>What is the significance of patience (sabr) in...</td>\n",
              "      <td>Patience (sabr) is a key virtue emphasized in ...</td>\n",
              "      <td>The Quran highlights patience as a sign of str...</td>\n",
              "    </tr>\n",
              "    <tr>\n",
              "      <th>1</th>\n",
              "      <td>1</td>\n",
              "      <td>Why do we have to pray five times a day? Would...</td>\n",
              "      <td>The five daily prayers are a fundamental pilla...</td>\n",
              "      <td>The five daily prayers maintain spiritual conn...</td>\n",
              "    </tr>\n",
              "    <tr>\n",
              "      <th>2</th>\n",
              "      <td>2</td>\n",
              "      <td>What does the Quran say about friendships? How...</td>\n",
              "      <td>Friendship plays a crucial role in shaping a b...</td>\n",
              "      <td>The Quran advises selecting righteous friends ...</td>\n",
              "    </tr>\n",
              "    <tr>\n",
              "      <th>3</th>\n",
              "      <td>3</td>\n",
              "      <td>Why does the Quran emphasize so much on gratit...</td>\n",
              "      <td>Gratitude (shukr) is vital in Islam as it fost...</td>\n",
              "      <td>The Quran underscores gratitude, promising inc...</td>\n",
              "    </tr>\n",
              "    <tr>\n",
              "      <th>4</th>\n",
              "      <td>4</td>\n",
              "      <td>How should we deal with disagreements among si...</td>\n",
              "      <td>The Quran encourages resolving sibling dispute...</td>\n",
              "      <td>Sibling disagreements should be resolved with ...</td>\n",
              "    </tr>\n",
              "  </tbody>\n",
              "</table>\n",
              "</div>\n",
              "    <div class=\"colab-df-buttons\">\n",
              "\n",
              "  <div class=\"colab-df-container\">\n",
              "    <button class=\"colab-df-convert\" onclick=\"convertToInteractive('df-06ec9e8f-6a20-41c4-9e62-bf9a2c4ec8d4')\"\n",
              "            title=\"Convert this dataframe to an interactive table.\"\n",
              "            style=\"display:none;\">\n",
              "\n",
              "  <svg xmlns=\"http://www.w3.org/2000/svg\" height=\"24px\" viewBox=\"0 -960 960 960\">\n",
              "    <path d=\"M120-120v-720h720v720H120Zm60-500h600v-160H180v160Zm220 220h160v-160H400v160Zm0 220h160v-160H400v160ZM180-400h160v-160H180v160Zm440 0h160v-160H620v160ZM180-180h160v-160H180v160Zm440 0h160v-160H620v160Z\"/>\n",
              "  </svg>\n",
              "    </button>\n",
              "\n",
              "  <style>\n",
              "    .colab-df-container {\n",
              "      display:flex;\n",
              "      gap: 12px;\n",
              "    }\n",
              "\n",
              "    .colab-df-convert {\n",
              "      background-color: #E8F0FE;\n",
              "      border: none;\n",
              "      border-radius: 50%;\n",
              "      cursor: pointer;\n",
              "      display: none;\n",
              "      fill: #1967D2;\n",
              "      height: 32px;\n",
              "      padding: 0 0 0 0;\n",
              "      width: 32px;\n",
              "    }\n",
              "\n",
              "    .colab-df-convert:hover {\n",
              "      background-color: #E2EBFA;\n",
              "      box-shadow: 0px 1px 2px rgba(60, 64, 67, 0.3), 0px 1px 3px 1px rgba(60, 64, 67, 0.15);\n",
              "      fill: #174EA6;\n",
              "    }\n",
              "\n",
              "    .colab-df-buttons div {\n",
              "      margin-bottom: 4px;\n",
              "    }\n",
              "\n",
              "    [theme=dark] .colab-df-convert {\n",
              "      background-color: #3B4455;\n",
              "      fill: #D2E3FC;\n",
              "    }\n",
              "\n",
              "    [theme=dark] .colab-df-convert:hover {\n",
              "      background-color: #434B5C;\n",
              "      box-shadow: 0px 1px 3px 1px rgba(0, 0, 0, 0.15);\n",
              "      filter: drop-shadow(0px 1px 2px rgba(0, 0, 0, 0.3));\n",
              "      fill: #FFFFFF;\n",
              "    }\n",
              "  </style>\n",
              "\n",
              "    <script>\n",
              "      const buttonEl =\n",
              "        document.querySelector('#df-06ec9e8f-6a20-41c4-9e62-bf9a2c4ec8d4 button.colab-df-convert');\n",
              "      buttonEl.style.display =\n",
              "        google.colab.kernel.accessAllowed ? 'block' : 'none';\n",
              "\n",
              "      async function convertToInteractive(key) {\n",
              "        const element = document.querySelector('#df-06ec9e8f-6a20-41c4-9e62-bf9a2c4ec8d4');\n",
              "        const dataTable =\n",
              "          await google.colab.kernel.invokeFunction('convertToInteractive',\n",
              "                                                    [key], {});\n",
              "        if (!dataTable) return;\n",
              "\n",
              "        const docLinkHtml = 'Like what you see? Visit the ' +\n",
              "          '<a target=\"_blank\" href=https://colab.research.google.com/notebooks/data_table.ipynb>data table notebook</a>'\n",
              "          + ' to learn more about interactive tables.';\n",
              "        element.innerHTML = '';\n",
              "        dataTable['output_type'] = 'display_data';\n",
              "        await google.colab.output.renderOutput(dataTable, element);\n",
              "        const docLink = document.createElement('div');\n",
              "        docLink.innerHTML = docLinkHtml;\n",
              "        element.appendChild(docLink);\n",
              "      }\n",
              "    </script>\n",
              "  </div>\n",
              "\n",
              "\n",
              "<div id=\"df-09eb3002-5dd2-499c-b68a-171ed686c95f\">\n",
              "  <button class=\"colab-df-quickchart\" onclick=\"quickchart('df-09eb3002-5dd2-499c-b68a-171ed686c95f')\"\n",
              "            title=\"Suggest charts\"\n",
              "            style=\"display:none;\">\n",
              "\n",
              "<svg xmlns=\"http://www.w3.org/2000/svg\" height=\"24px\"viewBox=\"0 0 24 24\"\n",
              "     width=\"24px\">\n",
              "    <g>\n",
              "        <path d=\"M19 3H5c-1.1 0-2 .9-2 2v14c0 1.1.9 2 2 2h14c1.1 0 2-.9 2-2V5c0-1.1-.9-2-2-2zM9 17H7v-7h2v7zm4 0h-2V7h2v10zm4 0h-2v-4h2v4z\"/>\n",
              "    </g>\n",
              "</svg>\n",
              "  </button>\n",
              "\n",
              "<style>\n",
              "  .colab-df-quickchart {\n",
              "      --bg-color: #E8F0FE;\n",
              "      --fill-color: #1967D2;\n",
              "      --hover-bg-color: #E2EBFA;\n",
              "      --hover-fill-color: #174EA6;\n",
              "      --disabled-fill-color: #AAA;\n",
              "      --disabled-bg-color: #DDD;\n",
              "  }\n",
              "\n",
              "  [theme=dark] .colab-df-quickchart {\n",
              "      --bg-color: #3B4455;\n",
              "      --fill-color: #D2E3FC;\n",
              "      --hover-bg-color: #434B5C;\n",
              "      --hover-fill-color: #FFFFFF;\n",
              "      --disabled-bg-color: #3B4455;\n",
              "      --disabled-fill-color: #666;\n",
              "  }\n",
              "\n",
              "  .colab-df-quickchart {\n",
              "    background-color: var(--bg-color);\n",
              "    border: none;\n",
              "    border-radius: 50%;\n",
              "    cursor: pointer;\n",
              "    display: none;\n",
              "    fill: var(--fill-color);\n",
              "    height: 32px;\n",
              "    padding: 0;\n",
              "    width: 32px;\n",
              "  }\n",
              "\n",
              "  .colab-df-quickchart:hover {\n",
              "    background-color: var(--hover-bg-color);\n",
              "    box-shadow: 0 1px 2px rgba(60, 64, 67, 0.3), 0 1px 3px 1px rgba(60, 64, 67, 0.15);\n",
              "    fill: var(--button-hover-fill-color);\n",
              "  }\n",
              "\n",
              "  .colab-df-quickchart-complete:disabled,\n",
              "  .colab-df-quickchart-complete:disabled:hover {\n",
              "    background-color: var(--disabled-bg-color);\n",
              "    fill: var(--disabled-fill-color);\n",
              "    box-shadow: none;\n",
              "  }\n",
              "\n",
              "  .colab-df-spinner {\n",
              "    border: 2px solid var(--fill-color);\n",
              "    border-color: transparent;\n",
              "    border-bottom-color: var(--fill-color);\n",
              "    animation:\n",
              "      spin 1s steps(1) infinite;\n",
              "  }\n",
              "\n",
              "  @keyframes spin {\n",
              "    0% {\n",
              "      border-color: transparent;\n",
              "      border-bottom-color: var(--fill-color);\n",
              "      border-left-color: var(--fill-color);\n",
              "    }\n",
              "    20% {\n",
              "      border-color: transparent;\n",
              "      border-left-color: var(--fill-color);\n",
              "      border-top-color: var(--fill-color);\n",
              "    }\n",
              "    30% {\n",
              "      border-color: transparent;\n",
              "      border-left-color: var(--fill-color);\n",
              "      border-top-color: var(--fill-color);\n",
              "      border-right-color: var(--fill-color);\n",
              "    }\n",
              "    40% {\n",
              "      border-color: transparent;\n",
              "      border-right-color: var(--fill-color);\n",
              "      border-top-color: var(--fill-color);\n",
              "    }\n",
              "    60% {\n",
              "      border-color: transparent;\n",
              "      border-right-color: var(--fill-color);\n",
              "    }\n",
              "    80% {\n",
              "      border-color: transparent;\n",
              "      border-right-color: var(--fill-color);\n",
              "      border-bottom-color: var(--fill-color);\n",
              "    }\n",
              "    90% {\n",
              "      border-color: transparent;\n",
              "      border-bottom-color: var(--fill-color);\n",
              "    }\n",
              "  }\n",
              "</style>\n",
              "\n",
              "  <script>\n",
              "    async function quickchart(key) {\n",
              "      const quickchartButtonEl =\n",
              "        document.querySelector('#' + key + ' button');\n",
              "      quickchartButtonEl.disabled = true;  // To prevent multiple clicks.\n",
              "      quickchartButtonEl.classList.add('colab-df-spinner');\n",
              "      try {\n",
              "        const charts = await google.colab.kernel.invokeFunction(\n",
              "            'suggestCharts', [key], {});\n",
              "      } catch (error) {\n",
              "        console.error('Error during call to suggestCharts:', error);\n",
              "      }\n",
              "      quickchartButtonEl.classList.remove('colab-df-spinner');\n",
              "      quickchartButtonEl.classList.add('colab-df-quickchart-complete');\n",
              "    }\n",
              "    (() => {\n",
              "      let quickchartButtonEl =\n",
              "        document.querySelector('#df-09eb3002-5dd2-499c-b68a-171ed686c95f button');\n",
              "      quickchartButtonEl.style.display =\n",
              "        google.colab.kernel.accessAllowed ? 'block' : 'none';\n",
              "    })();\n",
              "  </script>\n",
              "</div>\n",
              "\n",
              "    </div>\n",
              "  </div>\n"
            ],
            "application/vnd.google.colaboratory.intrinsic+json": {
              "type": "dataframe",
              "variable_name": "df",
              "summary": "{\n  \"name\": \"df\",\n  \"rows\": 857,\n  \"fields\": [\n    {\n      \"column\": \"Unnamed: 0\",\n      \"properties\": {\n        \"dtype\": \"number\",\n        \"std\": 250,\n        \"min\": 0,\n        \"max\": 867,\n        \"num_unique_values\": 857,\n        \"samples\": [\n          712,\n          603,\n          120\n        ],\n        \"semantic_type\": \"\",\n        \"description\": \"\"\n      }\n    },\n    {\n      \"column\": \"Question\",\n      \"properties\": {\n        \"dtype\": \"string\",\n        \"num_unique_values\": 854,\n        \"samples\": [\n          \"How can we use Quranic wisdom to overcome sibling rivalry?\",\n          \"What is the concept of the afterlife (Akhirah) in the Quran, and how does it influence moral behavior?\",\n          \"What does the Quran say about dealing with misunderstandings caused by tone or body language in family interactions?\"\n        ],\n        \"semantic_type\": \"\",\n        \"description\": \"\"\n      }\n    },\n    {\n      \"column\": \"Complex_CoT\",\n      \"properties\": {\n        \"dtype\": \"string\",\n        \"num_unique_values\": 857,\n        \"samples\": [\n          \"The Quran explains that worldly success is not an indicator of divine approval. Allah allows both good and bad people to prosper as a test. He says: 'Do not be deceived by the prosperity of those who disbelieve in the land. It is but a small enjoyment; then their final refuge is Hell' (3:196-197). Sometimes, material success can be a form of trial. The real measure of success is faith and righteousness, as Allah states: 'The best provision is righteousness' (2:197). The Hereafter is the ultimate place of justice where every soul will be repaid for its deeds.\",\n          \"The Quran insists that maintaining a sound faith requires active engagement of the intellect. Reason is not only a tool for understanding but also a shield against error and misguidance.\",\n          \"Criticism, when constructive, can lead to improvement. The Quran advises that criticism should be met with patience and used as a learning opportunity. It emphasizes that a humble heart is open to correction and that resolving conflicts requires thoughtful reflection on feedback.\"\n        ],\n        \"semantic_type\": \"\",\n        \"description\": \"\"\n      }\n    },\n    {\n      \"column\": \"Response\",\n      \"properties\": {\n        \"dtype\": \"string\",\n        \"num_unique_values\": 857,\n        \"samples\": [\n          \"The Quran warns that worldly success is a test: 'Do not be deceived by the prosperity of those who disbelieve' (3:196). True success lies in righteousness.\",\n          \"It teaches that using reason is a fundamental responsibility that protects and strengthens one\\u2019s faith.\",\n          \"The Quran encourages using constructive criticism as an opportunity for growth, responding with patience and humility.\"\n        ],\n        \"semantic_type\": \"\",\n        \"description\": \"\"\n      }\n    }\n  ]\n}"
            }
          },
          "metadata": {},
          "execution_count": 10
        }
      ]
    },
    {
      "cell_type": "code",
      "source": [
        "df.info()"
      ],
      "metadata": {
        "colab": {
          "base_uri": "https://localhost:8080/"
        },
        "id": "hDVjklvayvoG",
        "outputId": "d5c2752a-4f34-4bda-d3f5-7f5f3350eba9"
      },
      "execution_count": 11,
      "outputs": [
        {
          "output_type": "stream",
          "name": "stdout",
          "text": [
            "<class 'pandas.core.frame.DataFrame'>\n",
            "RangeIndex: 857 entries, 0 to 856\n",
            "Data columns (total 4 columns):\n",
            " #   Column       Non-Null Count  Dtype \n",
            "---  ------       --------------  ----- \n",
            " 0   Unnamed: 0   857 non-null    int64 \n",
            " 1   Question     857 non-null    object\n",
            " 2   Complex_CoT  857 non-null    object\n",
            " 3   Response     857 non-null    object\n",
            "dtypes: int64(1), object(3)\n",
            "memory usage: 26.9+ KB\n"
          ]
        }
      ]
    },
    {
      "cell_type": "markdown",
      "source": [
        "Column `Unnamed: 0` merupakan Column yang harus kita drop karena tidak berguna"
      ],
      "metadata": {
        "id": "F0wO1Y3jpfB3"
      }
    },
    {
      "cell_type": "code",
      "source": [
        "df = df.drop(columns=['Unnamed: 0'])\n",
        "df.head()\n",
        "df.info()"
      ],
      "metadata": {
        "colab": {
          "base_uri": "https://localhost:8080/"
        },
        "id": "0WHzIIxyBOuh",
        "outputId": "f9c66e99-350f-4c0f-9c81-3fac49893adb"
      },
      "execution_count": 12,
      "outputs": [
        {
          "output_type": "stream",
          "name": "stdout",
          "text": [
            "<class 'pandas.core.frame.DataFrame'>\n",
            "RangeIndex: 857 entries, 0 to 856\n",
            "Data columns (total 3 columns):\n",
            " #   Column       Non-Null Count  Dtype \n",
            "---  ------       --------------  ----- \n",
            " 0   Question     857 non-null    object\n",
            " 1   Complex_CoT  857 non-null    object\n",
            " 2   Response     857 non-null    object\n",
            "dtypes: object(3)\n",
            "memory usage: 20.2+ KB\n"
          ]
        }
      ]
    },
    {
      "cell_type": "code",
      "source": [
        "file_path = \"/content/Quran_English_with_Tafseer.csv\"\n",
        "df_quran = pd.read_csv(file_path)\n",
        "df_quran.head()"
      ],
      "metadata": {
        "colab": {
          "base_uri": "https://localhost:8080/",
          "height": 206
        },
        "id": "XZjgTP0Nm8Q6",
        "outputId": "0b2ec27e-377e-4fa8-bf0c-a353d10ffd84"
      },
      "execution_count": 13,
      "outputs": [
        {
          "output_type": "execute_result",
          "data": {
            "text/plain": [
              "          Name  Surah  Ayat  \\\n",
              "0  The Opening      1     1   \n",
              "1  The Opening      1     2   \n",
              "2  The Opening      1     3   \n",
              "3  The Opening      1     4   \n",
              "4  The Opening      1     5   \n",
              "\n",
              "                                               Verse  \\\n",
              "0  In the name of Allah, the Beneficent, the Merc...   \n",
              "1            Praise be to Allah, Lord of the Worlds,   \n",
              "2                      The Beneficent, the Merciful.   \n",
              "3                      Owner of the Day of Judgment,   \n",
              "4  Thee (alone) we worship; Thee (alone) we ask f...   \n",
              "\n",
              "                                             Tafseer  \n",
              "0  In the Name of God the Compassionate the Merciful  \n",
              "1  In the Name of God the name of a thing is that...  \n",
              "2  The Compassionate the Merciful that is to say ...  \n",
              "3  Master of the Day of Judgement that is the day...  \n",
              "4  You alone we worship and You alone we ask for ...  "
            ],
            "text/html": [
              "\n",
              "  <div id=\"df-5e0a9407-9653-4b18-8f05-3eccda6e3b74\" class=\"colab-df-container\">\n",
              "    <div>\n",
              "<style scoped>\n",
              "    .dataframe tbody tr th:only-of-type {\n",
              "        vertical-align: middle;\n",
              "    }\n",
              "\n",
              "    .dataframe tbody tr th {\n",
              "        vertical-align: top;\n",
              "    }\n",
              "\n",
              "    .dataframe thead th {\n",
              "        text-align: right;\n",
              "    }\n",
              "</style>\n",
              "<table border=\"1\" class=\"dataframe\">\n",
              "  <thead>\n",
              "    <tr style=\"text-align: right;\">\n",
              "      <th></th>\n",
              "      <th>Name</th>\n",
              "      <th>Surah</th>\n",
              "      <th>Ayat</th>\n",
              "      <th>Verse</th>\n",
              "      <th>Tafseer</th>\n",
              "    </tr>\n",
              "  </thead>\n",
              "  <tbody>\n",
              "    <tr>\n",
              "      <th>0</th>\n",
              "      <td>The Opening</td>\n",
              "      <td>1</td>\n",
              "      <td>1</td>\n",
              "      <td>In the name of Allah, the Beneficent, the Merc...</td>\n",
              "      <td>In the Name of God the Compassionate the Merciful</td>\n",
              "    </tr>\n",
              "    <tr>\n",
              "      <th>1</th>\n",
              "      <td>The Opening</td>\n",
              "      <td>1</td>\n",
              "      <td>2</td>\n",
              "      <td>Praise be to Allah, Lord of the Worlds,</td>\n",
              "      <td>In the Name of God the name of a thing is that...</td>\n",
              "    </tr>\n",
              "    <tr>\n",
              "      <th>2</th>\n",
              "      <td>The Opening</td>\n",
              "      <td>1</td>\n",
              "      <td>3</td>\n",
              "      <td>The Beneficent, the Merciful.</td>\n",
              "      <td>The Compassionate the Merciful that is to say ...</td>\n",
              "    </tr>\n",
              "    <tr>\n",
              "      <th>3</th>\n",
              "      <td>The Opening</td>\n",
              "      <td>1</td>\n",
              "      <td>4</td>\n",
              "      <td>Owner of the Day of Judgment,</td>\n",
              "      <td>Master of the Day of Judgement that is the day...</td>\n",
              "    </tr>\n",
              "    <tr>\n",
              "      <th>4</th>\n",
              "      <td>The Opening</td>\n",
              "      <td>1</td>\n",
              "      <td>5</td>\n",
              "      <td>Thee (alone) we worship; Thee (alone) we ask f...</td>\n",
              "      <td>You alone we worship and You alone we ask for ...</td>\n",
              "    </tr>\n",
              "  </tbody>\n",
              "</table>\n",
              "</div>\n",
              "    <div class=\"colab-df-buttons\">\n",
              "\n",
              "  <div class=\"colab-df-container\">\n",
              "    <button class=\"colab-df-convert\" onclick=\"convertToInteractive('df-5e0a9407-9653-4b18-8f05-3eccda6e3b74')\"\n",
              "            title=\"Convert this dataframe to an interactive table.\"\n",
              "            style=\"display:none;\">\n",
              "\n",
              "  <svg xmlns=\"http://www.w3.org/2000/svg\" height=\"24px\" viewBox=\"0 -960 960 960\">\n",
              "    <path d=\"M120-120v-720h720v720H120Zm60-500h600v-160H180v160Zm220 220h160v-160H400v160Zm0 220h160v-160H400v160ZM180-400h160v-160H180v160Zm440 0h160v-160H620v160ZM180-180h160v-160H180v160Zm440 0h160v-160H620v160Z\"/>\n",
              "  </svg>\n",
              "    </button>\n",
              "\n",
              "  <style>\n",
              "    .colab-df-container {\n",
              "      display:flex;\n",
              "      gap: 12px;\n",
              "    }\n",
              "\n",
              "    .colab-df-convert {\n",
              "      background-color: #E8F0FE;\n",
              "      border: none;\n",
              "      border-radius: 50%;\n",
              "      cursor: pointer;\n",
              "      display: none;\n",
              "      fill: #1967D2;\n",
              "      height: 32px;\n",
              "      padding: 0 0 0 0;\n",
              "      width: 32px;\n",
              "    }\n",
              "\n",
              "    .colab-df-convert:hover {\n",
              "      background-color: #E2EBFA;\n",
              "      box-shadow: 0px 1px 2px rgba(60, 64, 67, 0.3), 0px 1px 3px 1px rgba(60, 64, 67, 0.15);\n",
              "      fill: #174EA6;\n",
              "    }\n",
              "\n",
              "    .colab-df-buttons div {\n",
              "      margin-bottom: 4px;\n",
              "    }\n",
              "\n",
              "    [theme=dark] .colab-df-convert {\n",
              "      background-color: #3B4455;\n",
              "      fill: #D2E3FC;\n",
              "    }\n",
              "\n",
              "    [theme=dark] .colab-df-convert:hover {\n",
              "      background-color: #434B5C;\n",
              "      box-shadow: 0px 1px 3px 1px rgba(0, 0, 0, 0.15);\n",
              "      filter: drop-shadow(0px 1px 2px rgba(0, 0, 0, 0.3));\n",
              "      fill: #FFFFFF;\n",
              "    }\n",
              "  </style>\n",
              "\n",
              "    <script>\n",
              "      const buttonEl =\n",
              "        document.querySelector('#df-5e0a9407-9653-4b18-8f05-3eccda6e3b74 button.colab-df-convert');\n",
              "      buttonEl.style.display =\n",
              "        google.colab.kernel.accessAllowed ? 'block' : 'none';\n",
              "\n",
              "      async function convertToInteractive(key) {\n",
              "        const element = document.querySelector('#df-5e0a9407-9653-4b18-8f05-3eccda6e3b74');\n",
              "        const dataTable =\n",
              "          await google.colab.kernel.invokeFunction('convertToInteractive',\n",
              "                                                    [key], {});\n",
              "        if (!dataTable) return;\n",
              "\n",
              "        const docLinkHtml = 'Like what you see? Visit the ' +\n",
              "          '<a target=\"_blank\" href=https://colab.research.google.com/notebooks/data_table.ipynb>data table notebook</a>'\n",
              "          + ' to learn more about interactive tables.';\n",
              "        element.innerHTML = '';\n",
              "        dataTable['output_type'] = 'display_data';\n",
              "        await google.colab.output.renderOutput(dataTable, element);\n",
              "        const docLink = document.createElement('div');\n",
              "        docLink.innerHTML = docLinkHtml;\n",
              "        element.appendChild(docLink);\n",
              "      }\n",
              "    </script>\n",
              "  </div>\n",
              "\n",
              "\n",
              "<div id=\"df-2ef80c83-ed87-462b-b457-0231310722a5\">\n",
              "  <button class=\"colab-df-quickchart\" onclick=\"quickchart('df-2ef80c83-ed87-462b-b457-0231310722a5')\"\n",
              "            title=\"Suggest charts\"\n",
              "            style=\"display:none;\">\n",
              "\n",
              "<svg xmlns=\"http://www.w3.org/2000/svg\" height=\"24px\"viewBox=\"0 0 24 24\"\n",
              "     width=\"24px\">\n",
              "    <g>\n",
              "        <path d=\"M19 3H5c-1.1 0-2 .9-2 2v14c0 1.1.9 2 2 2h14c1.1 0 2-.9 2-2V5c0-1.1-.9-2-2-2zM9 17H7v-7h2v7zm4 0h-2V7h2v10zm4 0h-2v-4h2v4z\"/>\n",
              "    </g>\n",
              "</svg>\n",
              "  </button>\n",
              "\n",
              "<style>\n",
              "  .colab-df-quickchart {\n",
              "      --bg-color: #E8F0FE;\n",
              "      --fill-color: #1967D2;\n",
              "      --hover-bg-color: #E2EBFA;\n",
              "      --hover-fill-color: #174EA6;\n",
              "      --disabled-fill-color: #AAA;\n",
              "      --disabled-bg-color: #DDD;\n",
              "  }\n",
              "\n",
              "  [theme=dark] .colab-df-quickchart {\n",
              "      --bg-color: #3B4455;\n",
              "      --fill-color: #D2E3FC;\n",
              "      --hover-bg-color: #434B5C;\n",
              "      --hover-fill-color: #FFFFFF;\n",
              "      --disabled-bg-color: #3B4455;\n",
              "      --disabled-fill-color: #666;\n",
              "  }\n",
              "\n",
              "  .colab-df-quickchart {\n",
              "    background-color: var(--bg-color);\n",
              "    border: none;\n",
              "    border-radius: 50%;\n",
              "    cursor: pointer;\n",
              "    display: none;\n",
              "    fill: var(--fill-color);\n",
              "    height: 32px;\n",
              "    padding: 0;\n",
              "    width: 32px;\n",
              "  }\n",
              "\n",
              "  .colab-df-quickchart:hover {\n",
              "    background-color: var(--hover-bg-color);\n",
              "    box-shadow: 0 1px 2px rgba(60, 64, 67, 0.3), 0 1px 3px 1px rgba(60, 64, 67, 0.15);\n",
              "    fill: var(--button-hover-fill-color);\n",
              "  }\n",
              "\n",
              "  .colab-df-quickchart-complete:disabled,\n",
              "  .colab-df-quickchart-complete:disabled:hover {\n",
              "    background-color: var(--disabled-bg-color);\n",
              "    fill: var(--disabled-fill-color);\n",
              "    box-shadow: none;\n",
              "  }\n",
              "\n",
              "  .colab-df-spinner {\n",
              "    border: 2px solid var(--fill-color);\n",
              "    border-color: transparent;\n",
              "    border-bottom-color: var(--fill-color);\n",
              "    animation:\n",
              "      spin 1s steps(1) infinite;\n",
              "  }\n",
              "\n",
              "  @keyframes spin {\n",
              "    0% {\n",
              "      border-color: transparent;\n",
              "      border-bottom-color: var(--fill-color);\n",
              "      border-left-color: var(--fill-color);\n",
              "    }\n",
              "    20% {\n",
              "      border-color: transparent;\n",
              "      border-left-color: var(--fill-color);\n",
              "      border-top-color: var(--fill-color);\n",
              "    }\n",
              "    30% {\n",
              "      border-color: transparent;\n",
              "      border-left-color: var(--fill-color);\n",
              "      border-top-color: var(--fill-color);\n",
              "      border-right-color: var(--fill-color);\n",
              "    }\n",
              "    40% {\n",
              "      border-color: transparent;\n",
              "      border-right-color: var(--fill-color);\n",
              "      border-top-color: var(--fill-color);\n",
              "    }\n",
              "    60% {\n",
              "      border-color: transparent;\n",
              "      border-right-color: var(--fill-color);\n",
              "    }\n",
              "    80% {\n",
              "      border-color: transparent;\n",
              "      border-right-color: var(--fill-color);\n",
              "      border-bottom-color: var(--fill-color);\n",
              "    }\n",
              "    90% {\n",
              "      border-color: transparent;\n",
              "      border-bottom-color: var(--fill-color);\n",
              "    }\n",
              "  }\n",
              "</style>\n",
              "\n",
              "  <script>\n",
              "    async function quickchart(key) {\n",
              "      const quickchartButtonEl =\n",
              "        document.querySelector('#' + key + ' button');\n",
              "      quickchartButtonEl.disabled = true;  // To prevent multiple clicks.\n",
              "      quickchartButtonEl.classList.add('colab-df-spinner');\n",
              "      try {\n",
              "        const charts = await google.colab.kernel.invokeFunction(\n",
              "            'suggestCharts', [key], {});\n",
              "      } catch (error) {\n",
              "        console.error('Error during call to suggestCharts:', error);\n",
              "      }\n",
              "      quickchartButtonEl.classList.remove('colab-df-spinner');\n",
              "      quickchartButtonEl.classList.add('colab-df-quickchart-complete');\n",
              "    }\n",
              "    (() => {\n",
              "      let quickchartButtonEl =\n",
              "        document.querySelector('#df-2ef80c83-ed87-462b-b457-0231310722a5 button');\n",
              "      quickchartButtonEl.style.display =\n",
              "        google.colab.kernel.accessAllowed ? 'block' : 'none';\n",
              "    })();\n",
              "  </script>\n",
              "</div>\n",
              "\n",
              "    </div>\n",
              "  </div>\n"
            ],
            "application/vnd.google.colaboratory.intrinsic+json": {
              "type": "dataframe",
              "variable_name": "df_quran",
              "summary": "{\n  \"name\": \"df_quran\",\n  \"rows\": 6236,\n  \"fields\": [\n    {\n      \"column\": \"Name\",\n      \"properties\": {\n        \"dtype\": \"category\",\n        \"num_unique_values\": 114,\n        \"samples\": [\n          \"The Overthrowing\",\n          \"The Table Spread\",\n          \"Fussilat (\\\"They are Expounded\\\")\"\n        ],\n        \"semantic_type\": \"\",\n        \"description\": \"\"\n      }\n    },\n    {\n      \"column\": \"Surah\",\n      \"properties\": {\n        \"dtype\": \"number\",\n        \"std\": 26,\n        \"min\": 1,\n        \"max\": 114,\n        \"num_unique_values\": 114,\n        \"samples\": [\n          81,\n          5,\n          41\n        ],\n        \"semantic_type\": \"\",\n        \"description\": \"\"\n      }\n    },\n    {\n      \"column\": \"Ayat\",\n      \"properties\": {\n        \"dtype\": \"number\",\n        \"std\": 50,\n        \"min\": 1,\n        \"max\": 286,\n        \"num_unique_values\": 286,\n        \"samples\": [\n          10,\n          268,\n          144\n        ],\n        \"semantic_type\": \"\",\n        \"description\": \"\"\n      }\n    },\n    {\n      \"column\": \"Verse\",\n      \"properties\": {\n        \"dtype\": \"string\",\n        \"num_unique_values\": 6139,\n        \"samples\": [\n          \"In that day other faces will be calm,\",\n          \"And they have led many astray, and Thou increasest the wrong-doers in naught save error.\",\n          \"And spend of that wherewith We have provided you before death cometh unto one of you and he saith: My Lord! If only thou wouldst reprieve me for a little while, then I would give alms and be among the righteous.\"\n        ],\n        \"semantic_type\": \"\",\n        \"description\": \"\"\n      }\n    },\n    {\n      \"column\": \"Tafseer\",\n      \"properties\": {\n        \"dtype\": \"string\",\n        \"num_unique_values\": 6169,\n        \"samples\": [\n          \"And did He not find you erring from the revealed Law which you now follow and guided you? that is and then guided you to it.\",\n          \"O you who believe do not take as intimates as sincere friends revealing to them your secret thoughts anyone apart from yourselves from among the Jews Christians and the hypocrites; such men spare nothing to ruin you khab\\u0101lan is in the accusative because the preposition that usually precedes it sc. f\\u012b\\u2019l-khab\\u0101l has been omitted that is to say they would not be remiss about corrupting you; they would love they wish for you to suffer al-\\u2018anat means extreme hardship. Hatred enmity towards you is revealed it is manifested by their mouths by sowing discord among you and informing the idolaters of your secret plans; and what their breasts conceal of enmity is yet greater. Now We have made clear to you the signs of their enmity; if you understand this then do not befriend them.\",\n          \"save but those who endure misery patiently and perform righteous deeds during times of comfort; theirs will be forgiveness and a great reward which is Paradise.\"\n        ],\n        \"semantic_type\": \"\",\n        \"description\": \"\"\n      }\n    }\n  ]\n}"
            }
          },
          "metadata": {},
          "execution_count": 13
        }
      ]
    },
    {
      "cell_type": "code",
      "source": [
        "df_quran.info()"
      ],
      "metadata": {
        "colab": {
          "base_uri": "https://localhost:8080/"
        },
        "id": "CnVMKD8FvKfK",
        "outputId": "fa9b622e-18d2-4a02-871f-a72945912024"
      },
      "execution_count": 14,
      "outputs": [
        {
          "output_type": "stream",
          "name": "stdout",
          "text": [
            "<class 'pandas.core.frame.DataFrame'>\n",
            "RangeIndex: 6236 entries, 0 to 6235\n",
            "Data columns (total 5 columns):\n",
            " #   Column   Non-Null Count  Dtype \n",
            "---  ------   --------------  ----- \n",
            " 0   Name     6236 non-null   object\n",
            " 1   Surah    6236 non-null   int64 \n",
            " 2   Ayat     6236 non-null   int64 \n",
            " 3   Verse    6236 non-null   object\n",
            " 4   Tafseer  6235 non-null   object\n",
            "dtypes: int64(2), object(3)\n",
            "memory usage: 243.7+ KB\n"
          ]
        }
      ]
    },
    {
      "cell_type": "code",
      "source": [
        "display(df_quran[df_quran['Tafseer'].isnull()])"
      ],
      "metadata": {
        "colab": {
          "base_uri": "https://localhost:8080/",
          "height": 81
        },
        "id": "F1FczSW6y6Mr",
        "outputId": "9063a2a0-2073-47fb-b961-51633d6ab73a"
      },
      "execution_count": 15,
      "outputs": [
        {
          "output_type": "display_data",
          "data": {
            "text/plain": [
              "          Name  Surah  Ayat  \\\n",
              "4555  Muhammad     47    11   \n",
              "\n",
              "                                                  Verse Tafseer  \n",
              "4555  That is because Allah is patron of those who b...     NaN  "
            ],
            "text/html": [
              "\n",
              "  <div id=\"df-1b95cfd0-0d18-4b09-9be8-fdc52c5e6030\" class=\"colab-df-container\">\n",
              "    <div>\n",
              "<style scoped>\n",
              "    .dataframe tbody tr th:only-of-type {\n",
              "        vertical-align: middle;\n",
              "    }\n",
              "\n",
              "    .dataframe tbody tr th {\n",
              "        vertical-align: top;\n",
              "    }\n",
              "\n",
              "    .dataframe thead th {\n",
              "        text-align: right;\n",
              "    }\n",
              "</style>\n",
              "<table border=\"1\" class=\"dataframe\">\n",
              "  <thead>\n",
              "    <tr style=\"text-align: right;\">\n",
              "      <th></th>\n",
              "      <th>Name</th>\n",
              "      <th>Surah</th>\n",
              "      <th>Ayat</th>\n",
              "      <th>Verse</th>\n",
              "      <th>Tafseer</th>\n",
              "    </tr>\n",
              "  </thead>\n",
              "  <tbody>\n",
              "    <tr>\n",
              "      <th>4555</th>\n",
              "      <td>Muhammad</td>\n",
              "      <td>47</td>\n",
              "      <td>11</td>\n",
              "      <td>That is because Allah is patron of those who b...</td>\n",
              "      <td>NaN</td>\n",
              "    </tr>\n",
              "  </tbody>\n",
              "</table>\n",
              "</div>\n",
              "    <div class=\"colab-df-buttons\">\n",
              "\n",
              "  <div class=\"colab-df-container\">\n",
              "    <button class=\"colab-df-convert\" onclick=\"convertToInteractive('df-1b95cfd0-0d18-4b09-9be8-fdc52c5e6030')\"\n",
              "            title=\"Convert this dataframe to an interactive table.\"\n",
              "            style=\"display:none;\">\n",
              "\n",
              "  <svg xmlns=\"http://www.w3.org/2000/svg\" height=\"24px\" viewBox=\"0 -960 960 960\">\n",
              "    <path d=\"M120-120v-720h720v720H120Zm60-500h600v-160H180v160Zm220 220h160v-160H400v160Zm0 220h160v-160H400v160ZM180-400h160v-160H180v160Zm440 0h160v-160H620v160ZM180-180h160v-160H180v160Zm440 0h160v-160H620v160Z\"/>\n",
              "  </svg>\n",
              "    </button>\n",
              "\n",
              "  <style>\n",
              "    .colab-df-container {\n",
              "      display:flex;\n",
              "      gap: 12px;\n",
              "    }\n",
              "\n",
              "    .colab-df-convert {\n",
              "      background-color: #E8F0FE;\n",
              "      border: none;\n",
              "      border-radius: 50%;\n",
              "      cursor: pointer;\n",
              "      display: none;\n",
              "      fill: #1967D2;\n",
              "      height: 32px;\n",
              "      padding: 0 0 0 0;\n",
              "      width: 32px;\n",
              "    }\n",
              "\n",
              "    .colab-df-convert:hover {\n",
              "      background-color: #E2EBFA;\n",
              "      box-shadow: 0px 1px 2px rgba(60, 64, 67, 0.3), 0px 1px 3px 1px rgba(60, 64, 67, 0.15);\n",
              "      fill: #174EA6;\n",
              "    }\n",
              "\n",
              "    .colab-df-buttons div {\n",
              "      margin-bottom: 4px;\n",
              "    }\n",
              "\n",
              "    [theme=dark] .colab-df-convert {\n",
              "      background-color: #3B4455;\n",
              "      fill: #D2E3FC;\n",
              "    }\n",
              "\n",
              "    [theme=dark] .colab-df-convert:hover {\n",
              "      background-color: #434B5C;\n",
              "      box-shadow: 0px 1px 3px 1px rgba(0, 0, 0, 0.15);\n",
              "      filter: drop-shadow(0px 1px 2px rgba(0, 0, 0, 0.3));\n",
              "      fill: #FFFFFF;\n",
              "    }\n",
              "  </style>\n",
              "\n",
              "    <script>\n",
              "      const buttonEl =\n",
              "        document.querySelector('#df-1b95cfd0-0d18-4b09-9be8-fdc52c5e6030 button.colab-df-convert');\n",
              "      buttonEl.style.display =\n",
              "        google.colab.kernel.accessAllowed ? 'block' : 'none';\n",
              "\n",
              "      async function convertToInteractive(key) {\n",
              "        const element = document.querySelector('#df-1b95cfd0-0d18-4b09-9be8-fdc52c5e6030');\n",
              "        const dataTable =\n",
              "          await google.colab.kernel.invokeFunction('convertToInteractive',\n",
              "                                                    [key], {});\n",
              "        if (!dataTable) return;\n",
              "\n",
              "        const docLinkHtml = 'Like what you see? Visit the ' +\n",
              "          '<a target=\"_blank\" href=https://colab.research.google.com/notebooks/data_table.ipynb>data table notebook</a>'\n",
              "          + ' to learn more about interactive tables.';\n",
              "        element.innerHTML = '';\n",
              "        dataTable['output_type'] = 'display_data';\n",
              "        await google.colab.output.renderOutput(dataTable, element);\n",
              "        const docLink = document.createElement('div');\n",
              "        docLink.innerHTML = docLinkHtml;\n",
              "        element.appendChild(docLink);\n",
              "      }\n",
              "    </script>\n",
              "  </div>\n",
              "\n",
              "\n",
              "    </div>\n",
              "  </div>\n"
            ],
            "application/vnd.google.colaboratory.intrinsic+json": {
              "type": "dataframe",
              "repr_error": "0"
            }
          },
          "metadata": {}
        }
      ]
    },
    {
      "cell_type": "markdown",
      "source": [
        "Ada satu data yang tidak memiliki tafsir kosong, dalam hal ini kita akan isi data kosong ini dengan data sintetis"
      ],
      "metadata": {
        "id": "cBayfEkE2MxY"
      }
    },
    {
      "cell_type": "code",
      "source": [
        "# Fill empty 'Tafseer' values with a synthetic data\n",
        "df_quran['Tafseer'] = df_quran['Tafseer'].fillna(\"This surah emphasizes that Allah is the protector and ally (Mawlā) of those who believe, offering them divine support, guidance, and victory, while the disbelievers are left without any true protector. This verse reassures the believers that despite external challenges or opposition, they are never alone—Allah stands by them in both worldly and spiritual affairs. Conversely, disbelievers, no matter their apparent power or alliances, lack divine backing and are ultimately vulnerable. Revealed in the context of struggle between faith and disbelief, particularly in times of conflict, this verse highlights the importance of trusting in Allah, as real strength and success come through His support, not mere worldly means.\")\n",
        "print(df_quran[df_quran['Tafseer'].isnull()])"
      ],
      "metadata": {
        "colab": {
          "base_uri": "https://localhost:8080/"
        },
        "id": "1UF2c35G1AuQ",
        "outputId": "aa0847d0-7ed7-41da-cec5-a61e3d981f2b"
      },
      "execution_count": 17,
      "outputs": [
        {
          "output_type": "stream",
          "name": "stdout",
          "text": [
            "Empty DataFrame\n",
            "Columns: [Name, Surah, Ayat, Verse, Tafseer]\n",
            "Index: []\n"
          ]
        }
      ]
    },
    {
      "cell_type": "markdown",
      "source": [
        "## Model Development\n",
        "\n",
        "Untuk saat ini, kita akan gunakan dataset `df` saja."
      ],
      "metadata": {
        "id": "1xh6lKHUD5cO"
      }
    },
    {
      "cell_type": "code",
      "source": [
        "inputt=df['Question'].tolist()\n",
        "labelt=df['Response'].tolist()"
      ],
      "metadata": {
        "id": "T7D0PCPI5ccZ"
      },
      "execution_count": 18,
      "outputs": []
    },
    {
      "cell_type": "markdown",
      "source": [
        "Split Train-Test (Dalam hal ini kita akan pisah 9:1)"
      ],
      "metadata": {
        "id": "tpVFUZA4Ej1z"
      }
    },
    {
      "cell_type": "code",
      "source": [
        "train_inputs, test_inputs, train_labels, test_labels = train_test_split(\n",
        "    inputt, labelt, test_size=0.1, random_state=42\n",
        ")"
      ],
      "metadata": {
        "id": "5adbzSlHEeKD"
      },
      "execution_count": 19,
      "outputs": []
    },
    {
      "cell_type": "markdown",
      "source": [
        "Call the Model"
      ],
      "metadata": {
        "id": "m5EdJwhVE_u8"
      }
    },
    {
      "cell_type": "code",
      "source": [
        "tokenizer = T5Tokenizer.from_pretrained(\"t5-base\")\n",
        "model = T5ForConditionalGeneration.from_pretrained(\"t5-base\")"
      ],
      "metadata": {
        "colab": {
          "base_uri": "https://localhost:8080/",
          "height": 353,
          "referenced_widgets": [
            "198175c1346b41159d41a82b2df64c58",
            "2b89c846d40c494dbd4b424a84906432",
            "73c2e4b2bc7440d1b1c0c21e8271d2f0",
            "4fba26f4c69f46088a66cf6ec6739fcd",
            "37ccb0a200c74f84a2cde184ae228d11",
            "8230030c1bf94133b2069408a116d768",
            "07f03f22d6e540adaf83f792085bde28",
            "8b34d51965fd4bffa37a4e32680c2da6",
            "a5f03ed24a1e4a2b98840d8ec8d84a84",
            "45a285d2ec654b9a9bcf80e2245006e1",
            "80859b9535424bcc963d9eae434150e1",
            "874a34707e7941dd9c71631ac0d5859f",
            "fb703f5dc69c403792da64ea988103c3",
            "d5843fcf02094ad796d158d5f89becd0",
            "b22cfef692e14527b23a0009ca2063c4",
            "45183aee801f46e5aea9e13412266f78",
            "0f8218be423f4efe907978c230ab5b8e",
            "b40f81bc4f2345208b5fed674bdbf5ac",
            "5fff326d5f7d4c66aa4ab9ff73a3c48c",
            "7a4d523814024e7bad88c521b8838d6d",
            "40086905b7894e4491a5c6c550c9d748",
            "45214417e7de4605918df4af97b82b12",
            "f544a768ee4f4041b18979d88711a435",
            "2c2c2288ffae4f5fa28e2c2b1d96d5ff",
            "a2109871991e40a8945a6f3808e20dc2",
            "609aa17888524414b03f53b803361cb0",
            "1683796688384abda1241dc905b39c6a",
            "75ac8f137d2c44fcb31a83c10cd400f5",
            "aff159a134f144fe93bee3739821be61",
            "6d77438371f44d18aa6dda4ecd0b7fe0",
            "e7cfa729ffd64d8aacd49f859d8b456c",
            "cb8aabccdc2b4f28aa01ff3ed3368061",
            "5d2abdb5125a4664b27f48bf335a02ec",
            "1577777fb6a342c18cdd2fcef58dc58b",
            "3141afb2f18342068579bd807c5d5ac1",
            "7e2c7f52351e42b681f1c398acd21623",
            "a61e8e7b641b46d08babee254d1b0918",
            "c615d86305fd45829aa75a66f91c4d31",
            "d036065607de4306a0dae2c8c289a011",
            "43ba8dbb93794e6cba4bf6cb5a3258b4",
            "fc39a12c98cd418695ca4f3c30d4042a",
            "abf69ee7de31474b888f28b2e584d2bd",
            "8b7ca9e58c2342fbaa82cac4d5b93359",
            "050b92abdda749d08a221ba7fcd754bb",
            "1df42247ebde45f8b69d505b82549e4f",
            "d27bdd8a83b749ac95ecee240b72dfa0",
            "e9fe0daabb6846978f0412d76f143b50",
            "7ffa632684044bdbb58c55acdb8de7ef",
            "986910d82dc94e32a06e9b04ea86225c",
            "f30ffa929a6e4eae8d7d000ec9056817",
            "d34fa0826b1b4f3fb47c82970ca93322",
            "b5f71a0faa154267a5b2e24ce610af9b",
            "f97cc8a780cb40b683adcbd31f9f6d0e",
            "00f27bf88aab44c6b321275fc5aee677",
            "b89d9ae1c15d460099de7866190dfb12"
          ]
        },
        "id": "-K_oy0c1EqzB",
        "outputId": "e817b923-6057-46f2-9186-d4bfdc0aa9d7"
      },
      "execution_count": 20,
      "outputs": [
        {
          "output_type": "stream",
          "name": "stderr",
          "text": [
            "/usr/local/lib/python3.11/dist-packages/huggingface_hub/utils/_auth.py:94: UserWarning: \n",
            "The secret `HF_TOKEN` does not exist in your Colab secrets.\n",
            "To authenticate with the Hugging Face Hub, create a token in your settings tab (https://huggingface.co/settings/tokens), set it as secret in your Google Colab and restart your session.\n",
            "You will be able to reuse this secret in all of your notebooks.\n",
            "Please note that authentication is recommended but still optional to access public models or datasets.\n",
            "  warnings.warn(\n"
          ]
        },
        {
          "output_type": "display_data",
          "data": {
            "text/plain": [
              "spiece.model:   0%|          | 0.00/792k [00:00<?, ?B/s]"
            ],
            "application/vnd.jupyter.widget-view+json": {
              "version_major": 2,
              "version_minor": 0,
              "model_id": "198175c1346b41159d41a82b2df64c58"
            }
          },
          "metadata": {}
        },
        {
          "output_type": "display_data",
          "data": {
            "text/plain": [
              "tokenizer.json:   0%|          | 0.00/1.39M [00:00<?, ?B/s]"
            ],
            "application/vnd.jupyter.widget-view+json": {
              "version_major": 2,
              "version_minor": 0,
              "model_id": "874a34707e7941dd9c71631ac0d5859f"
            }
          },
          "metadata": {}
        },
        {
          "output_type": "display_data",
          "data": {
            "text/plain": [
              "config.json:   0%|          | 0.00/1.21k [00:00<?, ?B/s]"
            ],
            "application/vnd.jupyter.widget-view+json": {
              "version_major": 2,
              "version_minor": 0,
              "model_id": "f544a768ee4f4041b18979d88711a435"
            }
          },
          "metadata": {}
        },
        {
          "output_type": "stream",
          "name": "stderr",
          "text": [
            "You are using the default legacy behaviour of the <class 'transformers.models.t5.tokenization_t5.T5Tokenizer'>. This is expected, and simply means that the `legacy` (previous) behavior will be used so nothing changes for you. If you want to use the new behaviour, set `legacy=False`. This should only be set if you understand what it means, and thoroughly read the reason why this was added as explained in https://github.com/huggingface/transformers/pull/24565\n",
            "Xet Storage is enabled for this repo, but the 'hf_xet' package is not installed. Falling back to regular HTTP download. For better performance, install the package with: `pip install huggingface_hub[hf_xet]` or `pip install hf_xet`\n",
            "WARNING:huggingface_hub.file_download:Xet Storage is enabled for this repo, but the 'hf_xet' package is not installed. Falling back to regular HTTP download. For better performance, install the package with: `pip install huggingface_hub[hf_xet]` or `pip install hf_xet`\n"
          ]
        },
        {
          "output_type": "display_data",
          "data": {
            "text/plain": [
              "model.safetensors:   0%|          | 0.00/892M [00:00<?, ?B/s]"
            ],
            "application/vnd.jupyter.widget-view+json": {
              "version_major": 2,
              "version_minor": 0,
              "model_id": "1577777fb6a342c18cdd2fcef58dc58b"
            }
          },
          "metadata": {}
        },
        {
          "output_type": "display_data",
          "data": {
            "text/plain": [
              "generation_config.json:   0%|          | 0.00/147 [00:00<?, ?B/s]"
            ],
            "application/vnd.jupyter.widget-view+json": {
              "version_major": 2,
              "version_minor": 0,
              "model_id": "1df42247ebde45f8b69d505b82549e4f"
            }
          },
          "metadata": {}
        }
      ]
    },
    {
      "cell_type": "markdown",
      "source": [
        "Sebelum melatih model, mari kita tokenisasi data"
      ],
      "metadata": {
        "id": "5OOhHq6dFnKl"
      }
    },
    {
      "cell_type": "code",
      "source": [
        "def tokenize_data(inputs, labels, tokenizer, max_length=128):\n",
        "    input_encodings = tokenizer(\n",
        "        list(inputs), max_length=max_length, padding=True, truncation=True, return_tensors=\"pt\"\n",
        "    )\n",
        "    label_encodings = tokenizer(\n",
        "        list(labels), max_length=max_length, padding=True, truncation=True, return_tensors=\"pt\"\n",
        "    )\n",
        "    return input_encodings, label_encodings\n",
        "\n",
        "train_inputs_enc, train_labels_enc = tokenize_data(train_inputs, train_labels, tokenizer)\n",
        "test_inputs_enc, test_labels_enc = tokenize_data(test_inputs, test_labels, tokenizer)"
      ],
      "metadata": {
        "id": "NVFYlcmHFBQ2"
      },
      "execution_count": 21,
      "outputs": []
    },
    {
      "cell_type": "code",
      "source": [
        "class CustomDataset(Dataset):\n",
        "    def __init__(self, encodings, labels):\n",
        "        self.encodings = encodings\n",
        "        self.labels = labels\n",
        "\n",
        "    def __len__(self):\n",
        "        return len(self.labels[\"input_ids\"])\n",
        "\n",
        "    def __getitem__(self, idx):\n",
        "        return {\n",
        "            \"input_ids\": self.encodings[\"input_ids\"][idx],\n",
        "            \"attention_mask\": self.encodings[\"attention_mask\"][idx],\n",
        "            \"labels\": self.labels[\"input_ids\"][idx],\n",
        "        }\n",
        "\n",
        "train_dataset = CustomDataset(train_inputs_enc, train_labels_enc)\n",
        "test_dataset = CustomDataset(test_inputs_enc, test_labels_enc)\n",
        "\n",
        "train_loader = DataLoader(train_dataset, batch_size=8, shuffle=True)\n",
        "test_loader = DataLoader(test_dataset, batch_size=8)"
      ],
      "metadata": {
        "id": "C36lf8eyFaX-"
      },
      "execution_count": 22,
      "outputs": []
    },
    {
      "cell_type": "markdown",
      "source": [
        "Mari kita train model kita kali ini serta menggunakan Optimizer untuk meningkatkan Akurasi model!"
      ],
      "metadata": {
        "id": "jiNWVqtDHjUx"
      }
    },
    {
      "cell_type": "code",
      "source": [
        "optimizer = AdamW(model.parameters(), lr=5e-6)\n",
        "\n",
        "device = torch.device(\"cuda\") if torch.cuda.is_available() else torch.device(\"cpu\")\n",
        "model.to(device)\n",
        "\n",
        "epochs = 300\n",
        "for epoch in range(epochs):\n",
        "    model.train()\n",
        "    for batch in train_loader:\n",
        "        optimizer.zero_grad()\n",
        "\n",
        "        input_ids = batch[\"input_ids\"].to(device)\n",
        "        attention_mask = batch[\"attention_mask\"].to(device)\n",
        "        labels = batch[\"labels\"].to(device)\n",
        "\n",
        "        outputs = model(input_ids=input_ids, attention_mask=attention_mask, labels=labels)\n",
        "        loss = outputs.loss\n",
        "        loss.backward()\n",
        "        optimizer.step()\n",
        "\n",
        "    print(f\"Epoch {epoch + 1} Loss: {loss.item()}\")"
      ],
      "metadata": {
        "colab": {
          "base_uri": "https://localhost:8080/"
        },
        "id": "ZFxPOJh2FkLc",
        "outputId": "c5a2a762-5d4f-49bd-e323-38f4f5a217a4"
      },
      "execution_count": 23,
      "outputs": [
        {
          "metadata": {
            "tags": null
          },
          "name": "stderr",
          "output_type": "stream",
          "text": [
            "Passing a tuple of `past_key_values` is deprecated and will be removed in Transformers v4.48.0. You should pass an instance of `EncoderDecoderCache` instead, e.g. `past_key_values=EncoderDecoderCache.from_legacy_cache(past_key_values)`.\n"
          ]
        },
        {
          "output_type": "stream",
          "name": "stdout",
          "text": [
            "Epoch 1 Loss: 3.8859550952911377\n",
            "Epoch 2 Loss: 1.9943588972091675\n",
            "Epoch 3 Loss: 1.0364328622817993\n",
            "Epoch 4 Loss: 1.08381187915802\n",
            "Epoch 5 Loss: 0.8080282211303711\n",
            "Epoch 6 Loss: 0.7284589409828186\n",
            "Epoch 7 Loss: 0.7101523876190186\n",
            "Epoch 8 Loss: 1.8257259130477905\n",
            "Epoch 9 Loss: 1.4991545677185059\n",
            "Epoch 10 Loss: 0.5647551417350769\n",
            "Epoch 11 Loss: 1.475122332572937\n",
            "Epoch 12 Loss: 0.5308416485786438\n",
            "Epoch 13 Loss: 1.9766144752502441\n",
            "Epoch 14 Loss: 0.34073492884635925\n",
            "Epoch 15 Loss: 0.5684186816215515\n",
            "Epoch 16 Loss: 1.457788109779358\n",
            "Epoch 17 Loss: 2.3355212211608887\n",
            "Epoch 18 Loss: 0.5158972144126892\n",
            "Epoch 19 Loss: 1.5391343832015991\n",
            "Epoch 20 Loss: 1.1571787595748901\n",
            "Epoch 21 Loss: 0.3925011157989502\n",
            "Epoch 22 Loss: 1.393946647644043\n",
            "Epoch 23 Loss: 1.120505452156067\n",
            "Epoch 24 Loss: 0.43720436096191406\n",
            "Epoch 25 Loss: 1.24997878074646\n",
            "Epoch 26 Loss: 1.2107274532318115\n",
            "Epoch 27 Loss: 0.4278765022754669\n",
            "Epoch 28 Loss: 0.5620697140693665\n",
            "Epoch 29 Loss: 0.5768057107925415\n",
            "Epoch 30 Loss: 1.0260953903198242\n",
            "Epoch 31 Loss: 0.266813188791275\n",
            "Epoch 32 Loss: 0.3455098569393158\n",
            "Epoch 33 Loss: 1.087992548942566\n",
            "Epoch 34 Loss: 1.2477095127105713\n",
            "Epoch 35 Loss: 0.3636268675327301\n",
            "Epoch 36 Loss: 0.4339925944805145\n",
            "Epoch 37 Loss: 0.39016127586364746\n",
            "Epoch 38 Loss: 1.311475157737732\n",
            "Epoch 39 Loss: 0.38433268666267395\n",
            "Epoch 40 Loss: 0.4239570200443268\n",
            "Epoch 41 Loss: 0.5025156140327454\n",
            "Epoch 42 Loss: 1.3547110557556152\n",
            "Epoch 43 Loss: 0.46768367290496826\n",
            "Epoch 44 Loss: 0.4770992696285248\n",
            "Epoch 45 Loss: 0.3939615786075592\n",
            "Epoch 46 Loss: 0.41039061546325684\n",
            "Epoch 47 Loss: 0.9775438904762268\n",
            "Epoch 48 Loss: 1.0612667798995972\n",
            "Epoch 49 Loss: 1.4701570272445679\n",
            "Epoch 50 Loss: 1.2396591901779175\n",
            "Epoch 51 Loss: 0.5925846099853516\n",
            "Epoch 52 Loss: 1.5065407752990723\n",
            "Epoch 53 Loss: 1.3661085367202759\n",
            "Epoch 54 Loss: 0.35501644015312195\n",
            "Epoch 55 Loss: 0.3055064380168915\n",
            "Epoch 56 Loss: 1.0578844547271729\n",
            "Epoch 57 Loss: 0.9305319786071777\n",
            "Epoch 58 Loss: 0.4101090431213379\n",
            "Epoch 59 Loss: 1.0803338289260864\n",
            "Epoch 60 Loss: 2.229893922805786\n",
            "Epoch 61 Loss: 0.3908025324344635\n",
            "Epoch 62 Loss: 0.9685623049736023\n",
            "Epoch 63 Loss: 0.3856015205383301\n",
            "Epoch 64 Loss: 1.0334984064102173\n",
            "Epoch 65 Loss: 0.8135287165641785\n",
            "Epoch 66 Loss: 0.9667220115661621\n",
            "Epoch 67 Loss: 0.3721989691257477\n",
            "Epoch 68 Loss: 0.415849894285202\n",
            "Epoch 69 Loss: 0.3351312577724457\n",
            "Epoch 70 Loss: 0.957150399684906\n",
            "Epoch 71 Loss: 0.32267096638679504\n",
            "Epoch 72 Loss: 0.39675983786582947\n",
            "Epoch 73 Loss: 0.24200616776943207\n",
            "Epoch 74 Loss: 1.0691399574279785\n",
            "Epoch 75 Loss: 0.2148444652557373\n",
            "Epoch 76 Loss: 0.23936086893081665\n",
            "Epoch 77 Loss: 0.2645567059516907\n",
            "Epoch 78 Loss: 1.3733021020889282\n",
            "Epoch 79 Loss: 0.36298099160194397\n",
            "Epoch 80 Loss: 0.3239454925060272\n",
            "Epoch 81 Loss: 0.3242134153842926\n",
            "Epoch 82 Loss: 0.2191760540008545\n",
            "Epoch 83 Loss: 0.33729100227355957\n",
            "Epoch 84 Loss: 0.3504357635974884\n",
            "Epoch 85 Loss: 1.171555757522583\n",
            "Epoch 86 Loss: 0.3572734594345093\n",
            "Epoch 87 Loss: 0.28643864393234253\n",
            "Epoch 88 Loss: 0.8235343098640442\n",
            "Epoch 89 Loss: 0.29643669724464417\n",
            "Epoch 90 Loss: 1.1742826700210571\n",
            "Epoch 91 Loss: 0.3424341380596161\n",
            "Epoch 92 Loss: 0.2534313201904297\n",
            "Epoch 93 Loss: 0.336877703666687\n",
            "Epoch 94 Loss: 0.2850801646709442\n",
            "Epoch 95 Loss: 0.2307165414094925\n",
            "Epoch 96 Loss: 0.782519519329071\n",
            "Epoch 97 Loss: 0.3375793993473053\n",
            "Epoch 98 Loss: 0.2938213646411896\n",
            "Epoch 99 Loss: 1.6594451665878296\n",
            "Epoch 100 Loss: 0.3253694772720337\n",
            "Epoch 101 Loss: 0.3259282112121582\n",
            "Epoch 102 Loss: 0.15140999853610992\n",
            "Epoch 103 Loss: 0.44347915053367615\n",
            "Epoch 104 Loss: 0.8767527937889099\n",
            "Epoch 105 Loss: 0.2900710999965668\n",
            "Epoch 106 Loss: 1.194501519203186\n",
            "Epoch 107 Loss: 0.9519546031951904\n",
            "Epoch 108 Loss: 0.272492378950119\n",
            "Epoch 109 Loss: 0.3102998435497284\n",
            "Epoch 110 Loss: 0.8745401501655579\n",
            "Epoch 111 Loss: 0.3091529905796051\n",
            "Epoch 112 Loss: 0.8969668745994568\n",
            "Epoch 113 Loss: 0.28029105067253113\n",
            "Epoch 114 Loss: 0.315870076417923\n",
            "Epoch 115 Loss: 1.4817036390304565\n",
            "Epoch 116 Loss: 0.2813919484615326\n",
            "Epoch 117 Loss: 0.2795870900154114\n",
            "Epoch 118 Loss: 0.3603961169719696\n",
            "Epoch 119 Loss: 0.6615080833435059\n",
            "Epoch 120 Loss: 0.2740808427333832\n",
            "Epoch 121 Loss: 0.2644933760166168\n",
            "Epoch 122 Loss: 0.3647482693195343\n",
            "Epoch 123 Loss: 0.1913049817085266\n",
            "Epoch 124 Loss: 0.8059155941009521\n",
            "Epoch 125 Loss: 0.6123159527778625\n",
            "Epoch 126 Loss: 0.8670487403869629\n",
            "Epoch 127 Loss: 1.2871381044387817\n",
            "Epoch 128 Loss: 0.21841275691986084\n",
            "Epoch 129 Loss: 0.71810382604599\n",
            "Epoch 130 Loss: 0.15607379376888275\n",
            "Epoch 131 Loss: 0.6447038650512695\n",
            "Epoch 132 Loss: 0.19976423680782318\n",
            "Epoch 133 Loss: 0.26072871685028076\n",
            "Epoch 134 Loss: 0.6256787180900574\n",
            "Epoch 135 Loss: 0.6794574856758118\n",
            "Epoch 136 Loss: 0.25041255354881287\n",
            "Epoch 137 Loss: 0.6795711517333984\n",
            "Epoch 138 Loss: 1.2257165908813477\n",
            "Epoch 139 Loss: 0.8078314661979675\n",
            "Epoch 140 Loss: 0.19000716507434845\n",
            "Epoch 141 Loss: 0.19790254533290863\n",
            "Epoch 142 Loss: 0.2651921212673187\n",
            "Epoch 143 Loss: 0.47950491309165955\n",
            "Epoch 144 Loss: 0.9541464447975159\n",
            "Epoch 145 Loss: 0.30497848987579346\n",
            "Epoch 146 Loss: 0.17235587537288666\n",
            "Epoch 147 Loss: 0.20909111201763153\n",
            "Epoch 148 Loss: 1.0989347696304321\n",
            "Epoch 149 Loss: 0.29791733622550964\n",
            "Epoch 150 Loss: 0.72590571641922\n",
            "Epoch 151 Loss: 1.2029898166656494\n",
            "Epoch 152 Loss: 0.16435261070728302\n",
            "Epoch 153 Loss: 0.1842048168182373\n",
            "Epoch 154 Loss: 0.969468891620636\n",
            "Epoch 155 Loss: 0.25380632281303406\n",
            "Epoch 156 Loss: 0.5256960988044739\n",
            "Epoch 157 Loss: 0.2627156972885132\n",
            "Epoch 158 Loss: 0.7679463028907776\n",
            "Epoch 159 Loss: 1.0999281406402588\n",
            "Epoch 160 Loss: 0.3493123948574066\n",
            "Epoch 161 Loss: 0.8692558407783508\n",
            "Epoch 162 Loss: 0.7746395468711853\n",
            "Epoch 163 Loss: 0.25095680356025696\n",
            "Epoch 164 Loss: 0.2453114539384842\n",
            "Epoch 165 Loss: 1.3423854112625122\n",
            "Epoch 166 Loss: 0.2205473631620407\n",
            "Epoch 167 Loss: 0.18826256692409515\n",
            "Epoch 168 Loss: 0.221872016787529\n",
            "Epoch 169 Loss: 1.1131222248077393\n",
            "Epoch 170 Loss: 0.19388587772846222\n",
            "Epoch 171 Loss: 0.5987555980682373\n",
            "Epoch 172 Loss: 0.24123786389827728\n",
            "Epoch 173 Loss: 0.21568889915943146\n",
            "Epoch 174 Loss: 0.1988675743341446\n",
            "Epoch 175 Loss: 0.11262554675340652\n",
            "Epoch 176 Loss: 0.9457074999809265\n",
            "Epoch 177 Loss: 0.2130545973777771\n",
            "Epoch 178 Loss: 0.22793494164943695\n",
            "Epoch 179 Loss: 1.032075047492981\n",
            "Epoch 180 Loss: 1.0832310914993286\n",
            "Epoch 181 Loss: 0.27923348546028137\n",
            "Epoch 182 Loss: 0.14961953461170197\n",
            "Epoch 183 Loss: 0.1735396385192871\n",
            "Epoch 184 Loss: 0.7107296586036682\n",
            "Epoch 185 Loss: 0.21682678163051605\n",
            "Epoch 186 Loss: 1.1436281204223633\n",
            "Epoch 187 Loss: 0.1434227079153061\n",
            "Epoch 188 Loss: 0.24237219989299774\n",
            "Epoch 189 Loss: 0.41888272762298584\n",
            "Epoch 190 Loss: 1.0338531732559204\n",
            "Epoch 191 Loss: 1.0775165557861328\n",
            "Epoch 192 Loss: 1.0198407173156738\n",
            "Epoch 193 Loss: 0.23924201726913452\n",
            "Epoch 194 Loss: 0.19098079204559326\n",
            "Epoch 195 Loss: 0.7035890221595764\n",
            "Epoch 196 Loss: 0.14247345924377441\n",
            "Epoch 197 Loss: 0.5224982500076294\n",
            "Epoch 198 Loss: 0.4155218303203583\n",
            "Epoch 199 Loss: 0.21215520799160004\n",
            "Epoch 200 Loss: 0.619842529296875\n",
            "Epoch 201 Loss: 0.2582148611545563\n",
            "Epoch 202 Loss: 0.16201411187648773\n",
            "Epoch 203 Loss: 0.6694107055664062\n",
            "Epoch 204 Loss: 0.6263183951377869\n",
            "Epoch 205 Loss: 0.6028350591659546\n",
            "Epoch 206 Loss: 0.5340394377708435\n",
            "Epoch 207 Loss: 0.7816367149353027\n",
            "Epoch 208 Loss: 0.1856278032064438\n",
            "Epoch 209 Loss: 0.14158549904823303\n",
            "Epoch 210 Loss: 0.1611240804195404\n",
            "Epoch 211 Loss: 0.13323526084423065\n",
            "Epoch 212 Loss: 0.5451567769050598\n",
            "Epoch 213 Loss: 0.6381688117980957\n",
            "Epoch 214 Loss: 0.09511784464120865\n",
            "Epoch 215 Loss: 0.5827229022979736\n",
            "Epoch 216 Loss: 0.7390264868736267\n",
            "Epoch 217 Loss: 0.1372208446264267\n",
            "Epoch 218 Loss: 0.29389631748199463\n",
            "Epoch 219 Loss: 0.5033021569252014\n",
            "Epoch 220 Loss: 0.24144071340560913\n",
            "Epoch 221 Loss: 0.5863425135612488\n",
            "Epoch 222 Loss: 0.22245635092258453\n",
            "Epoch 223 Loss: 0.1655072122812271\n",
            "Epoch 224 Loss: 0.1761847287416458\n",
            "Epoch 225 Loss: 0.13595817983150482\n",
            "Epoch 226 Loss: 0.1253557950258255\n",
            "Epoch 227 Loss: 0.21217499673366547\n",
            "Epoch 228 Loss: 0.19090789556503296\n",
            "Epoch 229 Loss: 0.31506988406181335\n",
            "Epoch 230 Loss: 0.16789484024047852\n",
            "Epoch 231 Loss: 0.16143175959587097\n",
            "Epoch 232 Loss: 0.12068172544240952\n",
            "Epoch 233 Loss: 0.3976627588272095\n",
            "Epoch 234 Loss: 0.6114306449890137\n",
            "Epoch 235 Loss: 0.14416049420833588\n",
            "Epoch 236 Loss: 0.7006940841674805\n",
            "Epoch 237 Loss: 0.15824884176254272\n",
            "Epoch 238 Loss: 0.3386203348636627\n",
            "Epoch 239 Loss: 0.14435264468193054\n",
            "Epoch 240 Loss: 0.13409128785133362\n",
            "Epoch 241 Loss: 0.19862966239452362\n",
            "Epoch 242 Loss: 0.14046528935432434\n",
            "Epoch 243 Loss: 0.2512185275554657\n",
            "Epoch 244 Loss: 0.38772061467170715\n",
            "Epoch 245 Loss: 0.1273539811372757\n",
            "Epoch 246 Loss: 0.49349987506866455\n",
            "Epoch 247 Loss: 0.1864340752363205\n",
            "Epoch 248 Loss: 0.11275681108236313\n",
            "Epoch 249 Loss: 0.9284773468971252\n",
            "Epoch 250 Loss: 0.4131484031677246\n",
            "Epoch 251 Loss: 0.11962584406137466\n",
            "Epoch 252 Loss: 0.08343631774187088\n",
            "Epoch 253 Loss: 0.3769712746143341\n",
            "Epoch 254 Loss: 0.5122196078300476\n",
            "Epoch 255 Loss: 0.5182453989982605\n",
            "Epoch 256 Loss: 0.17664307355880737\n",
            "Epoch 257 Loss: 0.16051842272281647\n",
            "Epoch 258 Loss: 0.11198464781045914\n",
            "Epoch 259 Loss: 0.19940392673015594\n",
            "Epoch 260 Loss: 0.43434610962867737\n",
            "Epoch 261 Loss: 0.4665837585926056\n",
            "Epoch 262 Loss: 0.10242002457380295\n",
            "Epoch 263 Loss: 0.2058512568473816\n",
            "Epoch 264 Loss: 0.4284834861755371\n",
            "Epoch 265 Loss: 0.17369745671749115\n",
            "Epoch 266 Loss: 0.32654309272766113\n",
            "Epoch 267 Loss: 0.1888849288225174\n",
            "Epoch 268 Loss: 0.18367896974086761\n",
            "Epoch 269 Loss: 0.15005424618721008\n",
            "Epoch 270 Loss: 0.33482301235198975\n",
            "Epoch 271 Loss: 0.5559075474739075\n",
            "Epoch 272 Loss: 0.18118037283420563\n",
            "Epoch 273 Loss: 0.12895207107067108\n",
            "Epoch 274 Loss: 0.3428347408771515\n",
            "Epoch 275 Loss: 0.4301939904689789\n",
            "Epoch 276 Loss: 0.22737617790699005\n",
            "Epoch 277 Loss: 0.14345428347587585\n",
            "Epoch 278 Loss: 0.10724547505378723\n",
            "Epoch 279 Loss: 0.36612239480018616\n",
            "Epoch 280 Loss: 0.43065425753593445\n",
            "Epoch 281 Loss: 0.12872958183288574\n",
            "Epoch 282 Loss: 0.12686486542224884\n",
            "Epoch 283 Loss: 0.09842503815889359\n",
            "Epoch 284 Loss: 0.6664547324180603\n",
            "Epoch 285 Loss: 0.18634457886219025\n",
            "Epoch 286 Loss: 0.39713379740715027\n",
            "Epoch 287 Loss: 0.13883639872074127\n",
            "Epoch 288 Loss: 0.19049112498760223\n",
            "Epoch 289 Loss: 0.15176773071289062\n",
            "Epoch 290 Loss: 0.17447330057621002\n",
            "Epoch 291 Loss: 0.5166248679161072\n",
            "Epoch 292 Loss: 0.16039572656154633\n",
            "Epoch 293 Loss: 0.24788928031921387\n",
            "Epoch 294 Loss: 0.37990760803222656\n",
            "Epoch 295 Loss: 0.1451777070760727\n",
            "Epoch 296 Loss: 0.6271709203720093\n",
            "Epoch 297 Loss: 0.16428102552890778\n",
            "Epoch 298 Loss: 0.792782723903656\n",
            "Epoch 299 Loss: 0.3849107027053833\n",
            "Epoch 300 Loss: 0.1294054388999939\n"
          ]
        }
      ]
    },
    {
      "cell_type": "markdown",
      "source": [
        "Epoch terakhir menunjukkan 0.13 Loss"
      ],
      "metadata": {
        "id": "QX6UySIz5051"
      }
    },
    {
      "cell_type": "markdown",
      "source": [
        "## Model Testing"
      ],
      "metadata": {
        "id": "4IIDwvFP6YDT"
      }
    },
    {
      "cell_type": "code",
      "source": [
        "model.eval()\n",
        "for batch in test_loader:\n",
        "    input_ids = batch[\"input_ids\"].to(device)\n",
        "    attention_mask = batch[\"attention_mask\"].to(device)\n",
        "    labels = batch[\"labels\"].to(device)\n",
        "\n",
        "    input_texts = [tokenizer.decode(ids, skip_special_tokens=True) for ids in input_ids]\n",
        "    true_labels = [tokenizer.decode(label, skip_special_tokens=True) for label in labels]\n",
        "\n",
        "    outputs = model.generate(\n",
        "        input_ids=input_ids,\n",
        "        attention_mask=attention_mask,\n",
        "        max_length=50\n",
        "    )\n",
        "    predictions = [tokenizer.decode(output, skip_special_tokens=True) for output in outputs]\n",
        "\n",
        "    for input_text, true_label, pred in zip(input_texts, true_labels, predictions):\n",
        "        print(\"-\" * 50)\n",
        "        print(f\"input_txt: {input_text}\")\n",
        "        print(f\"true_label: {true_label}\")\n",
        "        print(f\"true_pred: {pred}\")\n",
        "\n",
        "    break"
      ],
      "metadata": {
        "colab": {
          "base_uri": "https://localhost:8080/"
        },
        "id": "UP6DPyQP5y3u",
        "outputId": "294550ce-a600-4126-9f71-52f0a72a93e5"
      },
      "execution_count": 24,
      "outputs": [
        {
          "output_type": "stream",
          "name": "stdout",
          "text": [
            "--------------------------------------------------\n",
            "input_txt: Why does Allah allow bad people to succeed in this world?\n",
            "true_label: The Quran warns that worldly success is a test: 'Do not be deceived by the prosperity of those who disbelieve' (3:196). True success lies in righteousness.\n",
            "true_pred: Allah allows bad people to succeed in this world by fostering moral and spiritual growth.\n",
            "--------------------------------------------------\n",
            "input_txt: What does the Quran teach about the responsibility of using reason to safeguard one’s faith?\n",
            "true_label: It teaches that using reason is a fundamental responsibility that protects and strengthens one’s faith.\n",
            "true_pred: It teaches that using reason to safeguard one’s faith is a duty that requires continual improvement.\n",
            "--------------------------------------------------\n",
            "input_txt: What does the Quran teach about handling criticism within the family?\n",
            "true_label: The Quran encourages using constructive criticism as an opportunity for growth, responding with patience and humility.\n",
            "true_pred: The Quran teaches that constructive criticism is essential for building trust and preventing rifts within the family.\n",
            "--------------------------------------------------\n",
            "input_txt: What guidance does the Quran offer for handling disagreements over household responsibilities between working parents?\n",
            "true_label: Equitable sharing and open communication between working parents are essential for resolving household responsibility conflicts.\n",
            "true_pred: Working parents should resolve household responsibilities through consultation and compromise, ensuring that children are well-behaved.\n",
            "--------------------------------------------------\n",
            "input_txt: How does the Quran guide us in resolving conflicts when family members disagree on the use of family time for religious practices?\n",
            "true_label: Conflicts over religious practices are resolved through mutual agreement and collective worship, as the Quran encourages.\n",
            "true_pred: Resolving religious practices conflicts involves utilizing family time wisely and ensuring that practices align with Quranic values.\n",
            "--------------------------------------------------\n",
            "input_txt: Explain the Quranic concept of 'Adl' (justice) and its different dimensions: legal, social, and economic.\n",
            "true_label: 'Adl' (justice) is foundational in Quranic teachings, encompassing legal, social, and economic dimensions. Legal justice is fair judgment and equal legal treatment (4:135, 5:8). Social justice is equity and protecting rights, especially for vulnerable (16:90). Economic justice is fair wealth distribution and needs fulfillment (59:7, 9:60). Quran mandates establishing justice in all life aspects as divine command and reflection of Allah's attribute Al-Adl. Justice is a comprehensive Islamic ethical and social principle, not solely legal.\n",
            "true_pred: 'Adl' (justice) is a broad concept, encompassing legal, social, and economic dimensions. It encompasses all dimensions, encompassing rights and responsibilities, encompassing social, economic, and personal rights\n",
            "--------------------------------------------------\n",
            "input_txt: If Allah knows everything, do we really have free will?\n",
            "true_label: Though Allah knows everything, humans have free will to choose their path. The Quran says: 'Indeed, We guided him to the way, be he grateful or ungrateful' (76:3).\n",
            "true_pred: Allah knows everything, but do we really have free will to choose?\n",
            "--------------------------------------------------\n",
            "input_txt: What does the Quran say about the importance of self-reflection in resolving personal conflicts within the family?\n",
            "true_label: Self-reflection and continuous self-improvement are key to resolving personal conflicts, as the Quran teaches.\n",
            "true_pred: Self-reflection is key to resolving conflicts by addressing personal shortcomings and fostering a positive, collaborative family environment, as taught by the Quran.\n"
          ]
        }
      ]
    },
    {
      "cell_type": "markdown",
      "source": [
        "## Model Evaluation"
      ],
      "metadata": {
        "id": "H2YNn48N9E1A"
      }
    },
    {
      "cell_type": "code",
      "source": [
        "# Initialize the ROUGE scorer\n",
        "scorer = rouge_scorer.RougeScorer(['rouge1', 'rougeL'], use_stemmer=True)\n",
        "\n",
        "# Assuming 'predictions' and 'true_labels' are lists of strings from the previous code block\n",
        "\n",
        "bleu_scores = []\n",
        "rouge1_scores = []\n",
        "rougeL_scores = []\n",
        "\n",
        "for prediction, true_label in zip(predictions, true_labels):\n",
        "  # Calculate BLEU score\n",
        "  reference = [true_label.split()]\n",
        "  candidate = prediction.split()\n",
        "  bleu_score = sentence_bleu(reference, candidate)\n",
        "  bleu_scores.append(bleu_score)\n",
        "\n",
        "  # Calculate ROUGE scores\n",
        "  scores = scorer.score(true_label, prediction)\n",
        "  rouge1_scores.append(scores['rouge1'].fmeasure)\n",
        "  rougeL_scores.append(scores['rougeL'].fmeasure)\n",
        "\n",
        "# Calculate average scores\n",
        "avg_bleu = np.mean(bleu_scores)\n",
        "avg_rouge1 = np.mean(rouge1_scores)\n",
        "avg_rougeL = np.mean(rougeL_scores)\n",
        "\n",
        "print(f\"Average BLEU Score: {avg_bleu}\")\n",
        "print(f\"Average ROUGE-1 Score: {avg_rouge1}\")\n",
        "print(f\"Average ROUGE-L Score: {avg_rougeL}\")\n"
      ],
      "metadata": {
        "colab": {
          "base_uri": "https://localhost:8080/"
        },
        "id": "mPo7Q1Yb9ElH",
        "outputId": "eba58b91-943e-43d9-ec80-53a7a64c98af"
      },
      "execution_count": 35,
      "outputs": [
        {
          "output_type": "stream",
          "name": "stdout",
          "text": [
            "Average BLEU Score: 0.050027511624029866\n",
            "Average ROUGE-1 Score: 0.40502670538075736\n",
            "Average ROUGE-L Score: 0.31920398605095696\n"
          ]
        },
        {
          "output_type": "stream",
          "name": "stderr",
          "text": [
            "/usr/local/lib/python3.11/dist-packages/nltk/translate/bleu_score.py:577: UserWarning: \n",
            "The hypothesis contains 0 counts of 2-gram overlaps.\n",
            "Therefore the BLEU score evaluates to 0, independently of\n",
            "how many N-gram overlaps of lower order it contains.\n",
            "Consider using lower n-gram order or use SmoothingFunction()\n",
            "  warnings.warn(_msg)\n",
            "/usr/local/lib/python3.11/dist-packages/nltk/translate/bleu_score.py:577: UserWarning: \n",
            "The hypothesis contains 0 counts of 3-gram overlaps.\n",
            "Therefore the BLEU score evaluates to 0, independently of\n",
            "how many N-gram overlaps of lower order it contains.\n",
            "Consider using lower n-gram order or use SmoothingFunction()\n",
            "  warnings.warn(_msg)\n",
            "/usr/local/lib/python3.11/dist-packages/nltk/translate/bleu_score.py:577: UserWarning: \n",
            "The hypothesis contains 0 counts of 4-gram overlaps.\n",
            "Therefore the BLEU score evaluates to 0, independently of\n",
            "how many N-gram overlaps of lower order it contains.\n",
            "Consider using lower n-gram order or use SmoothingFunction()\n",
            "  warnings.warn(_msg)\n"
          ]
        }
      ]
    },
    {
      "cell_type": "markdown",
      "source": [
        "## Penjelasan Setiap Metrik\n",
        "\n",
        "---\n",
        "\n",
        "- **BLEU (Bilingual Evaluation Understudy)**\n",
        "\n",
        "  > Nilai: 0.050\n",
        "\n",
        "  BLEU digunakan untuk mengukur kemiripan antara hasil generasi model dengan jawaban referensi berdasarkan kesamaan n-gram.\n",
        "\n",
        "  Skor BLEU < 0.1 dalam konteks QnA bersifat umum, terutama pada teks yang bersifat panjang, reasoning, atau bernuansa keagamaan karena struktur jawabannya bisa sangat variatif tergantung pertanyaannya.\n",
        "\n",
        "  Dalam model kali ini, skor BLEU kita relatif **Rendah** yang dimana menunjukkan bahwa model menghasilkan jawaban yang secara kata-kata sangat berbeda dari jawaban referensi, meskipun bisa saja maknanya benar.\n",
        "\n",
        "---\n",
        "\n",
        "- **ROUGE-1**\n",
        "  > Nilai: 0.405\n",
        "\n",
        "  Mengukur kesamaan kata secara langsung (unigram overlap) antara jawaban model dan jawaban referensi.\n",
        "\n",
        "  Skor di atas 0.4 dianggap **Cukup Baik** untuk tugas QnA generatif.\n",
        "\n",
        "---\n",
        "\n",
        "- **ROUGE-L**\n",
        "  > Nilai: 0.319\n",
        "\n",
        "  Mengukur kesamaan struktur atau urutan kata (longest common subsequence).\n",
        "\n",
        "  Skor di atas 0.3 menunjukkan bahwa model **Cukup Baik** dalam meniru sebagian struktur kalimat dari jawaban referensi."
      ],
      "metadata": {
        "id": "YWSF26uH-hqs"
      }
    },
    {
      "cell_type": "markdown",
      "source": [
        "## Model Saving"
      ],
      "metadata": {
        "id": "zRMi1eakAOnz"
      }
    },
    {
      "cell_type": "code",
      "source": [
        "# Save the model\n",
        "model_path = \"/content/drive/MyDrive/CollabData/QuranicReasoningModel/Model1\"\n",
        "model.save_pretrained(model_path)\n",
        "tokenizer.save_pretrained(model_path)\n",
        "\n",
        "print(f\"Model saved to {model_path}\")\n"
      ],
      "metadata": {
        "colab": {
          "base_uri": "https://localhost:8080/"
        },
        "id": "PAay0jz-9jZt",
        "outputId": "4a4f962e-8471-4e05-e74c-97c59ac05699"
      },
      "execution_count": 37,
      "outputs": [
        {
          "output_type": "stream",
          "name": "stdout",
          "text": [
            "Model saved to /content/drive/MyDrive/CollabData/QuranicReasoningModel/Model1\n"
          ]
        }
      ]
    },
    {
      "cell_type": "code",
      "source": [],
      "metadata": {
        "id": "QU-VSF5LAmop"
      },
      "execution_count": null,
      "outputs": []
    }
  ]
}
