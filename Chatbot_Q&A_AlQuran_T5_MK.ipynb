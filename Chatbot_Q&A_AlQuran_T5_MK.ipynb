{
  "cells": [
    {
      "cell_type": "markdown",
      "id": "b5825b56",
      "metadata": {
        "id": "b5825b56",
        "papermill": {
          "duration": 0.007763,
          "end_time": "2025-04-08T15:30:59.048118",
          "exception": false,
          "start_time": "2025-04-08T15:30:59.040355",
          "status": "completed"
        },
        "tags": []
      },
      "source": [
        "# Chatbot Q&A Quranic Reasoning"
      ]
    },
    {
      "cell_type": "markdown",
      "id": "4f1e9a23",
      "metadata": {
        "id": "4f1e9a23",
        "papermill": {
          "duration": 0.006652,
          "end_time": "2025-04-08T15:30:59.062075",
          "exception": false,
          "start_time": "2025-04-08T15:30:59.055423",
          "status": "completed"
        },
        "tags": []
      },
      "source": [
        "## Business Understanding"
      ]
    },
    {
      "cell_type": "markdown",
      "id": "018eff16",
      "metadata": {
        "id": "018eff16",
        "papermill": {
          "duration": 0.006905,
          "end_time": "2025-04-08T15:30:59.076121",
          "exception": false,
          "start_time": "2025-04-08T15:30:59.069216",
          "status": "completed"
        },
        "tags": []
      },
      "source": [
        "- Bagaimana potensi penggunaan QRQA Dataset dalam mengembangkan produk edukasi digital Islam berbasis AI (seperti chatbot tanya jawab, aplikasi pembelajaran, atau virtual mufti)?\n",
        "\n",
        "  _Untuk mengidentifikasi peluang produk turunan dan segmen pasar potensial (pelajar, akademisi, pesantren digital, dll.)._\n",
        "\n",
        "- Model bahasa mana (seperti LLaMA, Mistral, DeepSeek, dsb.) yang paling cocok untuk fine-tuning dengan QRQA Dataset dalam konteks kecepatan, akurasi, dan efisiensi biaya?\n",
        "\n",
        "  _Akan dites pada Notebook ini._\n",
        "\n",
        "- Bagaimana cara mengukur efektivitas reasoning model terhadap pertanyaan-pertanyaan kompleks dalam QRQA?\n",
        "\n",
        "  _Menggunakan metrik evaluasi seperti BLEU, ROUGE, atau human-evaluated Islamic consistency score._"
      ]
    },
    {
      "cell_type": "markdown",
      "id": "457fb0ac",
      "metadata": {
        "id": "457fb0ac",
        "papermill": {
          "duration": 0.007089,
          "end_time": "2025-04-08T15:30:59.090212",
          "exception": false,
          "start_time": "2025-04-08T15:30:59.083123",
          "status": "completed"
        },
        "tags": []
      },
      "source": [
        "## Data and Tools Acquisition"
      ]
    },
    {
      "cell_type": "code",
      "execution_count": null,
      "id": "5b1ae2d5",
      "metadata": {
        "execution": {
          "iopub.execute_input": "2025-04-08T15:30:59.106148Z",
          "iopub.status.busy": "2025-04-08T15:30:59.105737Z",
          "iopub.status.idle": "2025-04-08T15:31:14.308313Z",
          "shell.execute_reply": "2025-04-08T15:31:14.307160Z"
        },
        "id": "5b1ae2d5",
        "outputId": "1ae695c9-df52-4db6-a813-6ef312ec54f7",
        "papermill": {
          "duration": 15.212772,
          "end_time": "2025-04-08T15:31:14.310298",
          "exception": false,
          "start_time": "2025-04-08T15:30:59.097526",
          "status": "completed"
        },
        "tags": []
      },
      "outputs": [
        {
          "name": "stdout",
          "output_type": "stream",
          "text": [
            "Requirement already satisfied: transformers in /usr/local/lib/python3.10/dist-packages (4.47.0)\r\n",
            "Requirement already satisfied: filelock in /usr/local/lib/python3.10/dist-packages (from transformers) (3.17.0)\r\n",
            "Requirement already satisfied: huggingface-hub<1.0,>=0.24.0 in /usr/local/lib/python3.10/dist-packages (from transformers) (0.29.0)\r\n",
            "Requirement already satisfied: numpy>=1.17 in /usr/local/lib/python3.10/dist-packages (from transformers) (1.26.4)\r\n",
            "Requirement already satisfied: packaging>=20.0 in /usr/local/lib/python3.10/dist-packages (from transformers) (24.2)\r\n",
            "Requirement already satisfied: pyyaml>=5.1 in /usr/local/lib/python3.10/dist-packages (from transformers) (6.0.2)\r\n",
            "Requirement already satisfied: regex!=2019.12.17 in /usr/local/lib/python3.10/dist-packages (from transformers) (2024.11.6)\r\n",
            "Requirement already satisfied: requests in /usr/local/lib/python3.10/dist-packages (from transformers) (2.32.3)\r\n",
            "Requirement already satisfied: tokenizers<0.22,>=0.21 in /usr/local/lib/python3.10/dist-packages (from transformers) (0.21.0)\r\n",
            "Requirement already satisfied: safetensors>=0.4.1 in /usr/local/lib/python3.10/dist-packages (from transformers) (0.4.5)\r\n",
            "Requirement already satisfied: tqdm>=4.27 in /usr/local/lib/python3.10/dist-packages (from transformers) (4.67.1)\r\n",
            "Requirement already satisfied: fsspec>=2023.5.0 in /usr/local/lib/python3.10/dist-packages (from huggingface-hub<1.0,>=0.24.0->transformers) (2024.12.0)\r\n",
            "Requirement already satisfied: typing-extensions>=3.7.4.3 in /usr/local/lib/python3.10/dist-packages (from huggingface-hub<1.0,>=0.24.0->transformers) (4.12.2)\r\n",
            "Requirement already satisfied: mkl_fft in /usr/local/lib/python3.10/dist-packages (from numpy>=1.17->transformers) (1.3.8)\r\n",
            "Requirement already satisfied: mkl_random in /usr/local/lib/python3.10/dist-packages (from numpy>=1.17->transformers) (1.2.4)\r\n",
            "Requirement already satisfied: mkl_umath in /usr/local/lib/python3.10/dist-packages (from numpy>=1.17->transformers) (0.1.1)\r\n",
            "Requirement already satisfied: mkl in /usr/local/lib/python3.10/dist-packages (from numpy>=1.17->transformers) (2025.0.1)\r\n",
            "Requirement already satisfied: tbb4py in /usr/local/lib/python3.10/dist-packages (from numpy>=1.17->transformers) (2022.0.0)\r\n",
            "Requirement already satisfied: mkl-service in /usr/local/lib/python3.10/dist-packages (from numpy>=1.17->transformers) (2.4.1)\r\n",
            "Requirement already satisfied: charset-normalizer<4,>=2 in /usr/local/lib/python3.10/dist-packages (from requests->transformers) (3.4.1)\r\n",
            "Requirement already satisfied: idna<4,>=2.5 in /usr/local/lib/python3.10/dist-packages (from requests->transformers) (3.10)\r\n",
            "Requirement already satisfied: urllib3<3,>=1.21.1 in /usr/local/lib/python3.10/dist-packages (from requests->transformers) (2.3.0)\r\n",
            "Requirement already satisfied: certifi>=2017.4.17 in /usr/local/lib/python3.10/dist-packages (from requests->transformers) (2025.1.31)\r\n",
            "Requirement already satisfied: intel-openmp>=2024 in /usr/local/lib/python3.10/dist-packages (from mkl->numpy>=1.17->transformers) (2024.2.0)\r\n",
            "Requirement already satisfied: tbb==2022.* in /usr/local/lib/python3.10/dist-packages (from mkl->numpy>=1.17->transformers) (2022.0.0)\r\n",
            "Requirement already satisfied: tcmlib==1.* in /usr/local/lib/python3.10/dist-packages (from tbb==2022.*->mkl->numpy>=1.17->transformers) (1.2.0)\r\n",
            "Requirement already satisfied: intel-cmplr-lib-rt in /usr/local/lib/python3.10/dist-packages (from mkl_umath->numpy>=1.17->transformers) (2024.2.0)\r\n",
            "Requirement already satisfied: intel-cmplr-lib-ur==2024.2.0 in /usr/local/lib/python3.10/dist-packages (from intel-openmp>=2024->mkl->numpy>=1.17->transformers) (2024.2.0)\r\n",
            "Requirement already satisfied: kaggle in /usr/local/lib/python3.10/dist-packages (1.6.17)\r\n",
            "Requirement already satisfied: six>=1.10 in /usr/local/lib/python3.10/dist-packages (from kaggle) (1.17.0)\r\n",
            "Requirement already satisfied: certifi>=2023.7.22 in /usr/local/lib/python3.10/dist-packages (from kaggle) (2025.1.31)\r\n",
            "Requirement already satisfied: python-dateutil in /usr/local/lib/python3.10/dist-packages (from kaggle) (2.9.0.post0)\r\n",
            "Requirement already satisfied: requests in /usr/local/lib/python3.10/dist-packages (from kaggle) (2.32.3)\r\n",
            "Requirement already satisfied: tqdm in /usr/local/lib/python3.10/dist-packages (from kaggle) (4.67.1)\r\n",
            "Requirement already satisfied: python-slugify in /usr/local/lib/python3.10/dist-packages (from kaggle) (8.0.4)\r\n",
            "Requirement already satisfied: urllib3 in /usr/local/lib/python3.10/dist-packages (from kaggle) (2.3.0)\r\n",
            "Requirement already satisfied: bleach in /usr/local/lib/python3.10/dist-packages (from kaggle) (6.2.0)\r\n",
            "Requirement already satisfied: webencodings in /usr/local/lib/python3.10/dist-packages (from bleach->kaggle) (0.5.1)\r\n",
            "Requirement already satisfied: text-unidecode>=1.3 in /usr/local/lib/python3.10/dist-packages (from python-slugify->kaggle) (1.3)\r\n",
            "Requirement already satisfied: charset-normalizer<4,>=2 in /usr/local/lib/python3.10/dist-packages (from requests->kaggle) (3.4.1)\r\n",
            "Requirement already satisfied: idna<4,>=2.5 in /usr/local/lib/python3.10/dist-packages (from requests->kaggle) (3.10)\r\n",
            "Collecting rouge-score\r\n",
            "  Downloading rouge_score-0.1.2.tar.gz (17 kB)\r\n",
            "  Preparing metadata (setup.py) ... \u001b[?25l\u001b[?25hdone\r\n",
            "Requirement already satisfied: absl-py in /usr/local/lib/python3.10/dist-packages (from rouge-score) (1.4.0)\r\n",
            "Requirement already satisfied: nltk in /usr/local/lib/python3.10/dist-packages (from rouge-score) (3.2.4)\r\n",
            "Requirement already satisfied: numpy in /usr/local/lib/python3.10/dist-packages (from rouge-score) (1.26.4)\r\n",
            "Requirement already satisfied: six>=1.14.0 in /usr/local/lib/python3.10/dist-packages (from rouge-score) (1.17.0)\r\n",
            "Requirement already satisfied: mkl_fft in /usr/local/lib/python3.10/dist-packages (from numpy->rouge-score) (1.3.8)\r\n",
            "Requirement already satisfied: mkl_random in /usr/local/lib/python3.10/dist-packages (from numpy->rouge-score) (1.2.4)\r\n",
            "Requirement already satisfied: mkl_umath in /usr/local/lib/python3.10/dist-packages (from numpy->rouge-score) (0.1.1)\r\n",
            "Requirement already satisfied: mkl in /usr/local/lib/python3.10/dist-packages (from numpy->rouge-score) (2025.0.1)\r\n",
            "Requirement already satisfied: tbb4py in /usr/local/lib/python3.10/dist-packages (from numpy->rouge-score) (2022.0.0)\r\n",
            "Requirement already satisfied: mkl-service in /usr/local/lib/python3.10/dist-packages (from numpy->rouge-score) (2.4.1)\r\n",
            "Requirement already satisfied: intel-openmp>=2024 in /usr/local/lib/python3.10/dist-packages (from mkl->numpy->rouge-score) (2024.2.0)\r\n",
            "Requirement already satisfied: tbb==2022.* in /usr/local/lib/python3.10/dist-packages (from mkl->numpy->rouge-score) (2022.0.0)\r\n",
            "Requirement already satisfied: tcmlib==1.* in /usr/local/lib/python3.10/dist-packages (from tbb==2022.*->mkl->numpy->rouge-score) (1.2.0)\r\n",
            "Requirement already satisfied: intel-cmplr-lib-rt in /usr/local/lib/python3.10/dist-packages (from mkl_umath->numpy->rouge-score) (2024.2.0)\r\n",
            "Requirement already satisfied: intel-cmplr-lib-ur==2024.2.0 in /usr/local/lib/python3.10/dist-packages (from intel-openmp>=2024->mkl->numpy->rouge-score) (2024.2.0)\r\n",
            "Building wheels for collected packages: rouge-score\r\n",
            "  Building wheel for rouge-score (setup.py) ... \u001b[?25l\u001b[?25hdone\r\n",
            "  Created wheel for rouge-score: filename=rouge_score-0.1.2-py3-none-any.whl size=24935 sha256=b0f631591edd3bfc6159cbd4217f54a9d378dd1313b7c6e013b0572fb9960267\r\n",
            "  Stored in directory: /root/.cache/pip/wheels/5f/dd/89/461065a73be61a532ff8599a28e9beef17985c9e9c31e541b4\r\n",
            "Successfully built rouge-score\r\n",
            "Installing collected packages: rouge-score\r\n",
            "Successfully installed rouge-score-0.1.2\r\n"
          ]
        }
      ],
      "source": [
        "!pip install transformers\n",
        "!pip install kaggle\n",
        "!pip install rouge-score"
      ]
    },
    {
      "cell_type": "code",
      "execution_count": null,
      "id": "74f67b2a",
      "metadata": {
        "execution": {
          "iopub.execute_input": "2025-04-08T15:31:14.326661Z",
          "iopub.status.busy": "2025-04-08T15:31:14.326337Z",
          "iopub.status.idle": "2025-04-08T15:31:40.668222Z",
          "shell.execute_reply": "2025-04-08T15:31:40.667383Z"
        },
        "id": "74f67b2a",
        "papermill": {
          "duration": 26.352274,
          "end_time": "2025-04-08T15:31:40.670304",
          "exception": false,
          "start_time": "2025-04-08T15:31:14.318030",
          "status": "completed"
        },
        "tags": []
      },
      "outputs": [],
      "source": [
        "import numpy as np\n",
        "import matplotlib.pyplot as plt\n",
        "import kagglehub\n",
        "from kagglehub import KaggleDatasetAdapter\n",
        "from google.colab import files\n",
        "import os\n",
        "import pathlib\n",
        "import pandas as pd\n",
        "from sklearn.model_selection import train_test_split\n",
        "from transformers import T5Tokenizer, T5ForConditionalGeneration\n",
        "import torch\n",
        "from torch.utils.data import DataLoader, Dataset\n",
        "from torch.optim import AdamW\n",
        "from nltk.translate.bleu_score import sentence_bleu\n",
        "from rouge_score import rouge_scorer"
      ]
    },
    {
      "cell_type": "code",
      "execution_count": null,
      "id": "fcd188ba",
      "metadata": {
        "execution": {
          "iopub.execute_input": "2025-04-08T15:31:40.688472Z",
          "iopub.status.busy": "2025-04-08T15:31:40.687758Z",
          "iopub.status.idle": "2025-04-08T15:31:40.691581Z",
          "shell.execute_reply": "2025-04-08T15:31:40.690869Z"
        },
        "id": "fcd188ba",
        "papermill": {
          "duration": 0.014213,
          "end_time": "2025-04-08T15:31:40.692959",
          "exception": false,
          "start_time": "2025-04-08T15:31:40.678746",
          "status": "completed"
        },
        "tags": []
      },
      "outputs": [],
      "source": [
        "# ! mkdir ~/.kaggle"
      ]
    },
    {
      "cell_type": "code",
      "execution_count": null,
      "id": "0fe78dab",
      "metadata": {
        "execution": {
          "iopub.execute_input": "2025-04-08T15:31:40.710088Z",
          "iopub.status.busy": "2025-04-08T15:31:40.709726Z",
          "iopub.status.idle": "2025-04-08T15:31:40.713188Z",
          "shell.execute_reply": "2025-04-08T15:31:40.712374Z"
        },
        "id": "0fe78dab",
        "papermill": {
          "duration": 0.013389,
          "end_time": "2025-04-08T15:31:40.714552",
          "exception": false,
          "start_time": "2025-04-08T15:31:40.701163",
          "status": "completed"
        },
        "tags": []
      },
      "outputs": [],
      "source": [
        "# !cp /content/drive/MyDrive/CollabData/kaggle_API/kaggle.json ~/.kaggle/kaggle.json"
      ]
    },
    {
      "cell_type": "code",
      "execution_count": null,
      "id": "4237c349",
      "metadata": {
        "execution": {
          "iopub.execute_input": "2025-04-08T15:31:40.730972Z",
          "iopub.status.busy": "2025-04-08T15:31:40.730648Z",
          "iopub.status.idle": "2025-04-08T15:31:40.733934Z",
          "shell.execute_reply": "2025-04-08T15:31:40.733057Z"
        },
        "id": "4237c349",
        "papermill": {
          "duration": 0.013063,
          "end_time": "2025-04-08T15:31:40.735395",
          "exception": false,
          "start_time": "2025-04-08T15:31:40.722332",
          "status": "completed"
        },
        "tags": []
      },
      "outputs": [],
      "source": [
        "# ! chmod 600 ~/.kaggle/kaggle.json"
      ]
    },
    {
      "cell_type": "code",
      "execution_count": null,
      "id": "efdf84e4",
      "metadata": {
        "execution": {
          "iopub.execute_input": "2025-04-08T15:31:40.752670Z",
          "iopub.status.busy": "2025-04-08T15:31:40.752287Z",
          "iopub.status.idle": "2025-04-08T15:31:40.755998Z",
          "shell.execute_reply": "2025-04-08T15:31:40.755080Z"
        },
        "id": "efdf84e4",
        "papermill": {
          "duration": 0.014013,
          "end_time": "2025-04-08T15:31:40.757520",
          "exception": false,
          "start_time": "2025-04-08T15:31:40.743507",
          "status": "completed"
        },
        "tags": []
      },
      "outputs": [],
      "source": [
        "# ! kaggle datasets download lazer999/quranic-reasoning-synthetic-dataset"
      ]
    },
    {
      "cell_type": "code",
      "execution_count": null,
      "id": "db7d21f1",
      "metadata": {
        "execution": {
          "iopub.execute_input": "2025-04-08T15:31:40.774867Z",
          "iopub.status.busy": "2025-04-08T15:31:40.774475Z",
          "iopub.status.idle": "2025-04-08T15:31:40.778163Z",
          "shell.execute_reply": "2025-04-08T15:31:40.777224Z"
        },
        "id": "db7d21f1",
        "papermill": {
          "duration": 0.013696,
          "end_time": "2025-04-08T15:31:40.779561",
          "exception": false,
          "start_time": "2025-04-08T15:31:40.765865",
          "status": "completed"
        },
        "tags": []
      },
      "outputs": [],
      "source": [
        "# ! kaggle datasets download alizahidraja/quran-english"
      ]
    },
    {
      "cell_type": "code",
      "execution_count": null,
      "id": "322fb14d",
      "metadata": {
        "execution": {
          "iopub.execute_input": "2025-04-08T15:31:40.797280Z",
          "iopub.status.busy": "2025-04-08T15:31:40.796958Z",
          "iopub.status.idle": "2025-04-08T15:31:40.800747Z",
          "shell.execute_reply": "2025-04-08T15:31:40.799755Z"
        },
        "id": "322fb14d",
        "papermill": {
          "duration": 0.014708,
          "end_time": "2025-04-08T15:31:40.802401",
          "exception": false,
          "start_time": "2025-04-08T15:31:40.787693",
          "status": "completed"
        },
        "tags": []
      },
      "outputs": [],
      "source": [
        "# ! unzip quranic-reasoning-synthetic-dataset.zip"
      ]
    },
    {
      "cell_type": "code",
      "execution_count": null,
      "id": "7a6ec1f1",
      "metadata": {
        "execution": {
          "iopub.execute_input": "2025-04-08T15:31:40.819713Z",
          "iopub.status.busy": "2025-04-08T15:31:40.819383Z",
          "iopub.status.idle": "2025-04-08T15:31:40.822875Z",
          "shell.execute_reply": "2025-04-08T15:31:40.822082Z"
        },
        "id": "7a6ec1f1",
        "papermill": {
          "duration": 0.013821,
          "end_time": "2025-04-08T15:31:40.824373",
          "exception": false,
          "start_time": "2025-04-08T15:31:40.810552",
          "status": "completed"
        },
        "tags": []
      },
      "outputs": [],
      "source": [
        "# ! unzip quran-english.zip"
      ]
    },
    {
      "cell_type": "markdown",
      "id": "d54472ca",
      "metadata": {
        "id": "d54472ca",
        "papermill": {
          "duration": 0.007828,
          "end_time": "2025-04-08T15:31:40.840577",
          "exception": false,
          "start_time": "2025-04-08T15:31:40.832749",
          "status": "completed"
        },
        "tags": []
      },
      "source": [
        "## Data Preparation"
      ]
    },
    {
      "cell_type": "code",
      "execution_count": null,
      "id": "43c12abe",
      "metadata": {
        "execution": {
          "iopub.execute_input": "2025-04-08T15:31:40.857897Z",
          "iopub.status.busy": "2025-04-08T15:31:40.857529Z",
          "iopub.status.idle": "2025-04-08T15:31:41.493192Z",
          "shell.execute_reply": "2025-04-08T15:31:41.492179Z"
        },
        "id": "43c12abe",
        "papermill": {
          "duration": 0.646004,
          "end_time": "2025-04-08T15:31:41.494607",
          "exception": false,
          "start_time": "2025-04-08T15:31:40.848603",
          "status": "completed"
        },
        "tags": [],
        "outputId": "6847143a-f310-4fac-9ac3-872d3a7d8fdb"
      },
      "outputs": [
        {
          "data": {
            "text/html": [
              "<div>\n",
              "<style scoped>\n",
              "    .dataframe tbody tr th:only-of-type {\n",
              "        vertical-align: middle;\n",
              "    }\n",
              "\n",
              "    .dataframe tbody tr th {\n",
              "        vertical-align: top;\n",
              "    }\n",
              "\n",
              "    .dataframe thead th {\n",
              "        text-align: right;\n",
              "    }\n",
              "</style>\n",
              "<table border=\"1\" class=\"dataframe\">\n",
              "  <thead>\n",
              "    <tr style=\"text-align: right;\">\n",
              "      <th></th>\n",
              "      <th>Unnamed: 0</th>\n",
              "      <th>Question</th>\n",
              "      <th>Complex_CoT</th>\n",
              "      <th>Response</th>\n",
              "    </tr>\n",
              "  </thead>\n",
              "  <tbody>\n",
              "    <tr>\n",
              "      <th>0</th>\n",
              "      <td>0</td>\n",
              "      <td>What is the significance of patience (sabr) in...</td>\n",
              "      <td>Patience (sabr) is a key virtue emphasized in ...</td>\n",
              "      <td>The Quran highlights patience as a sign of str...</td>\n",
              "    </tr>\n",
              "    <tr>\n",
              "      <th>1</th>\n",
              "      <td>1</td>\n",
              "      <td>Why do we have to pray five times a day? Would...</td>\n",
              "      <td>The five daily prayers are a fundamental pilla...</td>\n",
              "      <td>The five daily prayers maintain spiritual conn...</td>\n",
              "    </tr>\n",
              "    <tr>\n",
              "      <th>2</th>\n",
              "      <td>2</td>\n",
              "      <td>What does the Quran say about friendships? How...</td>\n",
              "      <td>Friendship plays a crucial role in shaping a b...</td>\n",
              "      <td>The Quran advises selecting righteous friends ...</td>\n",
              "    </tr>\n",
              "    <tr>\n",
              "      <th>3</th>\n",
              "      <td>3</td>\n",
              "      <td>Why does the Quran emphasize so much on gratit...</td>\n",
              "      <td>Gratitude (shukr) is vital in Islam as it fost...</td>\n",
              "      <td>The Quran underscores gratitude, promising inc...</td>\n",
              "    </tr>\n",
              "    <tr>\n",
              "      <th>4</th>\n",
              "      <td>4</td>\n",
              "      <td>How should we deal with disagreements among si...</td>\n",
              "      <td>The Quran encourages resolving sibling dispute...</td>\n",
              "      <td>Sibling disagreements should be resolved with ...</td>\n",
              "    </tr>\n",
              "  </tbody>\n",
              "</table>\n",
              "</div>"
            ],
            "text/plain": [
              "   Unnamed: 0                                           Question  \\\n",
              "0           0  What is the significance of patience (sabr) in...   \n",
              "1           1  Why do we have to pray five times a day? Would...   \n",
              "2           2  What does the Quran say about friendships? How...   \n",
              "3           3  Why does the Quran emphasize so much on gratit...   \n",
              "4           4  How should we deal with disagreements among si...   \n",
              "\n",
              "                                         Complex_CoT  \\\n",
              "0  Patience (sabr) is a key virtue emphasized in ...   \n",
              "1  The five daily prayers are a fundamental pilla...   \n",
              "2  Friendship plays a crucial role in shaping a b...   \n",
              "3  Gratitude (shukr) is vital in Islam as it fost...   \n",
              "4  The Quran encourages resolving sibling dispute...   \n",
              "\n",
              "                                            Response  \n",
              "0  The Quran highlights patience as a sign of str...  \n",
              "1  The five daily prayers maintain spiritual conn...  \n",
              "2  The Quran advises selecting righteous friends ...  \n",
              "3  The Quran underscores gratitude, promising inc...  \n",
              "4  Sibling disagreements should be resolved with ...  "
            ]
          },
          "execution_count": 10,
          "metadata": {},
          "output_type": "execute_result"
        }
      ],
      "source": [
        "file_path = \"/kaggle/input/quranic-reasoning-synthetic-dataset/Quran_R1_excel.xlsx\"\n",
        "df = pd.read_excel(file_path)\n",
        "df.head()"
      ]
    },
    {
      "cell_type": "code",
      "execution_count": null,
      "id": "3295455f",
      "metadata": {
        "execution": {
          "iopub.execute_input": "2025-04-08T15:31:41.512397Z",
          "iopub.status.busy": "2025-04-08T15:31:41.511773Z",
          "iopub.status.idle": "2025-04-08T15:31:41.536918Z",
          "shell.execute_reply": "2025-04-08T15:31:41.535892Z"
        },
        "id": "3295455f",
        "papermill": {
          "duration": 0.03534,
          "end_time": "2025-04-08T15:31:41.538438",
          "exception": false,
          "start_time": "2025-04-08T15:31:41.503098",
          "status": "completed"
        },
        "tags": [],
        "outputId": "7d2868cc-ad67-492e-c2d0-6aedc3f3610c"
      },
      "outputs": [
        {
          "name": "stdout",
          "output_type": "stream",
          "text": [
            "<class 'pandas.core.frame.DataFrame'>\n",
            "RangeIndex: 857 entries, 0 to 856\n",
            "Data columns (total 4 columns):\n",
            " #   Column       Non-Null Count  Dtype \n",
            "---  ------       --------------  ----- \n",
            " 0   Unnamed: 0   857 non-null    int64 \n",
            " 1   Question     857 non-null    object\n",
            " 2   Complex_CoT  857 non-null    object\n",
            " 3   Response     857 non-null    object\n",
            "dtypes: int64(1), object(3)\n",
            "memory usage: 26.9+ KB\n"
          ]
        }
      ],
      "source": [
        "df.info()"
      ]
    },
    {
      "cell_type": "markdown",
      "id": "5355cb39",
      "metadata": {
        "id": "5355cb39",
        "papermill": {
          "duration": 0.00812,
          "end_time": "2025-04-08T15:31:41.556362",
          "exception": false,
          "start_time": "2025-04-08T15:31:41.548242",
          "status": "completed"
        },
        "tags": []
      },
      "source": [
        "Column `Unnamed: 0` merupakan Column yang harus kita drop karena tidak berguna"
      ]
    },
    {
      "cell_type": "code",
      "execution_count": null,
      "id": "c0b6628f",
      "metadata": {
        "execution": {
          "iopub.execute_input": "2025-04-08T15:31:41.578286Z",
          "iopub.status.busy": "2025-04-08T15:31:41.577795Z",
          "iopub.status.idle": "2025-04-08T15:31:41.591754Z",
          "shell.execute_reply": "2025-04-08T15:31:41.590674Z"
        },
        "id": "c0b6628f",
        "papermill": {
          "duration": 0.028229,
          "end_time": "2025-04-08T15:31:41.593455",
          "exception": false,
          "start_time": "2025-04-08T15:31:41.565226",
          "status": "completed"
        },
        "tags": [],
        "outputId": "2168c7a7-1ed2-49df-abed-6b618ef4772f"
      },
      "outputs": [
        {
          "name": "stdout",
          "output_type": "stream",
          "text": [
            "<class 'pandas.core.frame.DataFrame'>\n",
            "RangeIndex: 857 entries, 0 to 856\n",
            "Data columns (total 3 columns):\n",
            " #   Column       Non-Null Count  Dtype \n",
            "---  ------       --------------  ----- \n",
            " 0   Question     857 non-null    object\n",
            " 1   Complex_CoT  857 non-null    object\n",
            " 2   Response     857 non-null    object\n",
            "dtypes: object(3)\n",
            "memory usage: 20.2+ KB\n"
          ]
        }
      ],
      "source": [
        "df = df.drop(columns=['Unnamed: 0'])\n",
        "df.head()\n",
        "df.info()"
      ]
    },
    {
      "cell_type": "markdown",
      "id": "3a5e3c7c",
      "metadata": {
        "id": "3a5e3c7c",
        "papermill": {
          "duration": 0.01215,
          "end_time": "2025-04-08T15:31:41.620099",
          "exception": false,
          "start_time": "2025-04-08T15:31:41.607949",
          "status": "completed"
        },
        "tags": []
      },
      "source": [
        "Let's go to the next data"
      ]
    },
    {
      "cell_type": "code",
      "execution_count": null,
      "id": "f63261d9",
      "metadata": {
        "execution": {
          "iopub.execute_input": "2025-04-08T15:31:41.643285Z",
          "iopub.status.busy": "2025-04-08T15:31:41.642928Z",
          "iopub.status.idle": "2025-04-08T15:31:41.788544Z",
          "shell.execute_reply": "2025-04-08T15:31:41.787422Z"
        },
        "id": "f63261d9",
        "papermill": {
          "duration": 0.159323,
          "end_time": "2025-04-08T15:31:41.790343",
          "exception": false,
          "start_time": "2025-04-08T15:31:41.631020",
          "status": "completed"
        },
        "tags": [],
        "outputId": "3dfd9b65-2a07-497e-e410-8ed35be2727b"
      },
      "outputs": [
        {
          "data": {
            "text/html": [
              "<div>\n",
              "<style scoped>\n",
              "    .dataframe tbody tr th:only-of-type {\n",
              "        vertical-align: middle;\n",
              "    }\n",
              "\n",
              "    .dataframe tbody tr th {\n",
              "        vertical-align: top;\n",
              "    }\n",
              "\n",
              "    .dataframe thead th {\n",
              "        text-align: right;\n",
              "    }\n",
              "</style>\n",
              "<table border=\"1\" class=\"dataframe\">\n",
              "  <thead>\n",
              "    <tr style=\"text-align: right;\">\n",
              "      <th></th>\n",
              "      <th>Name</th>\n",
              "      <th>Surah</th>\n",
              "      <th>Ayat</th>\n",
              "      <th>Verse</th>\n",
              "      <th>Tafseer</th>\n",
              "    </tr>\n",
              "  </thead>\n",
              "  <tbody>\n",
              "    <tr>\n",
              "      <th>0</th>\n",
              "      <td>The Opening</td>\n",
              "      <td>1</td>\n",
              "      <td>1</td>\n",
              "      <td>In the name of Allah, the Beneficent, the Merc...</td>\n",
              "      <td>In the Name of God the Compassionate the Merciful</td>\n",
              "    </tr>\n",
              "    <tr>\n",
              "      <th>1</th>\n",
              "      <td>The Opening</td>\n",
              "      <td>1</td>\n",
              "      <td>2</td>\n",
              "      <td>Praise be to Allah, Lord of the Worlds,</td>\n",
              "      <td>In the Name of God the name of a thing is that...</td>\n",
              "    </tr>\n",
              "    <tr>\n",
              "      <th>2</th>\n",
              "      <td>The Opening</td>\n",
              "      <td>1</td>\n",
              "      <td>3</td>\n",
              "      <td>The Beneficent, the Merciful.</td>\n",
              "      <td>The Compassionate the Merciful that is to say ...</td>\n",
              "    </tr>\n",
              "    <tr>\n",
              "      <th>3</th>\n",
              "      <td>The Opening</td>\n",
              "      <td>1</td>\n",
              "      <td>4</td>\n",
              "      <td>Owner of the Day of Judgment,</td>\n",
              "      <td>Master of the Day of Judgement that is the day...</td>\n",
              "    </tr>\n",
              "    <tr>\n",
              "      <th>4</th>\n",
              "      <td>The Opening</td>\n",
              "      <td>1</td>\n",
              "      <td>5</td>\n",
              "      <td>Thee (alone) we worship; Thee (alone) we ask f...</td>\n",
              "      <td>You alone we worship and You alone we ask for ...</td>\n",
              "    </tr>\n",
              "  </tbody>\n",
              "</table>\n",
              "</div>"
            ],
            "text/plain": [
              "          Name  Surah  Ayat  \\\n",
              "0  The Opening      1     1   \n",
              "1  The Opening      1     2   \n",
              "2  The Opening      1     3   \n",
              "3  The Opening      1     4   \n",
              "4  The Opening      1     5   \n",
              "\n",
              "                                               Verse  \\\n",
              "0  In the name of Allah, the Beneficent, the Merc...   \n",
              "1            Praise be to Allah, Lord of the Worlds,   \n",
              "2                      The Beneficent, the Merciful.   \n",
              "3                      Owner of the Day of Judgment,   \n",
              "4  Thee (alone) we worship; Thee (alone) we ask f...   \n",
              "\n",
              "                                             Tafseer  \n",
              "0  In the Name of God the Compassionate the Merciful  \n",
              "1  In the Name of God the name of a thing is that...  \n",
              "2  The Compassionate the Merciful that is to say ...  \n",
              "3  Master of the Day of Judgement that is the day...  \n",
              "4  You alone we worship and You alone we ask for ...  "
            ]
          },
          "execution_count": 13,
          "metadata": {},
          "output_type": "execute_result"
        }
      ],
      "source": [
        "file_path = \"/kaggle/input/quran-english/Quran_English_with_Tafseer.csv\"\n",
        "df_quran = pd.read_csv(file_path)\n",
        "df_quran.head()"
      ]
    },
    {
      "cell_type": "code",
      "execution_count": null,
      "id": "fba4d6d5",
      "metadata": {
        "execution": {
          "iopub.execute_input": "2025-04-08T15:31:41.817491Z",
          "iopub.status.busy": "2025-04-08T15:31:41.816975Z",
          "iopub.status.idle": "2025-04-08T15:31:41.832803Z",
          "shell.execute_reply": "2025-04-08T15:31:41.831431Z"
        },
        "id": "fba4d6d5",
        "papermill": {
          "duration": 0.034835,
          "end_time": "2025-04-08T15:31:41.834919",
          "exception": false,
          "start_time": "2025-04-08T15:31:41.800084",
          "status": "completed"
        },
        "tags": [],
        "outputId": "5a348458-992f-4456-f63e-ac1fa6d35344"
      },
      "outputs": [
        {
          "name": "stdout",
          "output_type": "stream",
          "text": [
            "<class 'pandas.core.frame.DataFrame'>\n",
            "RangeIndex: 6236 entries, 0 to 6235\n",
            "Data columns (total 5 columns):\n",
            " #   Column   Non-Null Count  Dtype \n",
            "---  ------   --------------  ----- \n",
            " 0   Name     6236 non-null   object\n",
            " 1   Surah    6236 non-null   int64 \n",
            " 2   Ayat     6236 non-null   int64 \n",
            " 3   Verse    6236 non-null   object\n",
            " 4   Tafseer  6235 non-null   object\n",
            "dtypes: int64(2), object(3)\n",
            "memory usage: 243.7+ KB\n"
          ]
        }
      ],
      "source": [
        "df_quran.info()"
      ]
    },
    {
      "cell_type": "code",
      "execution_count": null,
      "id": "3a6a614b",
      "metadata": {
        "execution": {
          "iopub.execute_input": "2025-04-08T15:31:41.869031Z",
          "iopub.status.busy": "2025-04-08T15:31:41.868499Z",
          "iopub.status.idle": "2025-04-08T15:31:41.886346Z",
          "shell.execute_reply": "2025-04-08T15:31:41.885376Z"
        },
        "id": "3a6a614b",
        "papermill": {
          "duration": 0.036775,
          "end_time": "2025-04-08T15:31:41.888743",
          "exception": false,
          "start_time": "2025-04-08T15:31:41.851968",
          "status": "completed"
        },
        "tags": [],
        "outputId": "90a4e542-067c-428a-d8d3-94928f0324ea"
      },
      "outputs": [
        {
          "data": {
            "text/html": [
              "<div>\n",
              "<style scoped>\n",
              "    .dataframe tbody tr th:only-of-type {\n",
              "        vertical-align: middle;\n",
              "    }\n",
              "\n",
              "    .dataframe tbody tr th {\n",
              "        vertical-align: top;\n",
              "    }\n",
              "\n",
              "    .dataframe thead th {\n",
              "        text-align: right;\n",
              "    }\n",
              "</style>\n",
              "<table border=\"1\" class=\"dataframe\">\n",
              "  <thead>\n",
              "    <tr style=\"text-align: right;\">\n",
              "      <th></th>\n",
              "      <th>Name</th>\n",
              "      <th>Surah</th>\n",
              "      <th>Ayat</th>\n",
              "      <th>Verse</th>\n",
              "      <th>Tafseer</th>\n",
              "    </tr>\n",
              "  </thead>\n",
              "  <tbody>\n",
              "    <tr>\n",
              "      <th>4555</th>\n",
              "      <td>Muhammad</td>\n",
              "      <td>47</td>\n",
              "      <td>11</td>\n",
              "      <td>That is because Allah is patron of those who b...</td>\n",
              "      <td>NaN</td>\n",
              "    </tr>\n",
              "  </tbody>\n",
              "</table>\n",
              "</div>"
            ],
            "text/plain": [
              "          Name  Surah  Ayat  \\\n",
              "4555  Muhammad     47    11   \n",
              "\n",
              "                                                  Verse Tafseer  \n",
              "4555  That is because Allah is patron of those who b...     NaN  "
            ]
          },
          "metadata": {},
          "output_type": "display_data"
        }
      ],
      "source": [
        "display(df_quran[df_quran['Tafseer'].isnull()])"
      ]
    },
    {
      "cell_type": "markdown",
      "id": "1eab8e54",
      "metadata": {
        "id": "1eab8e54",
        "papermill": {
          "duration": 0.00876,
          "end_time": "2025-04-08T15:31:41.912512",
          "exception": false,
          "start_time": "2025-04-08T15:31:41.903752",
          "status": "completed"
        },
        "tags": []
      },
      "source": [
        "Ada satu data yang tidak memiliki tafsir kosong, dalam hal ini kita akan isi data kosong ini dengan data sintetis"
      ]
    },
    {
      "cell_type": "code",
      "execution_count": null,
      "id": "f8a37ebb",
      "metadata": {
        "execution": {
          "iopub.execute_input": "2025-04-08T15:31:41.930752Z",
          "iopub.status.busy": "2025-04-08T15:31:41.930383Z",
          "iopub.status.idle": "2025-04-08T15:31:41.940097Z",
          "shell.execute_reply": "2025-04-08T15:31:41.939142Z"
        },
        "id": "f8a37ebb",
        "papermill": {
          "duration": 0.020483,
          "end_time": "2025-04-08T15:31:41.941504",
          "exception": false,
          "start_time": "2025-04-08T15:31:41.921021",
          "status": "completed"
        },
        "tags": [],
        "outputId": "949d1575-b333-47d7-8fc2-940ccdfaa9d0"
      },
      "outputs": [
        {
          "name": "stdout",
          "output_type": "stream",
          "text": [
            "Empty DataFrame\n",
            "Columns: [Name, Surah, Ayat, Verse, Tafseer]\n",
            "Index: []\n"
          ]
        }
      ],
      "source": [
        "# Fill empty 'Tafseer' values with a synthetic data\n",
        "df_quran['Tafseer'] = df_quran['Tafseer'].fillna(\"This surah emphasizes that Allah is the protector and ally (Mawlā) of those who believe, offering them divine support, guidance, and victory, while the disbelievers are left without any true protector. This verse reassures the believers that despite external challenges or opposition, they are never alone—Allah stands by them in both worldly and spiritual affairs. Conversely, disbelievers, no matter their apparent power or alliances, lack divine backing and are ultimately vulnerable. Revealed in the context of struggle between faith and disbelief, particularly in times of conflict, this verse highlights the importance of trusting in Allah, as real strength and success come through His support, not mere worldly means.\")\n",
        "print(df_quran[df_quran['Tafseer'].isnull()])"
      ]
    },
    {
      "cell_type": "markdown",
      "id": "a17ee7a9",
      "metadata": {
        "id": "a17ee7a9",
        "papermill": {
          "duration": 0.008371,
          "end_time": "2025-04-08T15:31:41.958694",
          "exception": false,
          "start_time": "2025-04-08T15:31:41.950323",
          "status": "completed"
        },
        "tags": []
      },
      "source": [
        "### Data Merging"
      ]
    },
    {
      "cell_type": "markdown",
      "id": "d5ca15bf",
      "metadata": {
        "id": "d5ca15bf",
        "papermill": {
          "duration": 0.00837,
          "end_time": "2025-04-08T15:31:41.975649",
          "exception": false,
          "start_time": "2025-04-08T15:31:41.967279",
          "status": "completed"
        },
        "tags": []
      },
      "source": [
        "Sebelum kita develop modelnya, mari kita gabung `df_quran` dengan `df`"
      ]
    },
    {
      "cell_type": "code",
      "execution_count": null,
      "id": "d6afb9f5",
      "metadata": {
        "execution": {
          "iopub.execute_input": "2025-04-08T15:31:41.994206Z",
          "iopub.status.busy": "2025-04-08T15:31:41.993844Z",
          "iopub.status.idle": "2025-04-08T15:31:42.040016Z",
          "shell.execute_reply": "2025-04-08T15:31:42.039022Z"
        },
        "id": "d6afb9f5",
        "papermill": {
          "duration": 0.057629,
          "end_time": "2025-04-08T15:31:42.041729",
          "exception": false,
          "start_time": "2025-04-08T15:31:41.984100",
          "status": "completed"
        },
        "tags": [],
        "outputId": "d41c2dc4-7526-492d-a28a-e80536e4589f"
      },
      "outputs": [
        {
          "data": {
            "text/html": [
              "<div>\n",
              "<style scoped>\n",
              "    .dataframe tbody tr th:only-of-type {\n",
              "        vertical-align: middle;\n",
              "    }\n",
              "\n",
              "    .dataframe tbody tr th {\n",
              "        vertical-align: top;\n",
              "    }\n",
              "\n",
              "    .dataframe thead th {\n",
              "        text-align: right;\n",
              "    }\n",
              "</style>\n",
              "<table border=\"1\" class=\"dataframe\">\n",
              "  <thead>\n",
              "    <tr style=\"text-align: right;\">\n",
              "      <th></th>\n",
              "      <th>Question</th>\n",
              "      <th>Complex_CoT</th>\n",
              "      <th>Response</th>\n",
              "    </tr>\n",
              "  </thead>\n",
              "  <tbody>\n",
              "    <tr>\n",
              "      <th>0</th>\n",
              "      <td>What is the significance of patience (sabr) in...</td>\n",
              "      <td>Patience (sabr) is a key virtue emphasized in ...</td>\n",
              "      <td>The Quran highlights patience as a sign of str...</td>\n",
              "    </tr>\n",
              "    <tr>\n",
              "      <th>1</th>\n",
              "      <td>Why do we have to pray five times a day? Would...</td>\n",
              "      <td>The five daily prayers are a fundamental pilla...</td>\n",
              "      <td>The five daily prayers maintain spiritual conn...</td>\n",
              "    </tr>\n",
              "    <tr>\n",
              "      <th>2</th>\n",
              "      <td>What does the Quran say about friendships? How...</td>\n",
              "      <td>Friendship plays a crucial role in shaping a b...</td>\n",
              "      <td>The Quran advises selecting righteous friends ...</td>\n",
              "    </tr>\n",
              "    <tr>\n",
              "      <th>3</th>\n",
              "      <td>Why does the Quran emphasize so much on gratit...</td>\n",
              "      <td>Gratitude (shukr) is vital in Islam as it fost...</td>\n",
              "      <td>The Quran underscores gratitude, promising inc...</td>\n",
              "    </tr>\n",
              "    <tr>\n",
              "      <th>4</th>\n",
              "      <td>How should we deal with disagreements among si...</td>\n",
              "      <td>The Quran encourages resolving sibling dispute...</td>\n",
              "      <td>Sibling disagreements should be resolved with ...</td>\n",
              "    </tr>\n",
              "  </tbody>\n",
              "</table>\n",
              "</div>"
            ],
            "text/plain": [
              "                                            Question  \\\n",
              "0  What is the significance of patience (sabr) in...   \n",
              "1  Why do we have to pray five times a day? Would...   \n",
              "2  What does the Quran say about friendships? How...   \n",
              "3  Why does the Quran emphasize so much on gratit...   \n",
              "4  How should we deal with disagreements among si...   \n",
              "\n",
              "                                         Complex_CoT  \\\n",
              "0  Patience (sabr) is a key virtue emphasized in ...   \n",
              "1  The five daily prayers are a fundamental pilla...   \n",
              "2  Friendship plays a crucial role in shaping a b...   \n",
              "3  Gratitude (shukr) is vital in Islam as it fost...   \n",
              "4  The Quran encourages resolving sibling dispute...   \n",
              "\n",
              "                                            Response  \n",
              "0  The Quran highlights patience as a sign of str...  \n",
              "1  The five daily prayers maintain spiritual conn...  \n",
              "2  The Quran advises selecting righteous friends ...  \n",
              "3  The Quran underscores gratitude, promising inc...  \n",
              "4  Sibling disagreements should be resolved with ...  "
            ]
          },
          "execution_count": 17,
          "metadata": {},
          "output_type": "execute_result"
        }
      ],
      "source": [
        "# Create the first template\n",
        "df_quran['Question'] = \"Question: What is the meaning of Surah \" + df_quran['Surah'].astype(str) + \":\" + df_quran['Ayat'].astype(str) + \"?\"\n",
        "df_quran['Response'] = \"Response: \\nVerse:\\n\" + df_quran['Verse'] + \", \" + df_quran['Tafseer']\n",
        "\n",
        "# Create the second template and append it to the first dataframe\n",
        "df_quran_2 = pd.DataFrame()\n",
        "df_quran_2['Question'] = \"Question: What is the meaning of Surah \" + df_quran['Name'] + \":\" + df_quran['Ayat'].astype(str) + \"?\"\n",
        "df_quran_2['Response'] = \"Response: \\nVerse:\\n\" + df_quran['Verse'] + \", \" + df_quran['Tafseer']\n",
        "\n",
        "df_quran = pd.concat([df_quran, df_quran_2], ignore_index=True)\n",
        "\n",
        "# Select only the relevant columns for merging\n",
        "df_quran = df_quran[['Question', 'Response']]\n",
        "\n",
        "# Concatenate the two dataframes\n",
        "merged_df = pd.concat([df, df_quran], ignore_index=True)\n",
        "merged_df.head()\n"
      ]
    },
    {
      "cell_type": "markdown",
      "id": "afaab3f6",
      "metadata": {
        "id": "afaab3f6",
        "papermill": {
          "duration": 0.009022,
          "end_time": "2025-04-08T15:31:42.061032",
          "exception": false,
          "start_time": "2025-04-08T15:31:42.052010",
          "status": "completed"
        },
        "tags": []
      },
      "source": [
        "## Model Development\n",
        "\n",
        "Kita akan menggunakan model T5, cek penjelasan Transformer [disini](https://medium.com/@gagangupta_82781/understanding-the-t5-model-a-comprehensive-guide-b4d5c02c234b)"
      ]
    },
    {
      "cell_type": "code",
      "execution_count": null,
      "id": "6747afe0",
      "metadata": {
        "execution": {
          "iopub.execute_input": "2025-04-08T15:31:42.079935Z",
          "iopub.status.busy": "2025-04-08T15:31:42.079552Z",
          "iopub.status.idle": "2025-04-08T15:31:42.084527Z",
          "shell.execute_reply": "2025-04-08T15:31:42.083732Z"
        },
        "id": "6747afe0",
        "papermill": {
          "duration": 0.016201,
          "end_time": "2025-04-08T15:31:42.085987",
          "exception": false,
          "start_time": "2025-04-08T15:31:42.069786",
          "status": "completed"
        },
        "tags": []
      },
      "outputs": [],
      "source": [
        "inputt=merged_df['Question'].tolist()\n",
        "labelt=merged_df['Response'].tolist()"
      ]
    },
    {
      "cell_type": "markdown",
      "id": "54c06b35",
      "metadata": {
        "id": "54c06b35",
        "papermill": {
          "duration": 0.008893,
          "end_time": "2025-04-08T15:31:42.104078",
          "exception": false,
          "start_time": "2025-04-08T15:31:42.095185",
          "status": "completed"
        },
        "tags": []
      },
      "source": [
        "Split Train-Test (Dalam hal ini kita akan pisah 9:1, dan kita hanya akan mengambil data dari `df` saja)"
      ]
    },
    {
      "cell_type": "code",
      "execution_count": null,
      "id": "12a0b8ac",
      "metadata": {
        "execution": {
          "iopub.execute_input": "2025-04-08T15:31:42.122751Z",
          "iopub.status.busy": "2025-04-08T15:31:42.122404Z",
          "iopub.status.idle": "2025-04-08T15:31:42.128280Z",
          "shell.execute_reply": "2025-04-08T15:31:42.127240Z"
        },
        "id": "12a0b8ac",
        "papermill": {
          "duration": 0.017112,
          "end_time": "2025-04-08T15:31:42.129959",
          "exception": false,
          "start_time": "2025-04-08T15:31:42.112847",
          "status": "completed"
        },
        "tags": []
      },
      "outputs": [],
      "source": [
        "train_inputs, test_inputs, train_labels, test_labels = train_test_split(inputt[:857], labelt[:857], test_size=0.1, random_state=42)\n"
      ]
    },
    {
      "cell_type": "markdown",
      "id": "6b86a89e",
      "metadata": {
        "id": "6b86a89e",
        "papermill": {
          "duration": 0.008559,
          "end_time": "2025-04-08T15:31:42.148539",
          "exception": false,
          "start_time": "2025-04-08T15:31:42.139980",
          "status": "completed"
        },
        "tags": []
      },
      "source": [
        "Mari kita Panggil Tokenizer dan Pre-Model yang akan kita pakai, dalam hal ini T5"
      ]
    },
    {
      "cell_type": "code",
      "execution_count": null,
      "id": "c55b981c",
      "metadata": {
        "execution": {
          "iopub.execute_input": "2025-04-08T15:31:42.167303Z",
          "iopub.status.busy": "2025-04-08T15:31:42.166985Z",
          "iopub.status.idle": "2025-04-08T15:31:47.818605Z",
          "shell.execute_reply": "2025-04-08T15:31:47.817512Z"
        },
        "id": "c55b981c",
        "papermill": {
          "duration": 5.662722,
          "end_time": "2025-04-08T15:31:47.820010",
          "exception": false,
          "start_time": "2025-04-08T15:31:42.157288",
          "status": "completed"
        },
        "tags": [],
        "colab": {
          "referenced_widgets": [
            "0dc043fa84af44d5968394c0b9ef6a2a",
            "80376af7fc034ec2bfe410ffa0a2ea14",
            "c5463d3536954f14b03b6ea6c2aee495",
            "3f34388c6e314892abbf65907542d286",
            "b1a16bb2df9f491eb69c2782c7ffd0c6"
          ]
        },
        "outputId": "b1a06ba6-4db5-4faf-fe9a-5eec44043972"
      },
      "outputs": [
        {
          "data": {
            "application/vnd.jupyter.widget-view+json": {
              "model_id": "0dc043fa84af44d5968394c0b9ef6a2a",
              "version_major": 2,
              "version_minor": 0
            },
            "text/plain": [
              "spiece.model:   0%|          | 0.00/792k [00:00<?, ?B/s]"
            ]
          },
          "metadata": {},
          "output_type": "display_data"
        },
        {
          "data": {
            "application/vnd.jupyter.widget-view+json": {
              "model_id": "80376af7fc034ec2bfe410ffa0a2ea14",
              "version_major": 2,
              "version_minor": 0
            },
            "text/plain": [
              "tokenizer.json:   0%|          | 0.00/1.39M [00:00<?, ?B/s]"
            ]
          },
          "metadata": {},
          "output_type": "display_data"
        },
        {
          "data": {
            "application/vnd.jupyter.widget-view+json": {
              "model_id": "c5463d3536954f14b03b6ea6c2aee495",
              "version_major": 2,
              "version_minor": 0
            },
            "text/plain": [
              "config.json:   0%|          | 0.00/1.21k [00:00<?, ?B/s]"
            ]
          },
          "metadata": {},
          "output_type": "display_data"
        },
        {
          "name": "stderr",
          "output_type": "stream",
          "text": [
            "You are using the default legacy behaviour of the <class 'transformers.models.t5.tokenization_t5.T5Tokenizer'>. This is expected, and simply means that the `legacy` (previous) behavior will be used so nothing changes for you. If you want to use the new behaviour, set `legacy=False`. This should only be set if you understand what it means, and thoroughly read the reason why this was added as explained in https://github.com/huggingface/transformers/pull/24565\n"
          ]
        },
        {
          "data": {
            "application/vnd.jupyter.widget-view+json": {
              "model_id": "3f34388c6e314892abbf65907542d286",
              "version_major": 2,
              "version_minor": 0
            },
            "text/plain": [
              "model.safetensors:   0%|          | 0.00/892M [00:00<?, ?B/s]"
            ]
          },
          "metadata": {},
          "output_type": "display_data"
        },
        {
          "data": {
            "application/vnd.jupyter.widget-view+json": {
              "model_id": "b1a16bb2df9f491eb69c2782c7ffd0c6",
              "version_major": 2,
              "version_minor": 0
            },
            "text/plain": [
              "generation_config.json:   0%|          | 0.00/147 [00:00<?, ?B/s]"
            ]
          },
          "metadata": {},
          "output_type": "display_data"
        }
      ],
      "source": [
        "tokenizer = T5Tokenizer.from_pretrained(\"t5-base\")\n",
        "model = T5ForConditionalGeneration.from_pretrained(\"t5-base\")"
      ]
    },
    {
      "cell_type": "markdown",
      "id": "10c3faf8",
      "metadata": {
        "id": "10c3faf8",
        "papermill": {
          "duration": 0.009401,
          "end_time": "2025-04-08T15:31:47.839543",
          "exception": false,
          "start_time": "2025-04-08T15:31:47.830142",
          "status": "completed"
        },
        "tags": []
      },
      "source": [
        "Sebelum melatih model, mari kita tokenisasi data"
      ]
    },
    {
      "cell_type": "code",
      "execution_count": null,
      "id": "5a50d394",
      "metadata": {
        "execution": {
          "iopub.execute_input": "2025-04-08T15:31:47.860889Z",
          "iopub.status.busy": "2025-04-08T15:31:47.860490Z",
          "iopub.status.idle": "2025-04-08T15:31:48.263708Z",
          "shell.execute_reply": "2025-04-08T15:31:48.262850Z"
        },
        "id": "5a50d394",
        "papermill": {
          "duration": 0.416241,
          "end_time": "2025-04-08T15:31:48.265448",
          "exception": false,
          "start_time": "2025-04-08T15:31:47.849207",
          "status": "completed"
        },
        "tags": []
      },
      "outputs": [],
      "source": [
        "def tokenize_data(inputs, labels, tokenizer, max_length=128):\n",
        "    input_encodings = tokenizer(\n",
        "        list(inputs), max_length=max_length, padding=True, truncation=True, return_tensors=\"pt\"\n",
        "    )\n",
        "    label_encodings = tokenizer(\n",
        "        list(labels), max_length=max_length, padding=True, truncation=True, return_tensors=\"pt\"\n",
        "    )\n",
        "    return input_encodings, label_encodings\n",
        "\n",
        "train_inputs_enc, train_labels_enc = tokenize_data(train_inputs, train_labels, tokenizer)\n",
        "test_inputs_enc, test_labels_enc = tokenize_data(test_inputs, test_labels, tokenizer)"
      ]
    },
    {
      "cell_type": "code",
      "execution_count": null,
      "id": "fa1df9fc",
      "metadata": {
        "execution": {
          "iopub.execute_input": "2025-04-08T15:31:48.286779Z",
          "iopub.status.busy": "2025-04-08T15:31:48.286448Z",
          "iopub.status.idle": "2025-04-08T15:31:48.292567Z",
          "shell.execute_reply": "2025-04-08T15:31:48.291708Z"
        },
        "id": "fa1df9fc",
        "papermill": {
          "duration": 0.018332,
          "end_time": "2025-04-08T15:31:48.293969",
          "exception": false,
          "start_time": "2025-04-08T15:31:48.275637",
          "status": "completed"
        },
        "tags": []
      },
      "outputs": [],
      "source": [
        "class CustomDataset(Dataset):\n",
        "    def __init__(self, encodings, labels):\n",
        "        self.encodings = encodings\n",
        "        self.labels = labels\n",
        "\n",
        "    def __len__(self):\n",
        "        return len(self.labels[\"input_ids\"])\n",
        "\n",
        "    def __getitem__(self, idx):\n",
        "        return {\n",
        "            \"input_ids\": self.encodings[\"input_ids\"][idx],\n",
        "            \"attention_mask\": self.encodings[\"attention_mask\"][idx],\n",
        "            \"labels\": self.labels[\"input_ids\"][idx],\n",
        "        }\n",
        "\n",
        "train_dataset = CustomDataset(train_inputs_enc, train_labels_enc)\n",
        "test_dataset = CustomDataset(test_inputs_enc, test_labels_enc)\n",
        "\n",
        "train_loader = DataLoader(train_dataset, batch_size=8, shuffle=True)\n",
        "test_loader = DataLoader(test_dataset, batch_size=8)"
      ]
    },
    {
      "cell_type": "markdown",
      "id": "0583ccc8",
      "metadata": {
        "id": "0583ccc8",
        "papermill": {
          "duration": 0.009572,
          "end_time": "2025-04-08T15:31:48.313756",
          "exception": false,
          "start_time": "2025-04-08T15:31:48.304184",
          "status": "completed"
        },
        "tags": []
      },
      "source": [
        "Mari kita train model kita kali ini serta menggunakan Optimizer untuk meningkatkan Akurasi model!"
      ]
    },
    {
      "cell_type": "code",
      "execution_count": null,
      "id": "6c216980",
      "metadata": {
        "execution": {
          "iopub.execute_input": "2025-04-08T15:31:48.335137Z",
          "iopub.status.busy": "2025-04-08T15:31:48.334745Z",
          "iopub.status.idle": "2025-04-08T19:05:34.606339Z",
          "shell.execute_reply": "2025-04-08T19:05:34.605170Z"
        },
        "id": "6c216980",
        "papermill": {
          "duration": 12826.320723,
          "end_time": "2025-04-08T19:05:34.644364",
          "exception": false,
          "start_time": "2025-04-08T15:31:48.323641",
          "status": "completed"
        },
        "tags": [],
        "outputId": "ddd9c4df-c555-4c24-ca7d-28c87771be9f"
      },
      "outputs": [
        {
          "name": "stderr",
          "output_type": "stream",
          "text": [
            "Passing a tuple of `past_key_values` is deprecated and will be removed in Transformers v4.48.0. You should pass an instance of `EncoderDecoderCache` instead, e.g. `past_key_values=EncoderDecoderCache.from_legacy_cache(past_key_values)`.\n"
          ]
        },
        {
          "name": "stdout",
          "output_type": "stream",
          "text": [
            "Epoch 1 Loss: 4.180141448974609\n",
            "Epoch 2 Loss: 1.9441581964492798\n",
            "Epoch 3 Loss: 1.0627650022506714\n",
            "Epoch 4 Loss: 1.0866092443466187\n",
            "Epoch 5 Loss: 0.6826836466789246\n",
            "Epoch 6 Loss: 1.846575140953064\n",
            "Epoch 7 Loss: 1.3517345190048218\n",
            "Epoch 8 Loss: 1.8122040033340454\n",
            "Epoch 9 Loss: 0.6971579194068909\n",
            "Epoch 10 Loss: 0.706957995891571\n",
            "Epoch 11 Loss: 1.7709463834762573\n",
            "Epoch 12 Loss: 1.2298071384429932\n",
            "Epoch 13 Loss: 1.09064519405365\n",
            "Epoch 14 Loss: 0.5829105973243713\n",
            "Epoch 15 Loss: 1.3871787786483765\n",
            "Epoch 16 Loss: 1.619104027748108\n",
            "Epoch 17 Loss: 0.5206636190414429\n",
            "Epoch 18 Loss: 1.9741005897521973\n",
            "Epoch 19 Loss: 1.2680760622024536\n",
            "Epoch 20 Loss: 1.3227282762527466\n",
            "Epoch 21 Loss: 0.5812278389930725\n",
            "Epoch 22 Loss: 1.3132556676864624\n",
            "Epoch 23 Loss: 0.4934544563293457\n",
            "Epoch 24 Loss: 1.2179961204528809\n",
            "Epoch 25 Loss: 1.2897816896438599\n",
            "Epoch 26 Loss: 0.49137547612190247\n",
            "Epoch 27 Loss: 0.5016112923622131\n",
            "Epoch 28 Loss: 0.5598205924034119\n",
            "Epoch 29 Loss: 1.070854902267456\n",
            "Epoch 30 Loss: 0.913719892501831\n",
            "Epoch 31 Loss: 0.3507230579853058\n",
            "Epoch 32 Loss: 1.4821480512619019\n",
            "Epoch 33 Loss: 0.5159013271331787\n",
            "Epoch 34 Loss: 0.4661099910736084\n",
            "Epoch 35 Loss: 0.35211288928985596\n",
            "Epoch 36 Loss: 0.34301769733428955\n",
            "Epoch 37 Loss: 1.3058100938796997\n",
            "Epoch 38 Loss: 0.3452262580394745\n",
            "Epoch 39 Loss: 1.1240864992141724\n",
            "Epoch 40 Loss: 1.1978734731674194\n",
            "Epoch 41 Loss: 1.2383328676223755\n",
            "Epoch 42 Loss: 1.1867759227752686\n",
            "Epoch 43 Loss: 0.4241617023944855\n",
            "Epoch 44 Loss: 0.36566051840782166\n",
            "Epoch 45 Loss: 1.0357695817947388\n",
            "Epoch 46 Loss: 0.8425657153129578\n",
            "Epoch 47 Loss: 1.0784167051315308\n",
            "Epoch 48 Loss: 0.6860182285308838\n",
            "Epoch 49 Loss: 0.8946250081062317\n",
            "Epoch 50 Loss: 0.37831738591194153\n",
            "Epoch 51 Loss: 1.5849047899246216\n",
            "Epoch 52 Loss: 0.5007782578468323\n",
            "Epoch 53 Loss: 0.3017495572566986\n",
            "Epoch 54 Loss: 2.3936233520507812\n",
            "Epoch 55 Loss: 1.3043090105056763\n",
            "Epoch 56 Loss: 1.1764793395996094\n",
            "Epoch 57 Loss: 0.30064406991004944\n",
            "Epoch 58 Loss: 0.32131779193878174\n",
            "Epoch 59 Loss: 0.348407119512558\n",
            "Epoch 60 Loss: 0.40158411860466003\n",
            "Epoch 61 Loss: 0.532617449760437\n",
            "Epoch 62 Loss: 0.23888535797595978\n",
            "Epoch 63 Loss: 0.43356117606163025\n",
            "Epoch 64 Loss: 1.5441993474960327\n",
            "Epoch 65 Loss: 1.0314671993255615\n",
            "Epoch 66 Loss: 0.4649766683578491\n",
            "Epoch 67 Loss: 0.4735855758190155\n",
            "Epoch 68 Loss: 0.4257255494594574\n",
            "Epoch 69 Loss: 0.27877864241600037\n",
            "Epoch 70 Loss: 0.44290173053741455\n",
            "Epoch 71 Loss: 0.3046687841415405\n",
            "Epoch 72 Loss: 0.3180977404117584\n",
            "Epoch 73 Loss: 0.39519453048706055\n",
            "Epoch 74 Loss: 0.9256396889686584\n",
            "Epoch 75 Loss: 1.1291793584823608\n",
            "Epoch 76 Loss: 0.3593873083591461\n",
            "Epoch 77 Loss: 0.4737684428691864\n",
            "Epoch 78 Loss: 0.38322117924690247\n",
            "Epoch 79 Loss: 0.4127938449382782\n",
            "Epoch 80 Loss: 0.9478675723075867\n",
            "Epoch 81 Loss: 1.5229402780532837\n",
            "Epoch 82 Loss: 0.523131251335144\n",
            "Epoch 83 Loss: 0.3623107671737671\n",
            "Epoch 84 Loss: 0.46936190128326416\n",
            "Epoch 85 Loss: 0.9272944331169128\n",
            "Epoch 86 Loss: 0.8123035430908203\n",
            "Epoch 87 Loss: 0.8491055369377136\n",
            "Epoch 88 Loss: 0.3945382833480835\n",
            "Epoch 89 Loss: 0.20953309535980225\n",
            "Epoch 90 Loss: 0.28266486525535583\n",
            "Epoch 91 Loss: 0.2944841980934143\n",
            "Epoch 92 Loss: 0.22609864175319672\n",
            "Epoch 93 Loss: 0.34989652037620544\n",
            "Epoch 94 Loss: 0.30949267745018005\n",
            "Epoch 95 Loss: 0.33555683493614197\n",
            "Epoch 96 Loss: 0.4305051565170288\n",
            "Epoch 97 Loss: 0.3194338381290436\n",
            "Epoch 98 Loss: 0.6073686480522156\n",
            "Epoch 99 Loss: 0.7008278965950012\n",
            "Epoch 100 Loss: 0.222662091255188\n",
            "Epoch 101 Loss: 0.8282967209815979\n",
            "Epoch 102 Loss: 0.7822304368019104\n",
            "Epoch 103 Loss: 0.22204725444316864\n",
            "Epoch 104 Loss: 0.2085985541343689\n",
            "Epoch 105 Loss: 0.7859621047973633\n",
            "Epoch 106 Loss: 1.5529674291610718\n",
            "Epoch 107 Loss: 0.9229021072387695\n",
            "Epoch 108 Loss: 0.7691707611083984\n",
            "Epoch 109 Loss: 0.8855814933776855\n",
            "Epoch 110 Loss: 0.24092735350131989\n",
            "Epoch 111 Loss: 0.7608351707458496\n",
            "Epoch 112 Loss: 0.21254171431064606\n",
            "Epoch 113 Loss: 0.23094846308231354\n",
            "Epoch 114 Loss: 0.741633415222168\n",
            "Epoch 115 Loss: 0.217243030667305\n",
            "Epoch 116 Loss: 0.3019322454929352\n",
            "Epoch 117 Loss: 0.26312127709388733\n",
            "Epoch 118 Loss: 0.7647511959075928\n",
            "Epoch 119 Loss: 0.29132118821144104\n",
            "Epoch 120 Loss: 0.35171040892601013\n",
            "Epoch 121 Loss: 1.3210641145706177\n",
            "Epoch 122 Loss: 1.4316734075546265\n",
            "Epoch 123 Loss: 0.783854067325592\n",
            "Epoch 124 Loss: 0.2779674232006073\n",
            "Epoch 125 Loss: 0.2275041788816452\n",
            "Epoch 126 Loss: 0.8528135418891907\n",
            "Epoch 127 Loss: 0.6792340278625488\n",
            "Epoch 128 Loss: 0.2416137307882309\n",
            "Epoch 129 Loss: 0.6031444072723389\n",
            "Epoch 130 Loss: 0.1958891898393631\n",
            "Epoch 131 Loss: 0.42385169863700867\n",
            "Epoch 132 Loss: 0.19991381466388702\n",
            "Epoch 133 Loss: 0.6252728700637817\n",
            "Epoch 134 Loss: 0.8236138224601746\n",
            "Epoch 135 Loss: 1.4009875059127808\n",
            "Epoch 136 Loss: 0.30529648065567017\n",
            "Epoch 137 Loss: 1.0656722784042358\n",
            "Epoch 138 Loss: 0.1993487924337387\n",
            "Epoch 139 Loss: 0.19712771475315094\n",
            "Epoch 140 Loss: 0.17107926309108734\n",
            "Epoch 141 Loss: 0.8463676571846008\n",
            "Epoch 142 Loss: 0.3229660093784332\n",
            "Epoch 143 Loss: 0.23524749279022217\n",
            "Epoch 144 Loss: 0.7894573211669922\n",
            "Epoch 145 Loss: 0.8680077195167542\n",
            "Epoch 146 Loss: 0.5563600659370422\n",
            "Epoch 147 Loss: 0.181076779961586\n",
            "Epoch 148 Loss: 0.32837429642677307\n",
            "Epoch 149 Loss: 0.7066855430603027\n",
            "Epoch 150 Loss: 0.6417988538742065\n",
            "Epoch 151 Loss: 0.34618306159973145\n",
            "Epoch 152 Loss: 0.6298995018005371\n",
            "Epoch 153 Loss: 0.717163622379303\n",
            "Epoch 154 Loss: 0.12887448072433472\n",
            "Epoch 155 Loss: 0.16897428035736084\n",
            "Epoch 156 Loss: 0.23756815493106842\n",
            "Epoch 157 Loss: 0.29434481263160706\n",
            "Epoch 158 Loss: 0.35117673873901367\n",
            "Epoch 159 Loss: 0.2783292829990387\n",
            "Epoch 160 Loss: 0.18681113421916962\n",
            "Epoch 161 Loss: 0.2132723331451416\n",
            "Epoch 162 Loss: 0.2323494404554367\n",
            "Epoch 163 Loss: 0.25093141198158264\n",
            "Epoch 164 Loss: 0.2639629542827606\n",
            "Epoch 165 Loss: 0.293916255235672\n",
            "Epoch 166 Loss: 0.27018818259239197\n",
            "Epoch 167 Loss: 0.24718080461025238\n",
            "Epoch 168 Loss: 0.19993866980075836\n",
            "Epoch 169 Loss: 0.6913906931877136\n",
            "Epoch 170 Loss: 0.21819685399532318\n",
            "Epoch 171 Loss: 0.6861720681190491\n",
            "Epoch 172 Loss: 0.7139609456062317\n",
            "Epoch 173 Loss: 0.20154397189617157\n",
            "Epoch 174 Loss: 0.15079833567142487\n",
            "Epoch 175 Loss: 0.6253483891487122\n",
            "Epoch 176 Loss: 0.7007556557655334\n",
            "Epoch 177 Loss: 0.662247359752655\n",
            "Epoch 178 Loss: 0.2749457061290741\n",
            "Epoch 179 Loss: 0.5949704051017761\n",
            "Epoch 180 Loss: 0.17106032371520996\n",
            "Epoch 181 Loss: 0.5834298133850098\n",
            "Epoch 182 Loss: 0.6549529433250427\n",
            "Epoch 183 Loss: 0.16704463958740234\n",
            "Epoch 184 Loss: 0.14679531753063202\n",
            "Epoch 185 Loss: 0.2559211552143097\n",
            "Epoch 186 Loss: 0.20595575869083405\n",
            "Epoch 187 Loss: 0.8377773761749268\n",
            "Epoch 188 Loss: 0.5905262231826782\n",
            "Epoch 189 Loss: 0.6528477072715759\n",
            "Epoch 190 Loss: 0.24664874374866486\n",
            "Epoch 191 Loss: 0.1892194300889969\n",
            "Epoch 192 Loss: 0.4601931869983673\n",
            "Epoch 193 Loss: 0.9451296329498291\n",
            "Epoch 194 Loss: 0.13233433663845062\n",
            "Epoch 195 Loss: 0.17108623683452606\n",
            "Epoch 196 Loss: 0.2386098951101303\n",
            "Epoch 197 Loss: 0.16318634152412415\n",
            "Epoch 198 Loss: 0.8065611720085144\n",
            "Epoch 199 Loss: 0.20509980618953705\n",
            "Epoch 200 Loss: 0.11614545434713364\n",
            "Epoch 201 Loss: 0.15965636074543\n",
            "Epoch 202 Loss: 0.1704876869916916\n",
            "Epoch 203 Loss: 0.14408758282661438\n",
            "Epoch 204 Loss: 0.15520887076854706\n",
            "Epoch 205 Loss: 0.24369800090789795\n",
            "Epoch 206 Loss: 0.39999011158943176\n",
            "Epoch 207 Loss: 0.4152003824710846\n",
            "Epoch 208 Loss: 0.5827662348747253\n",
            "Epoch 209 Loss: 0.3846702575683594\n",
            "Epoch 210 Loss: 0.4206202030181885\n",
            "Epoch 211 Loss: 0.1516183465719223\n",
            "Epoch 212 Loss: 0.11367461830377579\n",
            "Epoch 213 Loss: 0.9166460633277893\n",
            "Epoch 214 Loss: 0.4992750585079193\n",
            "Epoch 215 Loss: 0.5356308817863464\n",
            "Epoch 216 Loss: 0.5036251544952393\n",
            "Epoch 217 Loss: 0.2063894420862198\n",
            "Epoch 218 Loss: 0.21014493703842163\n",
            "Epoch 219 Loss: 0.3684171438217163\n",
            "Epoch 220 Loss: 0.42734789848327637\n",
            "Epoch 221 Loss: 0.17809540033340454\n",
            "Epoch 222 Loss: 0.31903040409088135\n",
            "Epoch 223 Loss: 0.5306788682937622\n",
            "Epoch 224 Loss: 0.2118527740240097\n",
            "Epoch 225 Loss: 0.6420976519584656\n",
            "Epoch 226 Loss: 0.15189795196056366\n",
            "Epoch 227 Loss: 0.392252653837204\n",
            "Epoch 228 Loss: 0.31433457136154175\n",
            "Epoch 229 Loss: 0.26084065437316895\n",
            "Epoch 230 Loss: 0.4596043825149536\n",
            "Epoch 231 Loss: 0.587551474571228\n",
            "Epoch 232 Loss: 0.1800171583890915\n",
            "Epoch 233 Loss: 0.18798117339611053\n",
            "Epoch 234 Loss: 0.15518295764923096\n",
            "Epoch 235 Loss: 0.51997309923172\n",
            "Epoch 236 Loss: 0.2530306577682495\n",
            "Epoch 237 Loss: 0.6580231189727783\n",
            "Epoch 238 Loss: 0.5835718512535095\n",
            "Epoch 239 Loss: 0.18404847383499146\n",
            "Epoch 240 Loss: 0.12786120176315308\n",
            "Epoch 241 Loss: 0.1544439196586609\n",
            "Epoch 242 Loss: 0.16894157230854034\n",
            "Epoch 243 Loss: 0.18748782575130463\n",
            "Epoch 244 Loss: 0.13658978044986725\n",
            "Epoch 245 Loss: 0.21285293996334076\n",
            "Epoch 246 Loss: 0.5486868023872375\n",
            "Epoch 247 Loss: 0.15658672153949738\n",
            "Epoch 248 Loss: 0.19864840805530548\n",
            "Epoch 249 Loss: 0.47927913069725037\n",
            "Epoch 250 Loss: 0.1712614893913269\n",
            "Epoch 251 Loss: 0.16496135294437408\n",
            "Epoch 252 Loss: 0.15893153846263885\n",
            "Epoch 253 Loss: 0.3025361895561218\n",
            "Epoch 254 Loss: 0.31129908561706543\n",
            "Epoch 255 Loss: 0.21447588503360748\n",
            "Epoch 256 Loss: 0.5491810441017151\n",
            "Epoch 257 Loss: 0.15105955302715302\n",
            "Epoch 258 Loss: 0.10313297063112259\n",
            "Epoch 259 Loss: 0.48411139845848083\n",
            "Epoch 260 Loss: 0.4986802041530609\n",
            "Epoch 261 Loss: 0.12138760089874268\n",
            "Epoch 262 Loss: 0.8149126172065735\n",
            "Epoch 263 Loss: 0.12431264668703079\n",
            "Epoch 264 Loss: 0.09929468482732773\n",
            "Epoch 265 Loss: 0.809688150882721\n",
            "Epoch 266 Loss: 0.6962288022041321\n",
            "Epoch 267 Loss: 0.6111498475074768\n",
            "Epoch 268 Loss: 0.39429494738578796\n",
            "Epoch 269 Loss: 0.3819741904735565\n",
            "Epoch 270 Loss: 0.41402629017829895\n",
            "Epoch 271 Loss: 0.23913465440273285\n",
            "Epoch 272 Loss: 0.16828471422195435\n",
            "Epoch 273 Loss: 0.4845745265483856\n",
            "Epoch 274 Loss: 0.1546994000673294\n",
            "Epoch 275 Loss: 0.13838611543178558\n",
            "Epoch 276 Loss: 0.5591153502464294\n",
            "Epoch 277 Loss: 0.4241284132003784\n",
            "Epoch 278 Loss: 0.7476561665534973\n",
            "Epoch 279 Loss: 0.6545379757881165\n",
            "Epoch 280 Loss: 0.1008286401629448\n",
            "Epoch 281 Loss: 0.10895953327417374\n",
            "Epoch 282 Loss: 0.423433780670166\n",
            "Epoch 283 Loss: 0.12182196974754333\n",
            "Epoch 284 Loss: 0.316769540309906\n",
            "Epoch 285 Loss: 0.17302869260311127\n",
            "Epoch 286 Loss: 0.12139388173818588\n",
            "Epoch 287 Loss: 0.15130941569805145\n",
            "Epoch 288 Loss: 0.10581931471824646\n",
            "Epoch 289 Loss: 0.11358293890953064\n",
            "Epoch 290 Loss: 0.1278800219297409\n",
            "Epoch 291 Loss: 0.45507368445396423\n",
            "Epoch 292 Loss: 0.3947712182998657\n",
            "Epoch 293 Loss: 0.2130262404680252\n",
            "Epoch 294 Loss: 0.9026573300361633\n",
            "Epoch 295 Loss: 0.12596112489700317\n",
            "Epoch 296 Loss: 0.12602554261684418\n",
            "Epoch 297 Loss: 0.45451104640960693\n",
            "Epoch 298 Loss: 0.14804625511169434\n",
            "Epoch 299 Loss: 0.21798042953014374\n",
            "Epoch 300 Loss: 0.1006070077419281\n",
            "Epoch 301 Loss: 0.12756553292274475\n",
            "Epoch 302 Loss: 0.24668653309345245\n",
            "Epoch 303 Loss: 0.16498246788978577\n",
            "Epoch 304 Loss: 0.12597842514514923\n",
            "Epoch 305 Loss: 0.11041507124900818\n",
            "Epoch 306 Loss: 0.41420236229896545\n",
            "Epoch 307 Loss: 0.11985144019126892\n",
            "Epoch 308 Loss: 0.15240593254566193\n",
            "Epoch 309 Loss: 0.0744418278336525\n",
            "Epoch 310 Loss: 0.10306601971387863\n",
            "Epoch 311 Loss: 0.5547446608543396\n",
            "Epoch 312 Loss: 0.1709558218717575\n",
            "Epoch 313 Loss: 0.16727326810359955\n",
            "Epoch 314 Loss: 0.2793121635913849\n",
            "Epoch 315 Loss: 0.07427773624658585\n",
            "Epoch 316 Loss: 0.20298153162002563\n",
            "Epoch 317 Loss: 0.10945755243301392\n",
            "Epoch 318 Loss: 0.09459942579269409\n",
            "Epoch 319 Loss: 0.12445778399705887\n",
            "Epoch 320 Loss: 0.09017255902290344\n",
            "Epoch 321 Loss: 0.49503204226493835\n",
            "Epoch 322 Loss: 0.10277581214904785\n",
            "Epoch 323 Loss: 0.3855687379837036\n",
            "Epoch 324 Loss: 0.5800413489341736\n",
            "Epoch 325 Loss: 0.5224044919013977\n",
            "Epoch 326 Loss: 0.16498152911663055\n",
            "Epoch 327 Loss: 0.1780787855386734\n",
            "Epoch 328 Loss: 0.27707207202911377\n",
            "Epoch 329 Loss: 0.13528825342655182\n",
            "Epoch 330 Loss: 0.2880300283432007\n",
            "Epoch 331 Loss: 0.09814459085464478\n",
            "Epoch 332 Loss: 0.6411854028701782\n",
            "Epoch 333 Loss: 0.16909824311733246\n",
            "Epoch 334 Loss: 0.544214129447937\n",
            "Epoch 335 Loss: 0.32203438878059387\n",
            "Epoch 336 Loss: 0.10945550352334976\n",
            "Epoch 337 Loss: 0.5285277366638184\n",
            "Epoch 338 Loss: 0.1216503158211708\n",
            "Epoch 339 Loss: 0.09464500099420547\n",
            "Epoch 340 Loss: 0.19498588144779205\n",
            "Epoch 341 Loss: 0.3287612497806549\n",
            "Epoch 342 Loss: 0.14920063316822052\n",
            "Epoch 343 Loss: 0.3155823051929474\n",
            "Epoch 344 Loss: 0.10964135080575943\n",
            "Epoch 345 Loss: 0.38811150193214417\n",
            "Epoch 346 Loss: 0.10479896515607834\n",
            "Epoch 347 Loss: 0.09032357484102249\n",
            "Epoch 348 Loss: 0.11345452815294266\n",
            "Epoch 349 Loss: 0.12828902900218964\n",
            "Epoch 350 Loss: 0.06297506392002106\n",
            "Epoch 351 Loss: 0.34139636158943176\n",
            "Epoch 352 Loss: 0.31576481461524963\n",
            "Epoch 353 Loss: 0.47645723819732666\n",
            "Epoch 354 Loss: 0.11403849720954895\n",
            "Epoch 355 Loss: 0.12799815833568573\n",
            "Epoch 356 Loss: 0.3761707842350006\n",
            "Epoch 357 Loss: 0.13856585323810577\n",
            "Epoch 358 Loss: 0.26620960235595703\n",
            "Epoch 359 Loss: 0.33426952362060547\n",
            "Epoch 360 Loss: 0.11604643613100052\n",
            "Epoch 361 Loss: 0.37878724932670593\n",
            "Epoch 362 Loss: 0.12967918813228607\n",
            "Epoch 363 Loss: 0.0975603386759758\n",
            "Epoch 364 Loss: 0.19365130364894867\n",
            "Epoch 365 Loss: 0.6424884796142578\n",
            "Epoch 366 Loss: 0.08983267098665237\n",
            "Epoch 367 Loss: 0.22104620933532715\n",
            "Epoch 368 Loss: 0.07184896618127823\n",
            "Epoch 369 Loss: 0.4430997371673584\n",
            "Epoch 370 Loss: 0.14810708165168762\n",
            "Epoch 371 Loss: 0.10462035983800888\n",
            "Epoch 372 Loss: 0.07829903811216354\n",
            "Epoch 373 Loss: 0.10303890705108643\n",
            "Epoch 374 Loss: 0.21192078292369843\n",
            "Epoch 375 Loss: 0.07395220547914505\n",
            "Epoch 376 Loss: 0.359494686126709\n",
            "Epoch 377 Loss: 0.40726831555366516\n",
            "Epoch 378 Loss: 0.1757793426513672\n",
            "Epoch 379 Loss: 0.07722576707601547\n",
            "Epoch 380 Loss: 0.28138625621795654\n",
            "Epoch 381 Loss: 0.1976521760225296\n",
            "Epoch 382 Loss: 0.08466566354036331\n",
            "Epoch 383 Loss: 0.11690106987953186\n",
            "Epoch 384 Loss: 0.312979519367218\n",
            "Epoch 385 Loss: 0.053794730454683304\n",
            "Epoch 386 Loss: 0.12170199304819107\n",
            "Epoch 387 Loss: 0.15033069252967834\n",
            "Epoch 388 Loss: 0.33953964710235596\n",
            "Epoch 389 Loss: 0.11197476834058762\n",
            "Epoch 390 Loss: 0.07807270437479019\n",
            "Epoch 391 Loss: 0.34373247623443604\n",
            "Epoch 392 Loss: 0.17913824319839478\n",
            "Epoch 393 Loss: 0.0857541486620903\n",
            "Epoch 394 Loss: 0.3243601322174072\n",
            "Epoch 395 Loss: 0.3118726909160614\n",
            "Epoch 396 Loss: 0.06383424997329712\n",
            "Epoch 397 Loss: 0.2193867713212967\n",
            "Epoch 398 Loss: 0.19456060230731964\n",
            "Epoch 399 Loss: 0.17006593942642212\n",
            "Epoch 400 Loss: 0.20640641450881958\n",
            "Epoch 401 Loss: 0.08567047864198685\n",
            "Epoch 402 Loss: 0.1973448544740677\n",
            "Epoch 403 Loss: 0.17145061492919922\n",
            "Epoch 404 Loss: 0.054960932582616806\n",
            "Epoch 405 Loss: 0.07280101627111435\n",
            "Epoch 406 Loss: 0.04279804229736328\n",
            "Epoch 407 Loss: 0.1496496945619583\n",
            "Epoch 408 Loss: 0.18592888116836548\n",
            "Epoch 409 Loss: 0.27039971947669983\n",
            "Epoch 410 Loss: 0.10396970063447952\n",
            "Epoch 411 Loss: 0.06190170720219612\n",
            "Epoch 412 Loss: 0.2580377161502838\n",
            "Epoch 413 Loss: 0.16891823709011078\n",
            "Epoch 414 Loss: 0.060892779380083084\n",
            "Epoch 415 Loss: 0.3316906690597534\n",
            "Epoch 416 Loss: 0.10703196376562119\n",
            "Epoch 417 Loss: 0.06449314951896667\n",
            "Epoch 418 Loss: 0.18398696184158325\n",
            "Epoch 419 Loss: 0.07610178738832474\n",
            "Epoch 420 Loss: 0.07025202363729477\n",
            "Epoch 421 Loss: 0.2530003786087036\n",
            "Epoch 422 Loss: 0.21587391197681427\n",
            "Epoch 423 Loss: 0.11122599244117737\n",
            "Epoch 424 Loss: 0.06692730635404587\n",
            "Epoch 425 Loss: 0.35905003547668457\n",
            "Epoch 426 Loss: 0.04560984671115875\n",
            "Epoch 427 Loss: 0.07014989107847214\n",
            "Epoch 428 Loss: 0.05798918381333351\n",
            "Epoch 429 Loss: 0.10338982194662094\n",
            "Epoch 430 Loss: 0.06103513762354851\n",
            "Epoch 431 Loss: 0.1302812248468399\n",
            "Epoch 432 Loss: 0.08565395325422287\n",
            "Epoch 433 Loss: 0.12677954137325287\n",
            "Epoch 434 Loss: 0.07508484274148941\n",
            "Epoch 435 Loss: 0.1987553834915161\n",
            "Epoch 436 Loss: 0.057856086641550064\n",
            "Epoch 437 Loss: 0.2712327241897583\n",
            "Epoch 438 Loss: 0.33352673053741455\n",
            "Epoch 439 Loss: 0.3367139995098114\n",
            "Epoch 440 Loss: 0.16241168975830078\n",
            "Epoch 441 Loss: 0.19765634834766388\n",
            "Epoch 442 Loss: 0.0594860203564167\n",
            "Epoch 443 Loss: 0.1656045764684677\n",
            "Epoch 444 Loss: 0.3048444092273712\n",
            "Epoch 445 Loss: 0.13718341290950775\n",
            "Epoch 446 Loss: 0.06971071660518646\n",
            "Epoch 447 Loss: 0.046372950077056885\n",
            "Epoch 448 Loss: 0.05638134479522705\n",
            "Epoch 449 Loss: 0.04625404253602028\n",
            "Epoch 450 Loss: 0.1606121063232422\n",
            "Epoch 451 Loss: 0.045736074447631836\n",
            "Epoch 452 Loss: 0.06207054480910301\n",
            "Epoch 453 Loss: 0.14078721404075623\n",
            "Epoch 454 Loss: 0.07621634751558304\n",
            "Epoch 455 Loss: 0.08582635968923569\n",
            "Epoch 456 Loss: 0.17619693279266357\n",
            "Epoch 457 Loss: 0.06044945493340492\n",
            "Epoch 458 Loss: 0.06740773469209671\n",
            "Epoch 459 Loss: 0.07811575382947922\n",
            "Epoch 460 Loss: 0.08173540979623795\n",
            "Epoch 461 Loss: 0.1246357187628746\n",
            "Epoch 462 Loss: 0.06343089789152145\n",
            "Epoch 463 Loss: 0.10891225188970566\n",
            "Epoch 464 Loss: 0.18139314651489258\n",
            "Epoch 465 Loss: 0.05251340940594673\n",
            "Epoch 466 Loss: 0.05492950603365898\n",
            "Epoch 467 Loss: 0.06545720249414444\n",
            "Epoch 468 Loss: 0.08216679096221924\n",
            "Epoch 469 Loss: 0.05023175850510597\n",
            "Epoch 470 Loss: 0.06140339747071266\n",
            "Epoch 471 Loss: 0.10207297652959824\n",
            "Epoch 472 Loss: 0.2683601677417755\n",
            "Epoch 473 Loss: 0.14909867942333221\n",
            "Epoch 474 Loss: 0.06579972058534622\n",
            "Epoch 475 Loss: 0.05307896062731743\n",
            "Epoch 476 Loss: 0.048620447516441345\n",
            "Epoch 477 Loss: 0.07428769022226334\n",
            "Epoch 478 Loss: 0.09924810379743576\n",
            "Epoch 479 Loss: 0.23655039072036743\n",
            "Epoch 480 Loss: 0.06499700993299484\n",
            "Epoch 481 Loss: 0.042116716504096985\n",
            "Epoch 482 Loss: 0.2006700485944748\n",
            "Epoch 483 Loss: 0.0420185811817646\n",
            "Epoch 484 Loss: 0.03419424965977669\n",
            "Epoch 485 Loss: 0.06496582180261612\n",
            "Epoch 486 Loss: 0.17044512927532196\n",
            "Epoch 487 Loss: 0.06670968234539032\n",
            "Epoch 488 Loss: 0.16120252013206482\n",
            "Epoch 489 Loss: 0.040046535432338715\n",
            "Epoch 490 Loss: 0.31124329566955566\n",
            "Epoch 491 Loss: 0.06125180795788765\n",
            "Epoch 492 Loss: 0.04686981812119484\n",
            "Epoch 493 Loss: 0.12459909915924072\n",
            "Epoch 494 Loss: 0.04634690284729004\n",
            "Epoch 495 Loss: 0.1735304445028305\n",
            "Epoch 496 Loss: 0.1662292331457138\n",
            "Epoch 497 Loss: 0.1515757441520691\n",
            "Epoch 498 Loss: 0.12742029130458832\n",
            "Epoch 499 Loss: 0.058935195207595825\n",
            "Epoch 500 Loss: 0.24213363230228424\n"
          ]
        }
      ],
      "source": [
        "optimizer = AdamW(model.parameters(), lr=5e-6)\n",
        "\n",
        "device = torch.device(\"cuda\") if torch.cuda.is_available() else torch.device(\"cpu\")\n",
        "model.to(device)\n",
        "\n",
        "epochs = 500\n",
        "for epoch in range(epochs):\n",
        "    model.train()\n",
        "    for batch in train_loader:\n",
        "        optimizer.zero_grad()\n",
        "\n",
        "        input_ids = batch[\"input_ids\"].to(device)\n",
        "        attention_mask = batch[\"attention_mask\"].to(device)\n",
        "        labels = batch[\"labels\"].to(device)\n",
        "\n",
        "        outputs = model(input_ids=input_ids, attention_mask=attention_mask, labels=labels)\n",
        "        loss = outputs.loss\n",
        "        loss.backward()\n",
        "        optimizer.step()\n",
        "\n",
        "    print(f\"Epoch {epoch + 1} Loss: {loss.item()}\")"
      ]
    },
    {
      "cell_type": "markdown",
      "id": "07db16cc",
      "metadata": {
        "id": "07db16cc",
        "papermill": {
          "duration": 0.036266,
          "end_time": "2025-04-08T19:05:34.718153",
          "exception": false,
          "start_time": "2025-04-08T19:05:34.681887",
          "status": "completed"
        },
        "tags": []
      },
      "source": [
        "Epoch terakhir menunjukkan 0.13 Loss"
      ]
    },
    {
      "cell_type": "markdown",
      "id": "3daaa6c6",
      "metadata": {
        "id": "3daaa6c6",
        "papermill": {
          "duration": 0.03612,
          "end_time": "2025-04-08T19:05:34.790279",
          "exception": false,
          "start_time": "2025-04-08T19:05:34.754159",
          "status": "completed"
        },
        "tags": []
      },
      "source": [
        "## Model Testing"
      ]
    },
    {
      "cell_type": "code",
      "execution_count": null,
      "id": "9ab660d4",
      "metadata": {
        "execution": {
          "iopub.execute_input": "2025-04-08T19:05:34.867282Z",
          "iopub.status.busy": "2025-04-08T19:05:34.866911Z",
          "iopub.status.idle": "2025-04-08T19:05:36.368470Z",
          "shell.execute_reply": "2025-04-08T19:05:36.367304Z"
        },
        "id": "9ab660d4",
        "papermill": {
          "duration": 1.542375,
          "end_time": "2025-04-08T19:05:36.370222",
          "exception": false,
          "start_time": "2025-04-08T19:05:34.827847",
          "status": "completed"
        },
        "tags": [],
        "outputId": "74afd7db-191a-46e8-97e9-cedd0f447f2d"
      },
      "outputs": [
        {
          "name": "stdout",
          "output_type": "stream",
          "text": [
            "--------------------------------------------------\n",
            "input_txt: Why does Allah allow bad people to succeed in this world?\n",
            "true_label: The Quran warns that worldly success is a test: 'Do not be deceived by the prosperity of those who disbelieve' (3:196). True success lies in righteousness.\n",
            "true_pred: Allah allows bad people to succeed in this world by fostering moral and spiritual growth.\n",
            "--------------------------------------------------\n",
            "input_txt: What does the Quran teach about the responsibility of using reason to safeguard one’s faith?\n",
            "true_label: It teaches that using reason is a fundamental responsibility that protects and strengthens one’s faith.\n",
            "true_pred: It teaches that using reason to safeguard one’s faith is a duty that best serves humanity.\n",
            "--------------------------------------------------\n",
            "input_txt: What does the Quran teach about handling criticism within the family?\n",
            "true_label: The Quran encourages using constructive criticism as an opportunity for growth, responding with patience and humility.\n",
            "true_pred: The Quran teaches that constructive criticism is essential for maintaining strong familial bonds.\n",
            "--------------------------------------------------\n",
            "input_txt: What guidance does the Quran offer for handling disagreements over household responsibilities between working parents?\n",
            "true_label: Equitable sharing and open communication between working parents are essential for resolving household responsibility conflicts.\n",
            "true_pred: Working parents should resolve household responsibilities through consultation and fairness, ensuring that children remain a part of Allah’s family.\n",
            "--------------------------------------------------\n",
            "input_txt: How does the Quran guide us in resolving conflicts when family members disagree on the use of family time for religious practices?\n",
            "true_label: Conflicts over religious practices are resolved through mutual agreement and collective worship, as the Quran encourages.\n",
            "true_pred: Resolving religious practices conflicts involves prioritizing religious practices over family time, as guided by the Quran.\n",
            "--------------------------------------------------\n",
            "input_txt: Explain the Quranic concept of 'Adl' (justice) and its different dimensions: legal, social, and economic.\n",
            "true_label: 'Adl' (justice) is foundational in Quranic teachings, encompassing legal, social, and economic dimensions. Legal justice is fair judgment and equal legal treatment (4:135, 5:8). Social justice is equity and protecting rights, especially for vulnerable (16:90). Economic justice is fair wealth distribution and needs fulfillment (59:7, 9:60). Quran mandates establishing justice in all life aspects as divine command and reflection of Allah's attribute Al-Adl. Justice is a comprehensive Islamic ethical and social principle, not solely legal.\n",
            "true_pred: 'Adl' (justice) is a broad concept meaning lawful, social, and economic justice, according to the Quran. Quran commands three dimensions: legal, social, and economic. Adl includes responsibility (\n",
            "--------------------------------------------------\n",
            "input_txt: If Allah knows everything, do we really have free will?\n",
            "true_label: Though Allah knows everything, humans have free will to choose their path. The Quran says: 'Indeed, We guided him to the way, be he grateful or ungrateful' (76:3).\n",
            "true_pred: Allah knows everything, but do we really have free will to choose?\n",
            "--------------------------------------------------\n",
            "input_txt: What does the Quran say about the importance of self-reflection in resolving personal conflicts within the family?\n",
            "true_label: Self-reflection and continuous self-improvement are key to resolving personal conflicts, as the Quran teaches.\n",
            "true_pred: Self-reflection is key to resolving conflicts by addressing personal shortcomings and societal issues, as taught by the Quran.\n"
          ]
        }
      ],
      "source": [
        "model.eval()\n",
        "for batch in test_loader:\n",
        "    input_ids = batch[\"input_ids\"].to(device)\n",
        "    attention_mask = batch[\"attention_mask\"].to(device)\n",
        "    labels = batch[\"labels\"].to(device)\n",
        "\n",
        "    input_texts = [tokenizer.decode(ids, skip_special_tokens=True) for ids in input_ids]\n",
        "    true_labels = [tokenizer.decode(label, skip_special_tokens=True) for label in labels]\n",
        "\n",
        "    outputs = model.generate(\n",
        "        input_ids=input_ids,\n",
        "        attention_mask=attention_mask,\n",
        "        max_length=50\n",
        "    )\n",
        "    predictions = [tokenizer.decode(output, skip_special_tokens=True) for output in outputs]\n",
        "\n",
        "    for input_text, true_label, pred in zip(input_texts, true_labels, predictions):\n",
        "        print(\"-\" * 50)\n",
        "        print(f\"input_txt: {input_text}\")\n",
        "        print(f\"true_label: {true_label}\")\n",
        "        print(f\"true_pred: {pred}\")\n",
        "\n",
        "    break"
      ]
    },
    {
      "cell_type": "markdown",
      "id": "6b7d077d",
      "metadata": {
        "id": "6b7d077d",
        "papermill": {
          "duration": 0.037279,
          "end_time": "2025-04-08T19:05:36.445556",
          "exception": false,
          "start_time": "2025-04-08T19:05:36.408277",
          "status": "completed"
        },
        "tags": []
      },
      "source": [
        "## Model Evaluation"
      ]
    },
    {
      "cell_type": "code",
      "execution_count": null,
      "id": "5b941c47",
      "metadata": {
        "execution": {
          "iopub.execute_input": "2025-04-08T19:05:36.522343Z",
          "iopub.status.busy": "2025-04-08T19:05:36.521971Z",
          "iopub.status.idle": "2025-04-08T19:05:36.544044Z",
          "shell.execute_reply": "2025-04-08T19:05:36.542866Z"
        },
        "id": "5b941c47",
        "papermill": {
          "duration": 0.062881,
          "end_time": "2025-04-08T19:05:36.545852",
          "exception": false,
          "start_time": "2025-04-08T19:05:36.482971",
          "status": "completed"
        },
        "tags": [],
        "outputId": "7538fe21-029c-4dc2-c422-d0428acb1d32"
      },
      "outputs": [
        {
          "name": "stdout",
          "output_type": "stream",
          "text": [
            "Average BLEU Score: 0.2947562178879598\n",
            "Average ROUGE-1 Score: 0.41613898941108995\n",
            "Average ROUGE-L Score: 0.3328403134189982\n"
          ]
        },
        {
          "name": "stderr",
          "output_type": "stream",
          "text": [
            "/usr/local/lib/python3.10/dist-packages/nltk/translate/bleu_score.py:490: UserWarning: \n",
            "Corpus/Sentence contains 0 counts of 2-gram overlaps.\n",
            "BLEU scores might be undesirable; use SmoothingFunction().\n",
            "  warnings.warn(_msg)\n",
            "/usr/local/lib/python3.10/dist-packages/nltk/translate/bleu_score.py:490: UserWarning: \n",
            "Corpus/Sentence contains 0 counts of 3-gram overlaps.\n",
            "BLEU scores might be undesirable; use SmoothingFunction().\n",
            "  warnings.warn(_msg)\n",
            "/usr/local/lib/python3.10/dist-packages/nltk/translate/bleu_score.py:490: UserWarning: \n",
            "Corpus/Sentence contains 0 counts of 4-gram overlaps.\n",
            "BLEU scores might be undesirable; use SmoothingFunction().\n",
            "  warnings.warn(_msg)\n"
          ]
        }
      ],
      "source": [
        "# Initialize the ROUGE scorer\n",
        "scorer = rouge_scorer.RougeScorer(['rouge1', 'rougeL'], use_stemmer=True)\n",
        "\n",
        "# Assuming 'predictions' and 'true_labels' are lists of strings from the previous code block\n",
        "\n",
        "bleu_scores = []\n",
        "rouge1_scores = []\n",
        "rougeL_scores = []\n",
        "\n",
        "for prediction, true_label in zip(predictions, true_labels):\n",
        "  # Calculate BLEU score\n",
        "  reference = [true_label.split()]\n",
        "  candidate = prediction.split()\n",
        "  bleu_score = sentence_bleu(reference, candidate)\n",
        "  bleu_scores.append(bleu_score)\n",
        "\n",
        "  # Calculate ROUGE scores\n",
        "  scores = scorer.score(true_label, prediction)\n",
        "  rouge1_scores.append(scores['rouge1'].fmeasure)\n",
        "  rougeL_scores.append(scores['rougeL'].fmeasure)\n",
        "\n",
        "# Calculate average scores\n",
        "avg_bleu = np.mean(bleu_scores)\n",
        "avg_rouge1 = np.mean(rouge1_scores)\n",
        "avg_rougeL = np.mean(rougeL_scores)\n",
        "\n",
        "print(f\"Average BLEU Score: {avg_bleu}\")\n",
        "print(f\"Average ROUGE-1 Score: {avg_rouge1}\")\n",
        "print(f\"Average ROUGE-L Score: {avg_rougeL}\")\n"
      ]
    },
    {
      "cell_type": "markdown",
      "id": "2319c5f2",
      "metadata": {
        "id": "2319c5f2",
        "papermill": {
          "duration": 0.04251,
          "end_time": "2025-04-08T19:05:36.628873",
          "exception": false,
          "start_time": "2025-04-08T19:05:36.586363",
          "status": "completed"
        },
        "tags": []
      },
      "source": [
        "## Penjelasan Setiap Metrik\n",
        "\n",
        "---\n",
        "\n",
        "- **BLEU (Bilingual Evaluation Understudy)**\n",
        "\n",
        "  > Nilai: > 0.2\n",
        "\n",
        "  BLEU digunakan untuk mengukur kemiripan antara hasil generasi model dengan jawaban referensi berdasarkan kesamaan n-gram.\n",
        "\n",
        "  Skor BLEU di atas 0.2 dalam konteks QnA generatif dianggap **Moderat**, terutama pada teks yang bersifat reasoning atau naratif karena bentuk jawaban bisa sangat variatif.\n",
        "\n",
        "  Dalam model kali ini, skor BLEU kita menunjukkan bahwa model menghasilkan jawaban yang memiliki kemiripan n-gram dengan referensi, namun tetap menyisakan ruang untuk peningkatan struktur dan kesesuaian kata.\n",
        "\n",
        "---\n",
        "\n",
        "- **ROUGE-1**\n",
        "  > Nilai: > 0.4\n",
        "\n",
        "  Mengukur kesamaan kata secara langsung (unigram overlap) antara jawaban model dan jawaban referensi.\n",
        "\n",
        "  Skor di atas 0.4 dianggap **Cukup Baik** untuk tugas QnA generatif, menunjukkan bahwa model mampu menangkap sebagian besar kata kunci dari jawaban referensi.\n",
        "\n",
        "---\n",
        "\n",
        "- **ROUGE-L**\n",
        "  > Nilai: > 0.3\n",
        "\n",
        "  Mengukur kesamaan struktur atau urutan kata (longest common subsequence).\n",
        "\n",
        "  Skor di atas 0.3 menunjukkan bahwa model **Cukup Baik** dalam meniru sebagian struktur kalimat dari jawaban referensi, meskipun belum sepenuhnya presisi secara sintaksis."
      ]
    },
    {
      "cell_type": "markdown",
      "id": "2470f0f0",
      "metadata": {
        "id": "2470f0f0",
        "papermill": {
          "duration": 0.036678,
          "end_time": "2025-04-08T19:05:36.702644",
          "exception": false,
          "start_time": "2025-04-08T19:05:36.665966",
          "status": "completed"
        },
        "tags": []
      },
      "source": [
        "## Model Saving"
      ]
    },
    {
      "cell_type": "code",
      "execution_count": null,
      "id": "38b4100e",
      "metadata": {
        "execution": {
          "iopub.execute_input": "2025-04-08T19:05:36.778088Z",
          "iopub.status.busy": "2025-04-08T19:05:36.777716Z",
          "iopub.status.idle": "2025-04-08T19:05:38.945078Z",
          "shell.execute_reply": "2025-04-08T19:05:38.943858Z"
        },
        "id": "38b4100e",
        "papermill": {
          "duration": 2.207179,
          "end_time": "2025-04-08T19:05:38.946687",
          "exception": false,
          "start_time": "2025-04-08T19:05:36.739508",
          "status": "completed"
        },
        "tags": [],
        "outputId": "cdaee24c-cea8-458d-a48e-8394839ef2af"
      },
      "outputs": [
        {
          "name": "stdout",
          "output_type": "stream",
          "text": [
            "Model saved to /kaggle/working/Model\n"
          ]
        }
      ],
      "source": [
        "# Save the model\n",
        "model_path = \"/kaggle/working/Model\"\n",
        "model.save_pretrained(model_path)\n",
        "tokenizer.save_pretrained(model_path)\n",
        "\n",
        "print(f\"Model saved to {model_path}\")"
      ]
    }
  ],
  "metadata": {
    "colab": {
      "provenance": []
    },
    "kaggle": {
      "accelerator": "gpu",
      "dataSources": [
        {
          "datasetId": 1948398,
          "sourceId": 3241687,
          "sourceType": "datasetVersion"
        },
        {
          "datasetId": 6873426,
          "sourceId": 11035442,
          "sourceType": "datasetVersion"
        }
      ],
      "dockerImageVersionId": 30919,
      "isGpuEnabled": true,
      "isInternetEnabled": true,
      "language": "python",
      "sourceType": "notebook"
    },
    "kernelspec": {
      "display_name": "Python 3",
      "language": "python",
      "name": "python3"
    },
    "language_info": {
      "codemirror_mode": {
        "name": "ipython",
        "version": 3
      },
      "file_extension": ".py",
      "mimetype": "text/x-python",
      "name": "python",
      "nbconvert_exporter": "python",
      "pygments_lexer": "ipython3",
      "version": "3.10.12"
    },
    "papermill": {
      "default_parameters": {},
      "duration": 12886.319185,
      "end_time": "2025-04-08T19:05:42.290280",
      "environment_variables": {},
      "exception": null,
      "input_path": "__notebook__.ipynb",
      "output_path": "__notebook__.ipynb",
      "parameters": {},
      "start_time": "2025-04-08T15:30:55.971095",
      "version": "2.6.0"
    },
    "widgets": {
      "application/vnd.jupyter.widget-state+json": {}
    }
  },
  "nbformat": 4,
  "nbformat_minor": 5
}