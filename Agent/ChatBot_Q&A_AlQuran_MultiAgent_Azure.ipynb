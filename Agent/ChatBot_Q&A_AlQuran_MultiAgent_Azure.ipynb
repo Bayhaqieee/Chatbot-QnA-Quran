{
  "nbformat": 4,
  "nbformat_minor": 0,
  "metadata": {
    "colab": {
      "provenance": [],
      "authorship_tag": "ABX9TyNIJ8miz9O+iIoYlvMedF2+"
    },
    "kernelspec": {
      "name": "python3",
      "display_name": "Python 3"
    },
    "language_info": {
      "name": "python"
    }
  },
  "cells": [
    {
      "cell_type": "code",
      "execution_count": null,
      "metadata": {
        "id": "uTslzYOb8BeB"
      },
      "outputs": [],
      "source": []
    }
  ]
}